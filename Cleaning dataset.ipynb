{
 "cells": [
  {
   "cell_type": "code",
   "execution_count": 1,
   "metadata": {},
   "outputs": [
    {
     "name": "stderr",
     "output_type": "stream",
     "text": [
      "/Applications/anaconda3/lib/python3.7/site-packages/statsmodels/tools/_testing.py:19: FutureWarning: pandas.util.testing is deprecated. Use the functions in the public API at pandas.testing instead.\n",
      "  import pandas.util.testing as tm\n"
     ]
    }
   ],
   "source": [
    "import pandas as pd\n",
    "import numpy as np\n",
    "import matplotlib.pyplot as plt\n",
    "import shapefile as shp\n",
    "import seaborn as sns\n",
    "import geopandas as gpd\n",
    "import folium\n",
    "import datetime\n",
    "from shapely.geometry import Polygon"
   ]
  },
  {
   "cell_type": "code",
   "execution_count": 2,
   "metadata": {},
   "outputs": [],
   "source": [
    "from plotly import __version__\n",
    "import cufflinks as cf"
   ]
  },
  {
   "cell_type": "code",
   "execution_count": 3,
   "metadata": {},
   "outputs": [
    {
     "data": {
      "text/html": [
       "        <script type=\"text/javascript\">\n",
       "        window.PlotlyConfig = {MathJaxConfig: 'local'};\n",
       "        if (window.MathJax) {MathJax.Hub.Config({SVG: {font: \"STIX-Web\"}});}\n",
       "        if (typeof require !== 'undefined') {\n",
       "        require.undef(\"plotly\");\n",
       "        requirejs.config({\n",
       "            paths: {\n",
       "                'plotly': ['https://cdn.plot.ly/plotly-latest.min']\n",
       "            }\n",
       "        });\n",
       "        require(['plotly'], function(Plotly) {\n",
       "            window._Plotly = Plotly;\n",
       "        });\n",
       "        }\n",
       "        </script>\n",
       "        "
      ]
     },
     "metadata": {},
     "output_type": "display_data"
    },
    {
     "data": {
      "text/html": [
       "        <script type=\"text/javascript\">\n",
       "        window.PlotlyConfig = {MathJaxConfig: 'local'};\n",
       "        if (window.MathJax) {MathJax.Hub.Config({SVG: {font: \"STIX-Web\"}});}\n",
       "        if (typeof require !== 'undefined') {\n",
       "        require.undef(\"plotly\");\n",
       "        requirejs.config({\n",
       "            paths: {\n",
       "                'plotly': ['https://cdn.plot.ly/plotly-latest.min']\n",
       "            }\n",
       "        });\n",
       "        require(['plotly'], function(Plotly) {\n",
       "            window._Plotly = Plotly;\n",
       "        });\n",
       "        }\n",
       "        </script>\n",
       "        "
      ]
     },
     "metadata": {},
     "output_type": "display_data"
    }
   ],
   "source": [
    "from plotly.offline import download_plotlyjs,init_notebook_mode,plot,iplot\n",
    "init_notebook_mode(connected=True)\n",
    "cf.go_offline()"
   ]
  },
  {
   "cell_type": "code",
   "execution_count": 4,
   "metadata": {},
   "outputs": [],
   "source": [
    "%matplotlib inline"
   ]
  },
  {
   "cell_type": "code",
   "execution_count": 5,
   "metadata": {},
   "outputs": [
    {
     "data": {
      "text/plain": [
       "['Unnamed: 0',\n",
       " 'Trip ID',\n",
       " 'Trip Start Timestamp',\n",
       " 'Trip End Timestamp',\n",
       " 'Trip Seconds',\n",
       " 'Trip Miles',\n",
       " 'Pickup Census Tract',\n",
       " 'Dropoff Census Tract',\n",
       " 'Pickup Community Area',\n",
       " 'Dropoff Community Area',\n",
       " 'Fare',\n",
       " 'Tip',\n",
       " 'Additional Charges',\n",
       " 'Trip Total',\n",
       " 'Shared Trip Authorized',\n",
       " 'Trips Pooled',\n",
       " 'Pickup Centroid Latitude',\n",
       " 'Pickup Centroid Longitude',\n",
       " 'Pickup Centroid Location',\n",
       " 'Dropoff Centroid Latitude',\n",
       " 'Dropoff Centroid Longitude',\n",
       " 'Dropoff Centroid Location']"
      ]
     },
     "execution_count": 5,
     "metadata": {},
     "output_type": "execute_result"
    }
   ],
   "source": [
    "# Import dataset\n",
    "# https://www.dataquest.io/blog/pandas-big-data/\n",
    "df = pd.read_csv(\"Sampled_RH_dataset.csv\")\n",
    "\n",
    "# Filter dataset\n",
    "list(df.columns)"
   ]
  },
  {
   "cell_type": "code",
   "execution_count": null,
   "metadata": {},
   "outputs": [],
   "source": [
    "df.info(memory_usage=\"deep\")"
   ]
  },
  {
   "cell_type": "markdown",
   "metadata": {},
   "source": [
    "# Data preprocessing (cleaning data)"
   ]
  },
  {
   "cell_type": "code",
   "execution_count": 6,
   "metadata": {},
   "outputs": [
    {
     "data": {
      "text/html": [
       "<div>\n",
       "<style scoped>\n",
       "    .dataframe tbody tr th:only-of-type {\n",
       "        vertical-align: middle;\n",
       "    }\n",
       "\n",
       "    .dataframe tbody tr th {\n",
       "        vertical-align: top;\n",
       "    }\n",
       "\n",
       "    .dataframe thead th {\n",
       "        text-align: right;\n",
       "    }\n",
       "</style>\n",
       "<table border=\"1\" class=\"dataframe\">\n",
       "  <thead>\n",
       "    <tr style=\"text-align: right;\">\n",
       "      <th></th>\n",
       "      <th>Trip ID</th>\n",
       "      <th>Trip Start Timestamp</th>\n",
       "      <th>Trip End Timestamp</th>\n",
       "      <th>Trip Seconds</th>\n",
       "      <th>Trip Miles</th>\n",
       "      <th>Pickup Census Tract</th>\n",
       "      <th>Dropoff Census Tract</th>\n",
       "      <th>Trip Total</th>\n",
       "      <th>Shared Trip Authorized</th>\n",
       "      <th>Trips Pooled</th>\n",
       "      <th>Pickup Centroid Latitude</th>\n",
       "      <th>Pickup Centroid Longitude</th>\n",
       "      <th>Pickup Centroid Location</th>\n",
       "      <th>Dropoff Centroid Latitude</th>\n",
       "      <th>Dropoff Centroid Longitude</th>\n",
       "      <th>Dropoff Centroid Location</th>\n",
       "    </tr>\n",
       "  </thead>\n",
       "  <tbody>\n",
       "    <tr>\n",
       "      <th>0</th>\n",
       "      <td>c7661e85fe9b588a0dada78c493a52e3599e435f</td>\n",
       "      <td>02/04/2019 06:30:00 PM</td>\n",
       "      <td>02/04/2019 06:45:00 PM</td>\n",
       "      <td>1270.0</td>\n",
       "      <td>3.8</td>\n",
       "      <td>1.703184e+10</td>\n",
       "      <td>1.703124e+10</td>\n",
       "      <td>5.05</td>\n",
       "      <td>True</td>\n",
       "      <td>6</td>\n",
       "      <td>41.880994</td>\n",
       "      <td>-87.632746</td>\n",
       "      <td>POINT (-87.6327464887 41.8809944707)</td>\n",
       "      <td>41.912364</td>\n",
       "      <td>-87.675063</td>\n",
       "      <td>POINT (-87.6750627566 41.9123643542)</td>\n",
       "    </tr>\n",
       "    <tr>\n",
       "      <th>1</th>\n",
       "      <td>c013b63cefbb16a8251586dd6ab04d31f8f42cb3</td>\n",
       "      <td>01/05/2019 02:45:00 AM</td>\n",
       "      <td>01/05/2019 03:00:00 AM</td>\n",
       "      <td>962.0</td>\n",
       "      <td>8.5</td>\n",
       "      <td>NaN</td>\n",
       "      <td>NaN</td>\n",
       "      <td>15.05</td>\n",
       "      <td>False</td>\n",
       "      <td>1</td>\n",
       "      <td>41.899602</td>\n",
       "      <td>-87.633308</td>\n",
       "      <td>POINT (-87.6333080367 41.899602111)</td>\n",
       "      <td>41.968069</td>\n",
       "      <td>-87.721559</td>\n",
       "      <td>POINT (-87.7215590627 41.968069)</td>\n",
       "    </tr>\n",
       "    <tr>\n",
       "      <th>2</th>\n",
       "      <td>c6036c4b6dd0cfa563823a82c4472201e8f4f044</td>\n",
       "      <td>01/19/2019 04:15:00 PM</td>\n",
       "      <td>01/19/2019 04:30:00 PM</td>\n",
       "      <td>353.0</td>\n",
       "      <td>0.8</td>\n",
       "      <td>1.703184e+10</td>\n",
       "      <td>1.703184e+10</td>\n",
       "      <td>7.55</td>\n",
       "      <td>False</td>\n",
       "      <td>1</td>\n",
       "      <td>41.853835</td>\n",
       "      <td>-87.693539</td>\n",
       "      <td>POINT (-87.6935387966 41.853834685)</td>\n",
       "      <td>41.855501</td>\n",
       "      <td>-87.683227</td>\n",
       "      <td>POINT (-87.683227168 41.8555013528)</td>\n",
       "    </tr>\n",
       "    <tr>\n",
       "      <th>3</th>\n",
       "      <td>c30387fd0452828350411906001e3872954958e2</td>\n",
       "      <td>01/11/2019 03:00:00 PM</td>\n",
       "      <td>01/11/2019 03:30:00 PM</td>\n",
       "      <td>1221.0</td>\n",
       "      <td>6.2</td>\n",
       "      <td>1.703108e+10</td>\n",
       "      <td>1.703184e+10</td>\n",
       "      <td>15.05</td>\n",
       "      <td>False</td>\n",
       "      <td>1</td>\n",
       "      <td>41.899156</td>\n",
       "      <td>-87.626211</td>\n",
       "      <td>POINT (-87.6262105324 41.8991556134)</td>\n",
       "      <td>41.841860</td>\n",
       "      <td>-87.639202</td>\n",
       "      <td>POINT (-87.6392016498 41.8418595653)</td>\n",
       "    </tr>\n",
       "    <tr>\n",
       "      <th>4</th>\n",
       "      <td>c63cbc0d9adf033435d4d712125057ae87b430dd</td>\n",
       "      <td>11/03/2018 12:30:00 PM</td>\n",
       "      <td>11/03/2018 12:30:00 PM</td>\n",
       "      <td>342.0</td>\n",
       "      <td>1.9</td>\n",
       "      <td>1.703103e+10</td>\n",
       "      <td>1.703106e+10</td>\n",
       "      <td>8.50</td>\n",
       "      <td>False</td>\n",
       "      <td>1</td>\n",
       "      <td>41.962179</td>\n",
       "      <td>-87.645379</td>\n",
       "      <td>POINT (-87.6453787624 41.962178629)</td>\n",
       "      <td>41.949829</td>\n",
       "      <td>-87.643965</td>\n",
       "      <td>POINT (-87.6439653703 41.949829346)</td>\n",
       "    </tr>\n",
       "    <tr>\n",
       "      <th>...</th>\n",
       "      <td>...</td>\n",
       "      <td>...</td>\n",
       "      <td>...</td>\n",
       "      <td>...</td>\n",
       "      <td>...</td>\n",
       "      <td>...</td>\n",
       "      <td>...</td>\n",
       "      <td>...</td>\n",
       "      <td>...</td>\n",
       "      <td>...</td>\n",
       "      <td>...</td>\n",
       "      <td>...</td>\n",
       "      <td>...</td>\n",
       "      <td>...</td>\n",
       "      <td>...</td>\n",
       "      <td>...</td>\n",
       "    </tr>\n",
       "    <tr>\n",
       "      <th>1149995</th>\n",
       "      <td>5311ff8f3a54a3137a83f88ccb449e4f824491de</td>\n",
       "      <td>03/22/2019 01:15:00 AM</td>\n",
       "      <td>03/22/2019 01:30:00 AM</td>\n",
       "      <td>667.0</td>\n",
       "      <td>7.5</td>\n",
       "      <td>NaN</td>\n",
       "      <td>NaN</td>\n",
       "      <td>12.55</td>\n",
       "      <td>False</td>\n",
       "      <td>1</td>\n",
       "      <td>41.899602</td>\n",
       "      <td>-87.633308</td>\n",
       "      <td>POINT (-87.6333080367 41.899602111)</td>\n",
       "      <td>41.953582</td>\n",
       "      <td>-87.723452</td>\n",
       "      <td>POINT (-87.7234523905 41.9535821253)</td>\n",
       "    </tr>\n",
       "    <tr>\n",
       "      <th>1149996</th>\n",
       "      <td>4f98416947efec4e1e8ce1b74a2c5c11bc5c8674</td>\n",
       "      <td>02/15/2019 03:00:00 PM</td>\n",
       "      <td>02/15/2019 03:15:00 PM</td>\n",
       "      <td>495.0</td>\n",
       "      <td>1.2</td>\n",
       "      <td>1.703108e+10</td>\n",
       "      <td>1.703108e+10</td>\n",
       "      <td>7.55</td>\n",
       "      <td>False</td>\n",
       "      <td>1</td>\n",
       "      <td>41.905858</td>\n",
       "      <td>-87.630865</td>\n",
       "      <td>POINT (-87.6308650266 41.9058577688)</td>\n",
       "      <td>41.899156</td>\n",
       "      <td>-87.626211</td>\n",
       "      <td>POINT (-87.6262105324 41.8991556134)</td>\n",
       "    </tr>\n",
       "    <tr>\n",
       "      <th>1149997</th>\n",
       "      <td>50b2d9374e6f27569744c2086c8a1fdb8cd48bc9</td>\n",
       "      <td>02/18/2019 08:30:00 AM</td>\n",
       "      <td>02/18/2019 09:00:00 AM</td>\n",
       "      <td>1620.0</td>\n",
       "      <td>6.5</td>\n",
       "      <td>1.703101e+10</td>\n",
       "      <td>1.703106e+10</td>\n",
       "      <td>7.50</td>\n",
       "      <td>True</td>\n",
       "      <td>3</td>\n",
       "      <td>42.009413</td>\n",
       "      <td>-87.663958</td>\n",
       "      <td>POINT (-87.6639582144 42.0094125471)</td>\n",
       "      <td>41.938391</td>\n",
       "      <td>-87.638575</td>\n",
       "      <td>POINT (-87.6385749205 41.9383912577)</td>\n",
       "    </tr>\n",
       "    <tr>\n",
       "      <th>1149998</th>\n",
       "      <td>504ef8e388b974ad38441554d47e1b2e9eb41842</td>\n",
       "      <td>11/10/2018 06:15:00 AM</td>\n",
       "      <td>11/10/2018 06:30:00 AM</td>\n",
       "      <td>727.0</td>\n",
       "      <td>6.8</td>\n",
       "      <td>1.703138e+10</td>\n",
       "      <td>1.703128e+10</td>\n",
       "      <td>10.00</td>\n",
       "      <td>True</td>\n",
       "      <td>2</td>\n",
       "      <td>41.808512</td>\n",
       "      <td>-87.613999</td>\n",
       "      <td>POINT (-87.6139994504 41.808511513)</td>\n",
       "      <td>41.879255</td>\n",
       "      <td>-87.642649</td>\n",
       "      <td>POINT (-87.642648998 41.8792550844)</td>\n",
       "    </tr>\n",
       "    <tr>\n",
       "      <th>1149999</th>\n",
       "      <td>510d4679e0e71cd67e04d52105211c415a7dfe61</td>\n",
       "      <td>01/18/2019 10:30:00 AM</td>\n",
       "      <td>01/18/2019 11:15:00 AM</td>\n",
       "      <td>2358.0</td>\n",
       "      <td>23.2</td>\n",
       "      <td>1.703198e+10</td>\n",
       "      <td>NaN</td>\n",
       "      <td>41.06</td>\n",
       "      <td>False</td>\n",
       "      <td>1</td>\n",
       "      <td>41.979071</td>\n",
       "      <td>-87.903040</td>\n",
       "      <td>POINT (-87.9030396611 41.9790708201)</td>\n",
       "      <td>NaN</td>\n",
       "      <td>NaN</td>\n",
       "      <td>NaN</td>\n",
       "    </tr>\n",
       "  </tbody>\n",
       "</table>\n",
       "<p>1150000 rows × 16 columns</p>\n",
       "</div>"
      ],
      "text/plain": [
       "                                          Trip ID    Trip Start Timestamp  \\\n",
       "0        c7661e85fe9b588a0dada78c493a52e3599e435f  02/04/2019 06:30:00 PM   \n",
       "1        c013b63cefbb16a8251586dd6ab04d31f8f42cb3  01/05/2019 02:45:00 AM   \n",
       "2        c6036c4b6dd0cfa563823a82c4472201e8f4f044  01/19/2019 04:15:00 PM   \n",
       "3        c30387fd0452828350411906001e3872954958e2  01/11/2019 03:00:00 PM   \n",
       "4        c63cbc0d9adf033435d4d712125057ae87b430dd  11/03/2018 12:30:00 PM   \n",
       "...                                           ...                     ...   \n",
       "1149995  5311ff8f3a54a3137a83f88ccb449e4f824491de  03/22/2019 01:15:00 AM   \n",
       "1149996  4f98416947efec4e1e8ce1b74a2c5c11bc5c8674  02/15/2019 03:00:00 PM   \n",
       "1149997  50b2d9374e6f27569744c2086c8a1fdb8cd48bc9  02/18/2019 08:30:00 AM   \n",
       "1149998  504ef8e388b974ad38441554d47e1b2e9eb41842  11/10/2018 06:15:00 AM   \n",
       "1149999  510d4679e0e71cd67e04d52105211c415a7dfe61  01/18/2019 10:30:00 AM   \n",
       "\n",
       "             Trip End Timestamp  Trip Seconds  Trip Miles  \\\n",
       "0        02/04/2019 06:45:00 PM        1270.0         3.8   \n",
       "1        01/05/2019 03:00:00 AM         962.0         8.5   \n",
       "2        01/19/2019 04:30:00 PM         353.0         0.8   \n",
       "3        01/11/2019 03:30:00 PM        1221.0         6.2   \n",
       "4        11/03/2018 12:30:00 PM         342.0         1.9   \n",
       "...                         ...           ...         ...   \n",
       "1149995  03/22/2019 01:30:00 AM         667.0         7.5   \n",
       "1149996  02/15/2019 03:15:00 PM         495.0         1.2   \n",
       "1149997  02/18/2019 09:00:00 AM        1620.0         6.5   \n",
       "1149998  11/10/2018 06:30:00 AM         727.0         6.8   \n",
       "1149999  01/18/2019 11:15:00 AM        2358.0        23.2   \n",
       "\n",
       "         Pickup Census Tract  Dropoff Census Tract  Trip Total  \\\n",
       "0               1.703184e+10          1.703124e+10        5.05   \n",
       "1                        NaN                   NaN       15.05   \n",
       "2               1.703184e+10          1.703184e+10        7.55   \n",
       "3               1.703108e+10          1.703184e+10       15.05   \n",
       "4               1.703103e+10          1.703106e+10        8.50   \n",
       "...                      ...                   ...         ...   \n",
       "1149995                  NaN                   NaN       12.55   \n",
       "1149996         1.703108e+10          1.703108e+10        7.55   \n",
       "1149997         1.703101e+10          1.703106e+10        7.50   \n",
       "1149998         1.703138e+10          1.703128e+10       10.00   \n",
       "1149999         1.703198e+10                   NaN       41.06   \n",
       "\n",
       "         Shared Trip Authorized  Trips Pooled  Pickup Centroid Latitude  \\\n",
       "0                          True             6                 41.880994   \n",
       "1                         False             1                 41.899602   \n",
       "2                         False             1                 41.853835   \n",
       "3                         False             1                 41.899156   \n",
       "4                         False             1                 41.962179   \n",
       "...                         ...           ...                       ...   \n",
       "1149995                   False             1                 41.899602   \n",
       "1149996                   False             1                 41.905858   \n",
       "1149997                    True             3                 42.009413   \n",
       "1149998                    True             2                 41.808512   \n",
       "1149999                   False             1                 41.979071   \n",
       "\n",
       "         Pickup Centroid Longitude              Pickup Centroid Location  \\\n",
       "0                       -87.632746  POINT (-87.6327464887 41.8809944707)   \n",
       "1                       -87.633308   POINT (-87.6333080367 41.899602111)   \n",
       "2                       -87.693539   POINT (-87.6935387966 41.853834685)   \n",
       "3                       -87.626211  POINT (-87.6262105324 41.8991556134)   \n",
       "4                       -87.645379   POINT (-87.6453787624 41.962178629)   \n",
       "...                            ...                                   ...   \n",
       "1149995                 -87.633308   POINT (-87.6333080367 41.899602111)   \n",
       "1149996                 -87.630865  POINT (-87.6308650266 41.9058577688)   \n",
       "1149997                 -87.663958  POINT (-87.6639582144 42.0094125471)   \n",
       "1149998                 -87.613999   POINT (-87.6139994504 41.808511513)   \n",
       "1149999                 -87.903040  POINT (-87.9030396611 41.9790708201)   \n",
       "\n",
       "         Dropoff Centroid Latitude  Dropoff Centroid Longitude  \\\n",
       "0                        41.912364                  -87.675063   \n",
       "1                        41.968069                  -87.721559   \n",
       "2                        41.855501                  -87.683227   \n",
       "3                        41.841860                  -87.639202   \n",
       "4                        41.949829                  -87.643965   \n",
       "...                            ...                         ...   \n",
       "1149995                  41.953582                  -87.723452   \n",
       "1149996                  41.899156                  -87.626211   \n",
       "1149997                  41.938391                  -87.638575   \n",
       "1149998                  41.879255                  -87.642649   \n",
       "1149999                        NaN                         NaN   \n",
       "\n",
       "                    Dropoff Centroid Location  \n",
       "0        POINT (-87.6750627566 41.9123643542)  \n",
       "1            POINT (-87.7215590627 41.968069)  \n",
       "2         POINT (-87.683227168 41.8555013528)  \n",
       "3        POINT (-87.6392016498 41.8418595653)  \n",
       "4         POINT (-87.6439653703 41.949829346)  \n",
       "...                                       ...  \n",
       "1149995  POINT (-87.7234523905 41.9535821253)  \n",
       "1149996  POINT (-87.6262105324 41.8991556134)  \n",
       "1149997  POINT (-87.6385749205 41.9383912577)  \n",
       "1149998   POINT (-87.642648998 41.8792550844)  \n",
       "1149999                                   NaN  \n",
       "\n",
       "[1150000 rows x 16 columns]"
      ]
     },
     "execution_count": 6,
     "metadata": {},
     "output_type": "execute_result"
    }
   ],
   "source": [
    "df.drop([\"Unnamed: 0\", \"Pickup Community Area\", \n",
    "          \"Dropoff Community Area\", \"Fare\", \"Tip\",\n",
    "          \"Additional Charges\"], axis=1)"
   ]
  },
  {
   "cell_type": "code",
   "execution_count": null,
   "metadata": {},
   "outputs": [],
   "source": [
    "# Count missing values\n",
    "# df.isnull().sum()\n",
    "\n",
    "# Summary statistics\n",
    "df.describe().astype(int)"
   ]
  },
  {
   "cell_type": "code",
   "execution_count": 7,
   "metadata": {},
   "outputs": [],
   "source": [
    "# Approach 1 to month, day, hour variables out of timestamp.\n",
    "# Step1: convert pickup and dropoff timestamp from objects into \n",
    "# datetime format, making analysis of date and time easier.\n",
    "df[\"Trip Start Timestamp\"] = pd.to_datetime(df[\"Trip Start Timestamp\"])\n",
    "df[\"Trip End Timestamp\"] = pd.to_datetime(df[\"Trip End Timestamp\"])"
   ]
  },
  {
   "cell_type": "code",
   "execution_count": 8,
   "metadata": {},
   "outputs": [],
   "source": [
    "# Extract month and day from the pickup and dropoff variables.\n",
    "df[\"Pickup_month\"] = pd.DatetimeIndex(df[\"Trip Start Timestamp\"]).month\n",
    "df[\"Dropoff_month\"] = pd.DatetimeIndex(df[\"Trip End Timestamp\"]).month\n",
    "df[\"Pickup_day\"] = pd.DatetimeIndex(df[\"Trip Start Timestamp\"]).day\n",
    "df[\"Dropoff_day\"] = pd.DatetimeIndex(df[\"Trip End Timestamp\"]).day\n",
    "df[\"Pickup_hour\"] = pd.DatetimeIndex(df[\"Trip Start Timestamp\"]).hour\n",
    "df[\"Dropoff_hour\"] = pd.DatetimeIndex(df[\"Trip End Timestamp\"]).hour"
   ]
  },
  {
   "cell_type": "code",
   "execution_count": 9,
   "metadata": {},
   "outputs": [],
   "source": [
    "# Distribution of time-series in week of the year, and weekdays.\n",
    "df[\"Pickup_day_of_week\"] = pd.DatetimeIndex(df[\"Trip Start Timestamp\"]).dayofweek\n",
    "df[\"Dropoff_day_of_week\"] = pd.DatetimeIndex(df[\"Trip End Timestamp\"]).dayofweek\n",
    "\n",
    "df[\"Pickup_week_of_year\"] = pd.DatetimeIndex(df[\"Trip Start Timestamp\"]).week\n",
    "df[\"Dropoff_week_of_year\"] = pd.DatetimeIndex(df[\"Trip End Timestamp\"]).week"
   ]
  },
  {
   "cell_type": "code",
   "execution_count": null,
   "metadata": {},
   "outputs": [],
   "source": [
    "df[\"Trip Seconds\"].describe().astype(int)"
   ]
  },
  {
   "cell_type": "code",
   "execution_count": null,
   "metadata": {},
   "outputs": [],
   "source": [
    "# Calculate 1-100th percentile of data.\n",
    "for i in range(1,100,10):\n",
    "    var = df[\"Trip Seconds\"].values\n",
    "    var = np.sort(var,axis=None)\n",
    "    print(\"{} percentile value is {}\".format(i, var[int(len(var)*(float(i)/100))]))\n",
    "print (\"100 percentile value is \",var[-1])"
   ]
  },
  {
   "cell_type": "code",
   "execution_count": null,
   "metadata": {},
   "outputs": [],
   "source": [
    "# Produce subplots related to trip features to show postive skew of data.\n",
    "# Creates histograms to see distribution but also outliers.\n",
    "df.hist([\"Trip Seconds\", \"Trip Miles\", \"Trip Total\", \"Trips Pooled\"], bins=40)\n",
    "plt.tight_layout()\n",
    "#plt.savefig(\"Distribution time, distance, fare total\", dpi=200)"
   ]
  },
  {
   "cell_type": "code",
   "execution_count": null,
   "metadata": {},
   "outputs": [],
   "source": [
    "# Create a correlation matrix of relevant variables\n",
    "smalldf = df[[\"Trip Seconds\", \"Trip Miles\", \"Trip Total\", \"Trips Pooled\"]]\n",
    "smalldf.corr(method=\"pearson\")"
   ]
  },
  {
   "cell_type": "code",
   "execution_count": null,
   "metadata": {},
   "outputs": [],
   "source": [
    "# Line of code showing Trips longer than X seconds.\n",
    "df.loc[smalldf['Trip Seconds'] > 4000]"
   ]
  },
  {
   "cell_type": "code",
   "execution_count": null,
   "metadata": {},
   "outputs": [],
   "source": [
    "df[\"Trip Seconds\"].plot.hist(bins=50) # Create a histogram to see distribution but also outliers.\n",
    "plt.title(\"Trip duration in seconds\")\n",
    "# plt.savefig(\"Trip duration in seconds\", dpi=100)"
   ]
  },
  {
   "cell_type": "code",
   "execution_count": null,
   "metadata": {},
   "outputs": [],
   "source": [
    "#Find anomalies according to 3*STD and put them in a list.\n",
    "data_std = np.std(df[\"Trips Pooled\"])\n",
    "data_mean = np.mean(df[\"Trips Pooled\"])\n",
    "anomaly_cutoff = data_std * 3\n",
    "\n",
    "upper = data_mean + anomaly_cutoff\n",
    "lower = data_mean - anomaly_cutoff\n",
    "\n",
    "outliers = [x for x in data[\"Trips Pooled\"] if x > upper or x < lower]\n",
    "len(outliers)"
   ]
  },
  {
   "cell_type": "code",
   "execution_count": null,
   "metadata": {},
   "outputs": [],
   "source": [
    "df.plot(x ='Trip Miles', y='Trip Seconds', kind = 'scatter')\n",
    "plt.title(\"Time x Distance\")\n",
    "# plt.savefig(\"Time x Distance\", dpi=100)"
   ]
  },
  {
   "cell_type": "code",
   "execution_count": null,
   "metadata": {},
   "outputs": [],
   "source": [
    "# Check whether Trip Total are correlated to Trips Pooled.\n",
    "df.plot(x ='Trips Pooled', y='Trip Total', kind = 'scatter')\n",
    "#plt.savefig(\"Trip Total x Trips Pooled\", dpi=100)\n",
    "#data[\"Trip Total\"].corr(data[\"Trips Pooled\"])"
   ]
  },
  {
   "cell_type": "code",
   "execution_count": null,
   "metadata": {},
   "outputs": [],
   "source": [
    "len([x for x in df[\"Trip Seconds\"] if x > 5000])"
   ]
  },
  {
   "cell_type": "code",
   "execution_count": 10,
   "metadata": {},
   "outputs": [],
   "source": [
    "# Create an average speed variable to identify rides where time and\n",
    "# distance don't match up.\n",
    "df[\"Average Speed\"] = (df[\"Trip Miles\"]/(df[\"Trip Seconds\"])*3600)\n"
   ]
  },
  {
   "cell_type": "markdown",
   "metadata": {},
   "source": [
    "# Optimize dtypes from float64 and int64 to float32 and int32"
   ]
  },
  {
   "cell_type": "code",
   "execution_count": null,
   "metadata": {},
   "outputs": [],
   "source": [
    "# First , change columns with dtype float64 to float32\n",
    "df[[\"Trip Seconds\", \"Trip Miles\", \"Pickup Census Tract\", \n",
    "     \"Dropoff Census Tract\", \"Trip Total\", \"Pickup Centroid Latitude\", \n",
    "     \"Pickup Centroid Longitude\", \"Dropoff Centroid Latitude\", \n",
    "    \"Dropoff Centroid Longitude\", \"Average Speed\"]] = df[[\"Trip Seconds\", \"Trip Miles\", \"Pickup Census Tract\", \n",
    "                                                          \"Dropoff Census Tract\", \"Trip Total\", \"Pickup Centroid Latitude\", \"Pickup Centroid Longitude\", \n",
    "                                                          \"Dropoff Centroid Latitude\", \"Dropoff Centroid Longitude\", \"Average Speed\"]].astype(\"float32\")\n",
    "\n",
    "# Second, change variables with dtype int64 to int32.\n",
    "df[[\"Trips Pooled\", \"Pickup_month\", \"Dropoff_month\",\n",
    "      \"Pickup_day\", \"Dropoff_day\", \"Pickup_hour\", \n",
    "      \"Dropoff_hour\"]] = df[[\"Trips Pooled\", \"Pickup_month\", \"Dropoff_month\",\n",
    "                                        \"Pickup_day\", \"Dropoff_day\", \"Pickup_hour\", \n",
    "                                        \"Dropoff_hour\",]].astype(\"int32\")\n",
    "\n",
    "\n",
    "# Change dtype of \"Pickup_day_of_week\" and \"Dropoff_day_of_week\"\n",
    "# and \"Pickup_week_of_year\" and \"Dropoff_week_of_year\"\n",
    "# from int64 to int32.\n",
    "df[[\"Pickup_day_of_week\", \"Dropoff_day_of_week\",\n",
    "    \"Pickup_week_of_year\", \"Dropoff_week_of_year\"]] = df[[\"Pickup_day_of_week\", \"Dropoff_day_of_week\",\n",
    "                                                            \"Pickup_week_of_year\", \"Dropoff_week_of_year\"]].astype(\"int32\")\n"
   ]
  },
  {
   "cell_type": "code",
   "execution_count": null,
   "metadata": {},
   "outputs": [],
   "source": [
    "df.info(memory_usage=\"deep\")"
   ]
  },
  {
   "cell_type": "code",
   "execution_count": null,
   "metadata": {},
   "outputs": [],
   "source": [
    "df[\"Average Speed\"].plot.box()"
   ]
  },
  {
   "cell_type": "code",
   "execution_count": null,
   "metadata": {},
   "outputs": [],
   "source": [
    "for i in range(90,100,1):\n",
    "    var = df[\"Average Speed\"].values\n",
    "    var = np.sort(var,axis=None)\n",
    "    print(\"{} percentile value is {}\".format(i, var[int(len(var)*(float(i)/100))]))\n",
    "print (\"100 percentile value is \",var[-1])"
   ]
  },
  {
   "cell_type": "code",
   "execution_count": null,
   "metadata": {},
   "outputs": [],
   "source": [
    "len([x for x in df[\"Average Speed\"] if x < 3])"
   ]
  },
  {
   "cell_type": "code",
   "execution_count": 11,
   "metadata": {},
   "outputs": [],
   "source": [
    "# Slice out rows with certain values.\n",
    "large_time = df[\"Trip Seconds\"] > 10800 # Create Boolean variable\n",
    "short_time = df[\"Trip Seconds\"] < 60\n",
    "large_miles = df[\"Trip Miles\"] > 200\n",
    "short_miles = df[\"Trip Miles\"] < 0.3 # This is 0.3 miles = 0.5 km.\n",
    "large_fare = df[\"Trip Total\"] > 200\n",
    "low_fare = df[\"Trip Total\"] < 2\n",
    "low_speed = df[\"Average Speed\"] < 3 # This is 3 miles per hour.\n",
    "high_speed = df[\"Average Speed\"] > 60\n",
    "outlier_tripsecmilesfare = df[large_time | short_time | \n",
    "                                large_miles | short_miles| \n",
    "                                large_fare | low_fare |\n",
    "                                high_speed | low_speed].index # Use Boolean variable to filter dataframe.\n",
    "\n",
    "df.drop(outlier_tripsecmilesfare, inplace=True, axis=0)"
   ]
  },
  {
   "cell_type": "code",
   "execution_count": null,
   "metadata": {},
   "outputs": [],
   "source": [
    "df.describe().astype(int)"
   ]
  },
  {
   "cell_type": "code",
   "execution_count": null,
   "metadata": {},
   "outputs": [],
   "source": [
    "df[\"Average Speed\"].describe().astype(int)"
   ]
  },
  {
   "cell_type": "markdown",
   "metadata": {},
   "source": [
    "# Visualizing pickup- and dropoff locations"
   ]
  },
  {
   "cell_type": "code",
   "execution_count": 14,
   "metadata": {},
   "outputs": [],
   "source": [
    "# Create an interactive base map.\n",
    "# Default_location: start location based on coordinates.\n",
    "# Zoom_start: defines default magnifing level.\n",
    "def generateBaseMap(default_location=[41.881832, -87.623177], default_zoom_start=10):\n",
    "    bmap = folium.Map(location=default_location, control_scale=True, zoom_start=default_zoom_start)\n",
    "    return bmap"
   ]
  },
  {
   "cell_type": "code",
   "execution_count": 15,
   "metadata": {},
   "outputs": [
    {
     "data": {
      "text/html": [
       "<div style=\"width:100%;\"><div style=\"position:relative;width:100%;height:0;padding-bottom:60%;\"><iframe src=\"about:blank\" style=\"position:absolute;width:100%;height:100%;left:0;top:0;border:none !important;\" data-html=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 onload=\"this.contentDocument.open();this.contentDocument.write(atob(this.getAttribute('data-html')));this.contentDocument.close();\" allowfullscreen webkitallowfullscreen mozallowfullscreen></iframe></div></div>"
      ],
      "text/plain": [
       "<folium.folium.Map at 0x1c2bb33510>"
      ]
     },
     "execution_count": 15,
     "metadata": {},
     "output_type": "execute_result"
    }
   ],
   "source": [
    "bmap = generateBaseMap()\n",
    "bmap"
   ]
  },
  {
   "cell_type": "code",
   "execution_count": 13,
   "metadata": {
    "scrolled": true
   },
   "outputs": [
    {
     "ename": "NameError",
     "evalue": "name 'generateBaseMap' is not defined",
     "output_type": "error",
     "traceback": [
      "\u001b[0;31m---------------------------------------------------------------------------\u001b[0m",
      "\u001b[0;31mNameError\u001b[0m                                 Traceback (most recent call last)",
      "\u001b[0;32m<ipython-input-13-b6b691135704>\u001b[0m in \u001b[0;36m<module>\u001b[0;34m\u001b[0m\n\u001b[1;32m      3\u001b[0m \u001b[0;34m\u001b[0m\u001b[0m\n\u001b[1;32m      4\u001b[0m \u001b[0mdf\u001b[0m\u001b[0;34m[\u001b[0m\u001b[0;34m'Count'\u001b[0m\u001b[0;34m]\u001b[0m \u001b[0;34m=\u001b[0m \u001b[0;36m1\u001b[0m\u001b[0;34m\u001b[0m\u001b[0;34m\u001b[0m\u001b[0m\n\u001b[0;32m----> 5\u001b[0;31m \u001b[0mbmap\u001b[0m \u001b[0;34m=\u001b[0m \u001b[0mgenerateBaseMap\u001b[0m\u001b[0;34m(\u001b[0m\u001b[0;34m)\u001b[0m\u001b[0;34m\u001b[0m\u001b[0;34m\u001b[0m\u001b[0m\n\u001b[0m\u001b[1;32m      6\u001b[0m \u001b[0;31m#Pickup coordinates\u001b[0m\u001b[0;34m\u001b[0m\u001b[0;34m\u001b[0m\u001b[0;34m\u001b[0m\u001b[0m\n\u001b[1;32m      7\u001b[0m \u001b[0;31m#HeatMap(data=data[[\"Pickup Centroid Latitude\", \"Pickup Centroid Longitude\", \"count\"]].groupby([\"Pickup Centroid Latitude\", \"Pickup Centroid Longitude\"]).sum().reset_index().values.tolist(), radius=8, max_zoom=13).add_to(bmap)\u001b[0m\u001b[0;34m\u001b[0m\u001b[0;34m\u001b[0m\u001b[0;34m\u001b[0m\u001b[0m\n",
      "\u001b[0;31mNameError\u001b[0m: name 'generateBaseMap' is not defined"
     ]
    }
   ],
   "source": [
    "# Plot heatmap.\n",
    "from folium.plugins import HeatMap\n",
    "\n",
    "df['Count'] = 1\n",
    "bmap = generateBaseMap()\n",
    "#Pickup coordinates\n",
    "#HeatMap(data=data[[\"Pickup Centroid Latitude\", \"Pickup Centroid Longitude\", \"count\"]].groupby([\"Pickup Centroid Latitude\", \"Pickup Centroid Longitude\"]).sum().reset_index().values.tolist(), radius=8, max_zoom=13).add_to(bmap)\n",
    "\n",
    "#Dropoff coordinates\n",
    "HeatMap(data=df[[\"Dropoff Centroid Latitude\", \"Dropoff Centroid Longitude\", \"Count\"]].groupby([\"Dropoff Centroid Latitude\", \"Dropoff Centroid Longitude\"]).sum().reset_index().values.tolist(), radius=8, max_zoom=13).add_to(bmap)\n",
    "\n"
   ]
  },
  {
   "cell_type": "code",
   "execution_count": null,
   "metadata": {},
   "outputs": [],
   "source": [
    "bmap"
   ]
  },
  {
   "cell_type": "code",
   "execution_count": null,
   "metadata": {},
   "outputs": [],
   "source": [
    "# Heatmaps with a time dynamic component part 1.\n",
    "pickup_hourly = []\n",
    "\n",
    "for hour in df[\"Pickup_hour\"].sort_values().unique():\n",
    "    pickup_hourly.append(df.loc[df[\"Pickup_hour\"] == hour, [\"Pickup Centroid Latitude\", \"Pickup Centroid Longitude\", \"Count\"]].groupby([\"Pickup Centroid Latitude\", \"Pickup Centroid Longitude\"]).sum().reset_index().values.tolist())\n"
   ]
  },
  {
   "cell_type": "code",
   "execution_count": null,
   "metadata": {},
   "outputs": [],
   "source": [
    "# Heatmaps with a time dynamic component part 2.\n",
    "from folium.plugins import HeatMapWithTime\n",
    "\n",
    "bmap = generateBaseMap(default_zoom_start=11)\n",
    "HeatMapWithTime(pickup_hourly, radius=5, gradient={0.2: 'blue', 0.3: 'lime', 0.5: 'orange', 0.6: 'red'}, min_opacity=0.5, max_opacity=0.8, use_local_extrema=True).add_to(bmap)\n",
    "bmap\n",
    "\n",
    "# Need to make this HOURLY --> first make an hour and 15th minute feature."
   ]
  },
  {
   "cell_type": "markdown",
   "metadata": {},
   "source": [
    "# Mapping Chicago with Geopandas from scratch with Cencus tracts."
   ]
  },
  {
   "cell_type": "code",
   "execution_count": null,
   "metadata": {},
   "outputs": [],
   "source": []
  },
  {
   "cell_type": "markdown",
   "metadata": {},
   "source": [
    "# Time-series analysis on a monthly, weekly, and hourly basis (also spatial analysis)"
   ]
  },
  {
   "cell_type": "code",
   "execution_count": null,
   "metadata": {},
   "outputs": [],
   "source": [
    "df.info()"
   ]
  },
  {
   "cell_type": "code",
   "execution_count": null,
   "metadata": {},
   "outputs": [],
   "source": []
  },
  {
   "cell_type": "code",
   "execution_count": null,
   "metadata": {},
   "outputs": [],
   "source": [
    "df[\"Pickup_day_of_week\"].value_counts()\n",
    "# Most pickups are on Friday and Saturday. Monday has the least."
   ]
  },
  {
   "cell_type": "code",
   "execution_count": null,
   "metadata": {},
   "outputs": [],
   "source": [
    "df[\"Dropoff_day_of_week\"].value_counts()\n",
    "# Most Dropoffs are on Friday and Saturday. Monday has the least."
   ]
  },
  {
   "cell_type": "code",
   "execution_count": null,
   "metadata": {},
   "outputs": [],
   "source": [
    "# Visual time-series of trips per day of week.\n",
    "df[\"Pickup_day_of_week\"].plot.bar()\n",
    "\n",
    "plt.title(\"Picks distribution by day\")\n",
    "# plt.savefig(\"Trip duration in seconds\", dpi=100)"
   ]
  },
  {
   "cell_type": "code",
   "execution_count": null,
   "metadata": {},
   "outputs": [],
   "source": [
    "# Create function that makes a distribution of pickups and dropoffs\n",
    "# during the day.\n",
    "# Here, time is represented into 4 time parts: early morning (4AM - 10 AM),\n",
    "# afternoon (10AM - 4PM), late afternoon/evening (4PM - 10PM)\n",
    "# and late night (10PM - 4AM)\n",
    "\n",
    "def timezone(x):\n",
    "    if x>= datetime.time(6, 0, 1) and x <= datetime.time(12, 0, 0):\n",
    "        return \"Early Morning\"\n",
    "    if x>= datetime.time(12, 0, 1) and x <= datetime.time(18, 0, 0):\n",
    "        return \"Midday\"\n",
    "    if x>= datetime.time(18, 0, 1) and x <= datetime.time(24, 0, 0):\n",
    "        return \"Evening\"\n",
    "    if x>= datetime.time(24, 0, 1) and x <= datetime.time(6, 0, 0):\n",
    "        return \"Night\"\n",
    "    \n",
    "df[\"Pickup_timezone\"] = df[\"Start Time\"].apply(lambda x: timezone())"
   ]
  },
  {
   "cell_type": "code",
   "execution_count": 14,
   "metadata": {},
   "outputs": [],
   "source": [
    "# Write smaller csv\n",
    "df['Count'] = 1\n",
    "\n",
    "df[[\"Trip ID\", \"Trip Start Timestamp\", \"Trip End Timestamp\", \n",
    "    \"Trip Seconds\", \"Trip Miles\", \"Pickup Census Tract\", \n",
    "    \"Dropoff Census Tract\", \"Trip Total\", \"Shared Trip Authorized\",\n",
    "    \"Trips Pooled\", \"Pickup Centroid Latitude\", \"Pickup Centroid Longitude\",\n",
    "    \"Pickup Centroid Location\", \"Dropoff Centroid Latitude\", \n",
    "    \"Dropoff Centroid Longitude\", \"Dropoff Centroid Location\",\n",
    "    \"Pickup_month\", \"Dropoff_month\", \"Pickup_day\", \"Dropoff_day\",\n",
    "    \"Pickup_hour\", \"Dropoff_hour\", \"Pickup_day_of_week\",\n",
    "    \"Dropoff_day_of_week\", \"Pickup_week_of_year\", \"Dropoff_week_of_year\",\n",
    "    \"Average Speed\", \"Count\"]].to_csv('RH_dataset_clean_w_censustracts.csv', index=\"False\")"
   ]
  },
  {
   "cell_type": "code",
   "execution_count": 18,
   "metadata": {},
   "outputs": [
    {
     "name": "stdout",
     "output_type": "stream",
     "text": [
      "<class 'pandas.core.frame.DataFrame'>\n",
      "Int64Index: 1142290 entries, 0 to 1149999\n",
      "Data columns (total 34 columns):\n",
      " #   Column                      Non-Null Count    Dtype         \n",
      "---  ------                      --------------    -----         \n",
      " 0   Unnamed: 0                  1142290 non-null  int64         \n",
      " 1   Trip ID                     1142290 non-null  object        \n",
      " 2   Trip Start Timestamp        1142290 non-null  datetime64[ns]\n",
      " 3   Trip End Timestamp          1142290 non-null  datetime64[ns]\n",
      " 4   Trip Seconds                1140087 non-null  float64       \n",
      " 5   Trip Miles                  1142244 non-null  float64       \n",
      " 6   Pickup Census Tract         819473 non-null   float64       \n",
      " 7   Dropoff Census Tract        814967 non-null   float64       \n",
      " 8   Pickup Community Area       1069403 non-null  float64       \n",
      " 9   Dropoff Community Area      1061340 non-null  float64       \n",
      " 10  Fare                        1142288 non-null  float64       \n",
      " 11  Tip                         1142290 non-null  float64       \n",
      " 12  Additional Charges          1142288 non-null  float64       \n",
      " 13  Trip Total                  1142288 non-null  float64       \n",
      " 14  Shared Trip Authorized      1142290 non-null  bool          \n",
      " 15  Trips Pooled                1142290 non-null  int64         \n",
      " 16  Pickup Centroid Latitude    1070343 non-null  float64       \n",
      " 17  Pickup Centroid Longitude   1070343 non-null  float64       \n",
      " 18  Pickup Centroid Location    1070343 non-null  object        \n",
      " 19  Dropoff Centroid Latitude   1062322 non-null  float64       \n",
      " 20  Dropoff Centroid Longitude  1062322 non-null  float64       \n",
      " 21  Dropoff Centroid Location   1062322 non-null  object        \n",
      " 22  Pickup_month                1142290 non-null  int64         \n",
      " 23  Dropoff_month               1142290 non-null  int64         \n",
      " 24  Pickup_day                  1142290 non-null  int64         \n",
      " 25  Dropoff_day                 1142290 non-null  int64         \n",
      " 26  Pickup_hour                 1142290 non-null  int64         \n",
      " 27  Dropoff_hour                1142290 non-null  int64         \n",
      " 28  Pickup_day_of_week          1142290 non-null  int64         \n",
      " 29  Dropoff_day_of_week         1142290 non-null  int64         \n",
      " 30  Pickup_week_of_year         1142290 non-null  int64         \n",
      " 31  Dropoff_week_of_year        1142290 non-null  int64         \n",
      " 32  Average Speed               1140041 non-null  float64       \n",
      " 33  Count                       1142290 non-null  int64         \n",
      "dtypes: bool(1), datetime64[ns](2), float64(15), int64(13), object(3)\n",
      "memory usage: 297.4+ MB\n"
     ]
    }
   ],
   "source": [
    "df.info()"
   ]
  },
  {
   "cell_type": "code",
   "execution_count": null,
   "metadata": {},
   "outputs": [],
   "source": []
  }
 ],
 "metadata": {
  "kernelspec": {
   "display_name": "Python 3",
   "language": "python",
   "name": "python3"
  },
  "language_info": {
   "codemirror_mode": {
    "name": "ipython",
    "version": 3
   },
   "file_extension": ".py",
   "mimetype": "text/x-python",
   "name": "python",
   "nbconvert_exporter": "python",
   "pygments_lexer": "ipython3",
   "version": "3.7.4"
  }
 },
 "nbformat": 4,
 "nbformat_minor": 2
}
