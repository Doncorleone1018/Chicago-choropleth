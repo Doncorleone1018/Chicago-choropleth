{
 "cells": [
  {
   "cell_type": "code",
   "execution_count": 1,
   "metadata": {},
   "outputs": [
    {
     "data": {
      "text/html": [
       "        <script type=\"text/javascript\">\n",
       "        window.PlotlyConfig = {MathJaxConfig: 'local'};\n",
       "        if (window.MathJax) {MathJax.Hub.Config({SVG: {font: \"STIX-Web\"}});}\n",
       "        if (typeof require !== 'undefined') {\n",
       "        require.undef(\"plotly\");\n",
       "        requirejs.config({\n",
       "            paths: {\n",
       "                'plotly': ['https://cdn.plot.ly/plotly-latest.min']\n",
       "            }\n",
       "        });\n",
       "        require(['plotly'], function(Plotly) {\n",
       "            window._Plotly = Plotly;\n",
       "        });\n",
       "        }\n",
       "        </script>\n",
       "        "
      ]
     },
     "metadata": {},
     "output_type": "display_data"
    },
    {
     "data": {
      "text/html": [
       "        <script type=\"text/javascript\">\n",
       "        window.PlotlyConfig = {MathJaxConfig: 'local'};\n",
       "        if (window.MathJax) {MathJax.Hub.Config({SVG: {font: \"STIX-Web\"}});}\n",
       "        if (typeof require !== 'undefined') {\n",
       "        require.undef(\"plotly\");\n",
       "        requirejs.config({\n",
       "            paths: {\n",
       "                'plotly': ['https://cdn.plot.ly/plotly-latest.min']\n",
       "            }\n",
       "        });\n",
       "        require(['plotly'], function(Plotly) {\n",
       "            window._Plotly = Plotly;\n",
       "        });\n",
       "        }\n",
       "        </script>\n",
       "        "
      ]
     },
     "metadata": {},
     "output_type": "display_data"
    }
   ],
   "source": [
    "import pandas as pd\n",
    "import numpy as np\n",
    "import matplotlib.pyplot as plt\n",
    "import datetime\n",
    "\n",
    "\n",
    "from plotly import __version__\n",
    "import cufflinks as cf\n",
    "\n",
    "from plotly.offline import download_plotlyjs,init_notebook_mode,plot,iplot\n",
    "init_notebook_mode(connected=True)\n",
    "cf.go_offline()"
   ]
  },
  {
   "cell_type": "code",
   "execution_count": 2,
   "metadata": {},
   "outputs": [],
   "source": [
    "%matplotlib inline"
   ]
  },
  {
   "cell_type": "code",
   "execution_count": 3,
   "metadata": {},
   "outputs": [],
   "source": [
    "plt.style.use(\"seaborn\")"
   ]
  },
  {
   "cell_type": "markdown",
   "metadata": {},
   "source": [
    "# Loading in data"
   ]
  },
  {
   "cell_type": "code",
   "execution_count": 4,
   "metadata": {},
   "outputs": [
    {
     "data": {
      "text/html": [
       "<div>\n",
       "<style scoped>\n",
       "    .dataframe tbody tr th:only-of-type {\n",
       "        vertical-align: middle;\n",
       "    }\n",
       "\n",
       "    .dataframe tbody tr th {\n",
       "        vertical-align: top;\n",
       "    }\n",
       "\n",
       "    .dataframe thead th {\n",
       "        text-align: right;\n",
       "    }\n",
       "</style>\n",
       "<table border=\"1\" class=\"dataframe\">\n",
       "  <thead>\n",
       "    <tr style=\"text-align: right;\">\n",
       "      <th></th>\n",
       "      <th>FNS</th>\n",
       "      <th>Ohara</th>\n",
       "      <th>NWS</th>\n",
       "      <th>NS</th>\n",
       "      <th>WS</th>\n",
       "      <th>CEN</th>\n",
       "      <th>SS</th>\n",
       "      <th>SWS</th>\n",
       "      <th>FSWS</th>\n",
       "      <th>FSES</th>\n",
       "      <th>is_holiday</th>\n",
       "      <th>is_weekend</th>\n",
       "      <th>season</th>\n",
       "    </tr>\n",
       "  </thead>\n",
       "  <tbody>\n",
       "    <tr>\n",
       "      <th>count</th>\n",
       "      <td>10224</td>\n",
       "      <td>10224</td>\n",
       "      <td>10224</td>\n",
       "      <td>10224</td>\n",
       "      <td>10224</td>\n",
       "      <td>10224</td>\n",
       "      <td>10224</td>\n",
       "      <td>10224</td>\n",
       "      <td>10224</td>\n",
       "      <td>10224</td>\n",
       "      <td>10224</td>\n",
       "      <td>10224</td>\n",
       "      <td>10224</td>\n",
       "    </tr>\n",
       "    <tr>\n",
       "      <th>mean</th>\n",
       "      <td>88</td>\n",
       "      <td>40</td>\n",
       "      <td>32</td>\n",
       "      <td>199</td>\n",
       "      <td>218</td>\n",
       "      <td>308</td>\n",
       "      <td>68</td>\n",
       "      <td>49</td>\n",
       "      <td>22</td>\n",
       "      <td>15</td>\n",
       "      <td>0</td>\n",
       "      <td>0</td>\n",
       "      <td>1</td>\n",
       "    </tr>\n",
       "    <tr>\n",
       "      <th>std</th>\n",
       "      <td>46</td>\n",
       "      <td>30</td>\n",
       "      <td>16</td>\n",
       "      <td>135</td>\n",
       "      <td>126</td>\n",
       "      <td>196</td>\n",
       "      <td>36</td>\n",
       "      <td>23</td>\n",
       "      <td>11</td>\n",
       "      <td>8</td>\n",
       "      <td>0</td>\n",
       "      <td>0</td>\n",
       "      <td>1</td>\n",
       "    </tr>\n",
       "    <tr>\n",
       "      <th>min</th>\n",
       "      <td>0</td>\n",
       "      <td>0</td>\n",
       "      <td>0</td>\n",
       "      <td>0</td>\n",
       "      <td>0</td>\n",
       "      <td>0</td>\n",
       "      <td>0</td>\n",
       "      <td>0</td>\n",
       "      <td>0</td>\n",
       "      <td>0</td>\n",
       "      <td>0</td>\n",
       "      <td>0</td>\n",
       "      <td>0</td>\n",
       "    </tr>\n",
       "    <tr>\n",
       "      <th>25%</th>\n",
       "      <td>53</td>\n",
       "      <td>16</td>\n",
       "      <td>20</td>\n",
       "      <td>101</td>\n",
       "      <td>114</td>\n",
       "      <td>138</td>\n",
       "      <td>37</td>\n",
       "      <td>31</td>\n",
       "      <td>14</td>\n",
       "      <td>9</td>\n",
       "      <td>0</td>\n",
       "      <td>0</td>\n",
       "      <td>1</td>\n",
       "    </tr>\n",
       "    <tr>\n",
       "      <th>50%</th>\n",
       "      <td>87</td>\n",
       "      <td>36</td>\n",
       "      <td>32</td>\n",
       "      <td>169</td>\n",
       "      <td>219</td>\n",
       "      <td>305</td>\n",
       "      <td>70</td>\n",
       "      <td>51</td>\n",
       "      <td>23</td>\n",
       "      <td>15</td>\n",
       "      <td>0</td>\n",
       "      <td>0</td>\n",
       "      <td>2</td>\n",
       "    </tr>\n",
       "    <tr>\n",
       "      <th>75%</th>\n",
       "      <td>117</td>\n",
       "      <td>61</td>\n",
       "      <td>43</td>\n",
       "      <td>262</td>\n",
       "      <td>298</td>\n",
       "      <td>441</td>\n",
       "      <td>96</td>\n",
       "      <td>67</td>\n",
       "      <td>31</td>\n",
       "      <td>21</td>\n",
       "      <td>0</td>\n",
       "      <td>1</td>\n",
       "      <td>2</td>\n",
       "    </tr>\n",
       "    <tr>\n",
       "      <th>max</th>\n",
       "      <td>306</td>\n",
       "      <td>168</td>\n",
       "      <td>121</td>\n",
       "      <td>901</td>\n",
       "      <td>738</td>\n",
       "      <td>1079</td>\n",
       "      <td>210</td>\n",
       "      <td>141</td>\n",
       "      <td>80</td>\n",
       "      <td>53</td>\n",
       "      <td>1</td>\n",
       "      <td>1</td>\n",
       "      <td>3</td>\n",
       "    </tr>\n",
       "  </tbody>\n",
       "</table>\n",
       "</div>"
      ],
      "text/plain": [
       "         FNS  Ohara    NWS     NS     WS    CEN     SS    SWS   FSWS   FSES  \\\n",
       "count  10224  10224  10224  10224  10224  10224  10224  10224  10224  10224   \n",
       "mean      88     40     32    199    218    308     68     49     22     15   \n",
       "std       46     30     16    135    126    196     36     23     11      8   \n",
       "min        0      0      0      0      0      0      0      0      0      0   \n",
       "25%       53     16     20    101    114    138     37     31     14      9   \n",
       "50%       87     36     32    169    219    305     70     51     23     15   \n",
       "75%      117     61     43    262    298    441     96     67     31     21   \n",
       "max      306    168    121    901    738   1079    210    141     80     53   \n",
       "\n",
       "       is_holiday  is_weekend  season  \n",
       "count       10224       10224   10224  \n",
       "mean            0           0       1  \n",
       "std             0           0       1  \n",
       "min             0           0       0  \n",
       "25%             0           0       1  \n",
       "50%             0           0       2  \n",
       "75%             0           1       2  \n",
       "max             1           1       3  "
      ]
     },
     "execution_count": 4,
     "metadata": {},
     "output_type": "execute_result"
    }
   ],
   "source": [
    "# Import hourly pickups by Chicago Side\n",
    "df_sides = pd.read_csv(\"hour_pickups_sides_final.csv\")\n",
    "\n",
    "df_sides[\"StartTime\"] = pd.to_datetime(df_sides[\"StartTime\"], \n",
    "                                       format=\"%d/%m/%Y %H:%M\")\n",
    "\n",
    "# set index\n",
    "df_sides.set_index(\"StartTime\", inplace=True)\n",
    "\n",
    "df_sides.describe().astype(int)"
   ]
  },
  {
   "cell_type": "code",
   "execution_count": 5,
   "metadata": {},
   "outputs": [
    {
     "data": {
      "text/html": [
       "<div>\n",
       "<style scoped>\n",
       "    .dataframe tbody tr th:only-of-type {\n",
       "        vertical-align: middle;\n",
       "    }\n",
       "\n",
       "    .dataframe tbody tr th {\n",
       "        vertical-align: top;\n",
       "    }\n",
       "\n",
       "    .dataframe thead th {\n",
       "        text-align: right;\n",
       "    }\n",
       "</style>\n",
       "<table border=\"1\" class=\"dataframe\">\n",
       "  <thead>\n",
       "    <tr style=\"text-align: right;\">\n",
       "      <th></th>\n",
       "      <th>FNS</th>\n",
       "      <th>Ohara</th>\n",
       "      <th>NWS</th>\n",
       "      <th>NS</th>\n",
       "      <th>WS</th>\n",
       "      <th>CEN</th>\n",
       "      <th>SS</th>\n",
       "      <th>SWS</th>\n",
       "      <th>FSWS</th>\n",
       "      <th>FSES</th>\n",
       "      <th>is_holiday</th>\n",
       "      <th>is_weekend</th>\n",
       "      <th>season</th>\n",
       "    </tr>\n",
       "    <tr>\n",
       "      <th>StartTime</th>\n",
       "      <th></th>\n",
       "      <th></th>\n",
       "      <th></th>\n",
       "      <th></th>\n",
       "      <th></th>\n",
       "      <th></th>\n",
       "      <th></th>\n",
       "      <th></th>\n",
       "      <th></th>\n",
       "      <th></th>\n",
       "      <th></th>\n",
       "      <th></th>\n",
       "      <th></th>\n",
       "    </tr>\n",
       "  </thead>\n",
       "  <tbody>\n",
       "    <tr>\n",
       "      <th>2018-11-01 00:00:00</th>\n",
       "      <td>70.0</td>\n",
       "      <td>15.0</td>\n",
       "      <td>20.0</td>\n",
       "      <td>174.0</td>\n",
       "      <td>134.0</td>\n",
       "      <td>141.0</td>\n",
       "      <td>48.0</td>\n",
       "      <td>25.0</td>\n",
       "      <td>17.0</td>\n",
       "      <td>12.0</td>\n",
       "      <td>0.0</td>\n",
       "      <td>0.0</td>\n",
       "      <td>2.0</td>\n",
       "    </tr>\n",
       "    <tr>\n",
       "      <th>2018-11-01 01:00:00</th>\n",
       "      <td>46.0</td>\n",
       "      <td>5.0</td>\n",
       "      <td>9.0</td>\n",
       "      <td>200.0</td>\n",
       "      <td>94.0</td>\n",
       "      <td>103.0</td>\n",
       "      <td>22.0</td>\n",
       "      <td>16.0</td>\n",
       "      <td>17.0</td>\n",
       "      <td>7.0</td>\n",
       "      <td>0.0</td>\n",
       "      <td>0.0</td>\n",
       "      <td>2.0</td>\n",
       "    </tr>\n",
       "    <tr>\n",
       "      <th>2018-11-01 02:00:00</th>\n",
       "      <td>38.0</td>\n",
       "      <td>1.0</td>\n",
       "      <td>11.0</td>\n",
       "      <td>122.0</td>\n",
       "      <td>67.0</td>\n",
       "      <td>74.0</td>\n",
       "      <td>13.0</td>\n",
       "      <td>16.0</td>\n",
       "      <td>13.0</td>\n",
       "      <td>8.0</td>\n",
       "      <td>0.0</td>\n",
       "      <td>0.0</td>\n",
       "      <td>2.0</td>\n",
       "    </tr>\n",
       "    <tr>\n",
       "      <th>2018-11-01 03:00:00</th>\n",
       "      <td>19.0</td>\n",
       "      <td>1.0</td>\n",
       "      <td>15.0</td>\n",
       "      <td>73.0</td>\n",
       "      <td>51.0</td>\n",
       "      <td>63.0</td>\n",
       "      <td>9.0</td>\n",
       "      <td>13.0</td>\n",
       "      <td>15.0</td>\n",
       "      <td>8.0</td>\n",
       "      <td>0.0</td>\n",
       "      <td>0.0</td>\n",
       "      <td>2.0</td>\n",
       "    </tr>\n",
       "    <tr>\n",
       "      <th>2018-11-01 04:00:00</th>\n",
       "      <td>27.0</td>\n",
       "      <td>0.0</td>\n",
       "      <td>12.0</td>\n",
       "      <td>50.0</td>\n",
       "      <td>50.0</td>\n",
       "      <td>49.0</td>\n",
       "      <td>18.0</td>\n",
       "      <td>22.0</td>\n",
       "      <td>13.0</td>\n",
       "      <td>6.0</td>\n",
       "      <td>0.0</td>\n",
       "      <td>0.0</td>\n",
       "      <td>2.0</td>\n",
       "    </tr>\n",
       "    <tr>\n",
       "      <th>...</th>\n",
       "      <td>...</td>\n",
       "      <td>...</td>\n",
       "      <td>...</td>\n",
       "      <td>...</td>\n",
       "      <td>...</td>\n",
       "      <td>...</td>\n",
       "      <td>...</td>\n",
       "      <td>...</td>\n",
       "      <td>...</td>\n",
       "      <td>...</td>\n",
       "      <td>...</td>\n",
       "      <td>...</td>\n",
       "      <td>...</td>\n",
       "    </tr>\n",
       "    <tr>\n",
       "      <th>2019-12-31 19:00:00</th>\n",
       "      <td>253.0</td>\n",
       "      <td>30.0</td>\n",
       "      <td>79.0</td>\n",
       "      <td>600.0</td>\n",
       "      <td>491.0</td>\n",
       "      <td>637.0</td>\n",
       "      <td>109.0</td>\n",
       "      <td>69.0</td>\n",
       "      <td>32.0</td>\n",
       "      <td>31.0</td>\n",
       "      <td>1.0</td>\n",
       "      <td>0.0</td>\n",
       "      <td>3.0</td>\n",
       "    </tr>\n",
       "    <tr>\n",
       "      <th>2019-12-31 20:00:00</th>\n",
       "      <td>279.0</td>\n",
       "      <td>20.0</td>\n",
       "      <td>82.0</td>\n",
       "      <td>695.0</td>\n",
       "      <td>540.0</td>\n",
       "      <td>647.0</td>\n",
       "      <td>110.0</td>\n",
       "      <td>106.0</td>\n",
       "      <td>47.0</td>\n",
       "      <td>42.0</td>\n",
       "      <td>1.0</td>\n",
       "      <td>0.0</td>\n",
       "      <td>3.0</td>\n",
       "    </tr>\n",
       "    <tr>\n",
       "      <th>2019-12-31 21:00:00</th>\n",
       "      <td>255.0</td>\n",
       "      <td>23.0</td>\n",
       "      <td>121.0</td>\n",
       "      <td>610.0</td>\n",
       "      <td>513.0</td>\n",
       "      <td>669.0</td>\n",
       "      <td>115.0</td>\n",
       "      <td>75.0</td>\n",
       "      <td>40.0</td>\n",
       "      <td>28.0</td>\n",
       "      <td>1.0</td>\n",
       "      <td>0.0</td>\n",
       "      <td>3.0</td>\n",
       "    </tr>\n",
       "    <tr>\n",
       "      <th>2019-12-31 22:00:00</th>\n",
       "      <td>199.0</td>\n",
       "      <td>27.0</td>\n",
       "      <td>76.0</td>\n",
       "      <td>500.0</td>\n",
       "      <td>434.0</td>\n",
       "      <td>525.0</td>\n",
       "      <td>125.0</td>\n",
       "      <td>86.0</td>\n",
       "      <td>38.0</td>\n",
       "      <td>39.0</td>\n",
       "      <td>1.0</td>\n",
       "      <td>0.0</td>\n",
       "      <td>3.0</td>\n",
       "    </tr>\n",
       "    <tr>\n",
       "      <th>2019-12-31 23:00:00</th>\n",
       "      <td>148.0</td>\n",
       "      <td>8.0</td>\n",
       "      <td>62.0</td>\n",
       "      <td>310.0</td>\n",
       "      <td>275.0</td>\n",
       "      <td>310.0</td>\n",
       "      <td>76.0</td>\n",
       "      <td>62.0</td>\n",
       "      <td>40.0</td>\n",
       "      <td>25.0</td>\n",
       "      <td>1.0</td>\n",
       "      <td>0.0</td>\n",
       "      <td>3.0</td>\n",
       "    </tr>\n",
       "  </tbody>\n",
       "</table>\n",
       "<p>10224 rows × 13 columns</p>\n",
       "</div>"
      ],
      "text/plain": [
       "                       FNS  Ohara    NWS     NS     WS    CEN     SS    SWS  \\\n",
       "StartTime                                                                     \n",
       "2018-11-01 00:00:00   70.0   15.0   20.0  174.0  134.0  141.0   48.0   25.0   \n",
       "2018-11-01 01:00:00   46.0    5.0    9.0  200.0   94.0  103.0   22.0   16.0   \n",
       "2018-11-01 02:00:00   38.0    1.0   11.0  122.0   67.0   74.0   13.0   16.0   \n",
       "2018-11-01 03:00:00   19.0    1.0   15.0   73.0   51.0   63.0    9.0   13.0   \n",
       "2018-11-01 04:00:00   27.0    0.0   12.0   50.0   50.0   49.0   18.0   22.0   \n",
       "...                    ...    ...    ...    ...    ...    ...    ...    ...   \n",
       "2019-12-31 19:00:00  253.0   30.0   79.0  600.0  491.0  637.0  109.0   69.0   \n",
       "2019-12-31 20:00:00  279.0   20.0   82.0  695.0  540.0  647.0  110.0  106.0   \n",
       "2019-12-31 21:00:00  255.0   23.0  121.0  610.0  513.0  669.0  115.0   75.0   \n",
       "2019-12-31 22:00:00  199.0   27.0   76.0  500.0  434.0  525.0  125.0   86.0   \n",
       "2019-12-31 23:00:00  148.0    8.0   62.0  310.0  275.0  310.0   76.0   62.0   \n",
       "\n",
       "                     FSWS  FSES  is_holiday  is_weekend  season  \n",
       "StartTime                                                        \n",
       "2018-11-01 00:00:00  17.0  12.0         0.0         0.0     2.0  \n",
       "2018-11-01 01:00:00  17.0   7.0         0.0         0.0     2.0  \n",
       "2018-11-01 02:00:00  13.0   8.0         0.0         0.0     2.0  \n",
       "2018-11-01 03:00:00  15.0   8.0         0.0         0.0     2.0  \n",
       "2018-11-01 04:00:00  13.0   6.0         0.0         0.0     2.0  \n",
       "...                   ...   ...         ...         ...     ...  \n",
       "2019-12-31 19:00:00  32.0  31.0         1.0         0.0     3.0  \n",
       "2019-12-31 20:00:00  47.0  42.0         1.0         0.0     3.0  \n",
       "2019-12-31 21:00:00  40.0  28.0         1.0         0.0     3.0  \n",
       "2019-12-31 22:00:00  38.0  39.0         1.0         0.0     3.0  \n",
       "2019-12-31 23:00:00  40.0  25.0         1.0         0.0     3.0  \n",
       "\n",
       "[10224 rows x 13 columns]"
      ]
     },
     "execution_count": 5,
     "metadata": {},
     "output_type": "execute_result"
    }
   ],
   "source": [
    "# concert dataframe to floats\n",
    "df_sides.astype(float)"
   ]
  },
  {
   "cell_type": "markdown",
   "metadata": {},
   "source": [
    "LSTM Multivariate demand prediction with weather data.\n",
    "Should add weather data to the dataset. In other words, I am making a multivariate time series."
   ]
  },
  {
   "cell_type": "code",
   "execution_count": 6,
   "metadata": {},
   "outputs": [],
   "source": [
    "# Import hourly weather data\n",
    "\n",
    "weather = pd.read_csv(\"Chicago Ohare hourly weather relevant data.csv\")\n",
    "weather[\"Date\"] = pd.to_datetime(weather[\"Date\"])\n",
    "weather.drop(\"WeatherType\", axis=1, inplace=True)\n",
    "weather[\"Temperature\"] = weather[\"Temperature\"].astype(\"float32\")\n",
    "weather.set_index(\"Date\", inplace=True)"
   ]
  },
  {
   "cell_type": "code",
   "execution_count": 7,
   "metadata": {},
   "outputs": [
    {
     "data": {
      "text/html": [
       "<div>\n",
       "<style scoped>\n",
       "    .dataframe tbody tr th:only-of-type {\n",
       "        vertical-align: middle;\n",
       "    }\n",
       "\n",
       "    .dataframe tbody tr th {\n",
       "        vertical-align: top;\n",
       "    }\n",
       "\n",
       "    .dataframe thead th {\n",
       "        text-align: right;\n",
       "    }\n",
       "</style>\n",
       "<table border=\"1\" class=\"dataframe\">\n",
       "  <thead>\n",
       "    <tr style=\"text-align: right;\">\n",
       "      <th></th>\n",
       "      <th>Precipitation</th>\n",
       "      <th>WindSpeed</th>\n",
       "      <th>Temperature</th>\n",
       "    </tr>\n",
       "    <tr>\n",
       "      <th>Date</th>\n",
       "      <th></th>\n",
       "      <th></th>\n",
       "      <th></th>\n",
       "    </tr>\n",
       "  </thead>\n",
       "  <tbody>\n",
       "    <tr>\n",
       "      <th>2018-11-01 00:00:00</th>\n",
       "      <td>0.0</td>\n",
       "      <td>9.66</td>\n",
       "      <td>9.0</td>\n",
       "    </tr>\n",
       "    <tr>\n",
       "      <th>2018-11-01 01:00:00</th>\n",
       "      <td>0.0</td>\n",
       "      <td>9.66</td>\n",
       "      <td>9.0</td>\n",
       "    </tr>\n",
       "  </tbody>\n",
       "</table>\n",
       "</div>"
      ],
      "text/plain": [
       "                     Precipitation  WindSpeed  Temperature\n",
       "Date                                                      \n",
       "2018-11-01 00:00:00            0.0       9.66          9.0\n",
       "2018-11-01 01:00:00            0.0       9.66          9.0"
      ]
     },
     "execution_count": 7,
     "metadata": {},
     "output_type": "execute_result"
    }
   ],
   "source": [
    "weather.head(2)"
   ]
  },
  {
   "cell_type": "code",
   "execution_count": 8,
   "metadata": {},
   "outputs": [
    {
     "data": {
      "text/html": [
       "<div>\n",
       "<style scoped>\n",
       "    .dataframe tbody tr th:only-of-type {\n",
       "        vertical-align: middle;\n",
       "    }\n",
       "\n",
       "    .dataframe tbody tr th {\n",
       "        vertical-align: top;\n",
       "    }\n",
       "\n",
       "    .dataframe thead th {\n",
       "        text-align: right;\n",
       "    }\n",
       "</style>\n",
       "<table border=\"1\" class=\"dataframe\">\n",
       "  <thead>\n",
       "    <tr style=\"text-align: right;\">\n",
       "      <th></th>\n",
       "      <th>FNS</th>\n",
       "      <th>Ohara</th>\n",
       "      <th>NWS</th>\n",
       "      <th>NS</th>\n",
       "      <th>WS</th>\n",
       "      <th>CEN</th>\n",
       "      <th>SS</th>\n",
       "      <th>SWS</th>\n",
       "      <th>FSWS</th>\n",
       "      <th>FSES</th>\n",
       "      <th>is_holiday</th>\n",
       "      <th>is_weekend</th>\n",
       "      <th>season</th>\n",
       "      <th>Precipitation</th>\n",
       "      <th>WindSpeed</th>\n",
       "      <th>Temperature</th>\n",
       "    </tr>\n",
       "    <tr>\n",
       "      <th>StartTime</th>\n",
       "      <th></th>\n",
       "      <th></th>\n",
       "      <th></th>\n",
       "      <th></th>\n",
       "      <th></th>\n",
       "      <th></th>\n",
       "      <th></th>\n",
       "      <th></th>\n",
       "      <th></th>\n",
       "      <th></th>\n",
       "      <th></th>\n",
       "      <th></th>\n",
       "      <th></th>\n",
       "      <th></th>\n",
       "      <th></th>\n",
       "      <th></th>\n",
       "    </tr>\n",
       "  </thead>\n",
       "  <tbody>\n",
       "    <tr>\n",
       "      <th>2018-11-01 00:00:00</th>\n",
       "      <td>70</td>\n",
       "      <td>15</td>\n",
       "      <td>20</td>\n",
       "      <td>174</td>\n",
       "      <td>134</td>\n",
       "      <td>141</td>\n",
       "      <td>48</td>\n",
       "      <td>25</td>\n",
       "      <td>17</td>\n",
       "      <td>12</td>\n",
       "      <td>0</td>\n",
       "      <td>0</td>\n",
       "      <td>2</td>\n",
       "      <td>0.0</td>\n",
       "      <td>9.66</td>\n",
       "      <td>9.0</td>\n",
       "    </tr>\n",
       "    <tr>\n",
       "      <th>2018-11-01 01:00:00</th>\n",
       "      <td>46</td>\n",
       "      <td>5</td>\n",
       "      <td>9</td>\n",
       "      <td>200</td>\n",
       "      <td>94</td>\n",
       "      <td>103</td>\n",
       "      <td>22</td>\n",
       "      <td>16</td>\n",
       "      <td>17</td>\n",
       "      <td>7</td>\n",
       "      <td>0</td>\n",
       "      <td>0</td>\n",
       "      <td>2</td>\n",
       "      <td>0.0</td>\n",
       "      <td>9.66</td>\n",
       "      <td>9.0</td>\n",
       "    </tr>\n",
       "    <tr>\n",
       "      <th>2018-11-01 02:00:00</th>\n",
       "      <td>38</td>\n",
       "      <td>1</td>\n",
       "      <td>11</td>\n",
       "      <td>122</td>\n",
       "      <td>67</td>\n",
       "      <td>74</td>\n",
       "      <td>13</td>\n",
       "      <td>16</td>\n",
       "      <td>13</td>\n",
       "      <td>8</td>\n",
       "      <td>0</td>\n",
       "      <td>0</td>\n",
       "      <td>2</td>\n",
       "      <td>0.0</td>\n",
       "      <td>9.66</td>\n",
       "      <td>9.0</td>\n",
       "    </tr>\n",
       "  </tbody>\n",
       "</table>\n",
       "</div>"
      ],
      "text/plain": [
       "                     FNS  Ohara  NWS   NS   WS  CEN  SS  SWS  FSWS  FSES  \\\n",
       "StartTime                                                                  \n",
       "2018-11-01 00:00:00   70     15   20  174  134  141  48   25    17    12   \n",
       "2018-11-01 01:00:00   46      5    9  200   94  103  22   16    17     7   \n",
       "2018-11-01 02:00:00   38      1   11  122   67   74  13   16    13     8   \n",
       "\n",
       "                     is_holiday  is_weekend  season  Precipitation  WindSpeed  \\\n",
       "StartTime                                                                       \n",
       "2018-11-01 00:00:00           0           0       2            0.0       9.66   \n",
       "2018-11-01 01:00:00           0           0       2            0.0       9.66   \n",
       "2018-11-01 02:00:00           0           0       2            0.0       9.66   \n",
       "\n",
       "                     Temperature  \n",
       "StartTime                         \n",
       "2018-11-01 00:00:00          9.0  \n",
       "2018-11-01 01:00:00          9.0  \n",
       "2018-11-01 02:00:00          9.0  "
      ]
     },
     "execution_count": 8,
     "metadata": {},
     "output_type": "execute_result"
    }
   ],
   "source": [
    "df_sides_weather = df_sides.merge(weather, how=\"left\", left_index=True, right_index=True)\n",
    "df_sides_weather.head(3)"
   ]
  },
  {
   "cell_type": "markdown",
   "metadata": {},
   "source": [
    "# Visualization of hourly pickups across sides"
   ]
  },
  {
   "cell_type": "code",
   "execution_count": 9,
   "metadata": {},
   "outputs": [],
   "source": [
    "def visualize(data, colnumber, start_val, end_val):\n",
    "    plt.figure(figsize=(10,5))\n",
    "    plt.plot(data.iloc[start_val:end_val, colnumber])"
   ]
  },
  {
   "cell_type": "code",
   "execution_count": 10,
   "metadata": {},
   "outputs": [
    {
     "data": {
      "image/png": "[encoded data removed]",
      "text/plain": [
       "<Figure size 720x360 with 1 Axes>"
      ]
     },
     "metadata": {},
     "output_type": "display_data"
    }
   ],
   "source": [
    "visualize(df_sides_weather, colnumber=7, start_val=1000, end_val=1050)"
   ]
  },
  {
   "cell_type": "markdown",
   "metadata": {},
   "source": [
    "# Iterate over each column"
   ]
  },
  {
   "cell_type": "code",
   "execution_count": 11,
   "metadata": {},
   "outputs": [],
   "source": [
    "from statsmodels.tsa.stattools import adfuller\n",
    "from statsmodels.graphics.tsaplots import plot_acf\n",
    "from statsmodels.graphics.tsaplots import plot_pacf\n",
    "import statsmodels.api as sm\n",
    "from statsmodels.tools.eval_measures import rmse\n",
    "from sklearn.metrics import mean_squared_error\n",
    "from pmdarima.arima import auto_arima\n",
    "from statsmodels.tsa.api import ExponentialSmoothing as es\n",
    "from statsmodels.tsa.api import SimpleExpSmoothing as ses\n",
    "from statsmodels.tsa.api import Holt as holt\n",
    "from pmdarima.arima import auto_arima\n",
    "from statsmodels.tsa.statespace.sarimax import SARIMAX\n"
   ]
  },
  {
   "cell_type": "code",
   "execution_count": 12,
   "metadata": {},
   "outputs": [
    {
     "data": {
      "text/html": [
       "<div>\n",
       "<style scoped>\n",
       "    .dataframe tbody tr th:only-of-type {\n",
       "        vertical-align: middle;\n",
       "    }\n",
       "\n",
       "    .dataframe tbody tr th {\n",
       "        vertical-align: top;\n",
       "    }\n",
       "\n",
       "    .dataframe thead th {\n",
       "        text-align: right;\n",
       "    }\n",
       "</style>\n",
       "<table border=\"1\" class=\"dataframe\">\n",
       "  <thead>\n",
       "    <tr style=\"text-align: right;\">\n",
       "      <th></th>\n",
       "      <th>FNS</th>\n",
       "      <th>Ohara</th>\n",
       "      <th>NWS</th>\n",
       "      <th>NS</th>\n",
       "      <th>WS</th>\n",
       "      <th>CEN</th>\n",
       "      <th>SS</th>\n",
       "      <th>SWS</th>\n",
       "      <th>FSWS</th>\n",
       "      <th>FSES</th>\n",
       "      <th>is_holiday</th>\n",
       "      <th>is_weekend</th>\n",
       "      <th>season</th>\n",
       "    </tr>\n",
       "    <tr>\n",
       "      <th>StartTime</th>\n",
       "      <th></th>\n",
       "      <th></th>\n",
       "      <th></th>\n",
       "      <th></th>\n",
       "      <th></th>\n",
       "      <th></th>\n",
       "      <th></th>\n",
       "      <th></th>\n",
       "      <th></th>\n",
       "      <th></th>\n",
       "      <th></th>\n",
       "      <th></th>\n",
       "      <th></th>\n",
       "    </tr>\n",
       "  </thead>\n",
       "  <tbody>\n",
       "    <tr>\n",
       "      <th>2018-11-01 00:00:00</th>\n",
       "      <td>70</td>\n",
       "      <td>15</td>\n",
       "      <td>20</td>\n",
       "      <td>174</td>\n",
       "      <td>134</td>\n",
       "      <td>141</td>\n",
       "      <td>48</td>\n",
       "      <td>25</td>\n",
       "      <td>17</td>\n",
       "      <td>12</td>\n",
       "      <td>0</td>\n",
       "      <td>0</td>\n",
       "      <td>2</td>\n",
       "    </tr>\n",
       "    <tr>\n",
       "      <th>2018-11-01 01:00:00</th>\n",
       "      <td>46</td>\n",
       "      <td>5</td>\n",
       "      <td>9</td>\n",
       "      <td>200</td>\n",
       "      <td>94</td>\n",
       "      <td>103</td>\n",
       "      <td>22</td>\n",
       "      <td>16</td>\n",
       "      <td>17</td>\n",
       "      <td>7</td>\n",
       "      <td>0</td>\n",
       "      <td>0</td>\n",
       "      <td>2</td>\n",
       "    </tr>\n",
       "    <tr>\n",
       "      <th>2018-11-01 02:00:00</th>\n",
       "      <td>38</td>\n",
       "      <td>1</td>\n",
       "      <td>11</td>\n",
       "      <td>122</td>\n",
       "      <td>67</td>\n",
       "      <td>74</td>\n",
       "      <td>13</td>\n",
       "      <td>16</td>\n",
       "      <td>13</td>\n",
       "      <td>8</td>\n",
       "      <td>0</td>\n",
       "      <td>0</td>\n",
       "      <td>2</td>\n",
       "    </tr>\n",
       "  </tbody>\n",
       "</table>\n",
       "</div>"
      ],
      "text/plain": [
       "                     FNS  Ohara  NWS   NS   WS  CEN  SS  SWS  FSWS  FSES  \\\n",
       "StartTime                                                                  \n",
       "2018-11-01 00:00:00   70     15   20  174  134  141  48   25    17    12   \n",
       "2018-11-01 01:00:00   46      5    9  200   94  103  22   16    17     7   \n",
       "2018-11-01 02:00:00   38      1   11  122   67   74  13   16    13     8   \n",
       "\n",
       "                     is_holiday  is_weekend  season  \n",
       "StartTime                                            \n",
       "2018-11-01 00:00:00           0           0       2  \n",
       "2018-11-01 01:00:00           0           0       2  \n",
       "2018-11-01 02:00:00           0           0       2  "
      ]
     },
     "execution_count": 12,
     "metadata": {},
     "output_type": "execute_result"
    }
   ],
   "source": [
    "df_sides.head(3)"
   ]
  },
  {
   "cell_type": "markdown",
   "metadata": {},
   "source": [
    "# 1st method: Holt-Winters Exponential Smoothing"
   ]
  },
  {
   "cell_type": "markdown",
   "metadata": {},
   "source": [
    "Functions needed to loop through the sides:\n",
    "- Split data\n",
    "- define, fit, and make predictions\n",
    "- Concatenate test set and predictions\n",
    "- Evaluate: calculate RMSE for test data against predictions"
   ]
  },
  {
   "cell_type": "code",
   "execution_count": 13,
   "metadata": {},
   "outputs": [],
   "source": [
    "# create a differenced series\n",
    "def difference(dataset, interval=1):\n",
    "\tdiff = list()\n",
    "\tfor i in range(interval, len(dataset)):\n",
    "\t\tvalue = dataset[i] - dataset[i - interval]\n",
    "\t\tdiff.append(value)\n",
    "\treturn diff\n",
    "\n",
    "# invert differenced value\n",
    "def inverse_difference(history, yhat, interval=1):\n",
    "\treturn yhat + history[-interval]\n",
    "\n",
    "def split_data_hw(data):\n",
    "    train_size = int(len(data) * 0.8)\n",
    "    test_size = len(data) - train_size\n",
    "    \n",
    "    # split data into train and test sets\n",
    "    train = data[0:train_size]\n",
    "    test = data[train_size:]\n",
    "    \n",
    "    return train, test\n",
    "\n",
    "def define_hw(data, s_periods, test):\n",
    "    # Holt-Winters Exponential Smoothing\n",
    "    model = es(data, trend=\"add\", seasonal=\"add\", seasonal_periods=s_periods, damped=True)\n",
    "    # fit model\n",
    "    model_fit = model.fit()\n",
    "    # make predictions\n",
    "    predictions = model_fit.forecast(len(test))\n",
    "    \n",
    "    return model, model_fit, predictions\n",
    "\n",
    "def hw_concat_predictions(predictions, testdata):\n",
    "    # Concatenate predictions on test data with test data set and daily pickups\n",
    "    HW_testpred = pd.DataFrame(predictions)\n",
    "    HW_testpred.rename(columns={0: \"Prediction\"}, inplace=True)\n",
    "    HW_testdata_pred = pd.concat([testdata, HW_testpred], axis=1)\n",
    "    \n",
    "    return HW_testpred, HW_testdata_pred \n",
    "\n",
    "def hw_evaluate(data, start_val, end_val):\n",
    "    # mse\n",
    "    rmse_error = rmse(data.iloc[:, 0], data.iloc[:, -1]) \n",
    "    print(\"RMSE Error:\", rmse_error)\n",
    "\n",
    "    # print min max values of predictions and actual values.\n",
    "    print(\"Min. value test data:\", data.iloc[:, 0].min())\n",
    "    print(\"Max. value test data:\", data.iloc[:, 0].max())\n",
    "\n",
    "    print(\"Min. value predictions:\", data.iloc[:, 1].min())\n",
    "    print(\"Max. value predictions:\", data.iloc[:, 1].max())\n",
    "    \n",
    "    # plot performance\n",
    "#     fig, ax = plt.subplots(figsize=(15,5))\n",
    "#     ax.plot(data.iloc[start_val:end_val, 0])\n",
    "#     ax.plot(data.iloc[start_val:end_val, 1])\n",
    "\n",
    "    return rmse_error"
   ]
  },
  {
   "cell_type": "code",
   "execution_count": 14,
   "metadata": {},
   "outputs": [],
   "source": [
    "# Split data for each Side\n",
    "train_dic = {}\n",
    "test_dic = {}\n",
    "\n",
    "for key in df_sides[[\"FNS\", \"Ohara\", \"NWS\", \"NS\", \"WS\", \"CEN\", \"SS\", \"SWS\", \"FSWS\", \"FSES\"]]:\n",
    "    train, test = split_data_hw(df_sides[key])\n",
    "    train_dic[key], test_dic[key] = train, test\n",
    "    \n",
    "#     train_size = int(len(df_sides[key]) * 0.8)\n",
    "#     test_size = len(df_sides[key]) - train_size\n",
    "    \n",
    "#     # split data into train and test sets\n",
    "#     train = df_sides[key][0:train_size]\n",
    "#     test = df_sides[key][train_size:]\n",
    "#     train_dic[key] = train\n",
    "#     test_dic[key] = test"
   ]
  },
  {
   "cell_type": "code",
   "execution_count": null,
   "metadata": {},
   "outputs": [],
   "source": [
    "test_dic.keys()"
   ]
  },
  {
   "cell_type": "code",
   "execution_count": null,
   "metadata": {
    "scrolled": true
   },
   "outputs": [],
   "source": [
    "# Define, fit, make predictions for each side\n",
    "model_dic = {}\n",
    "model_fit_dic = {}\n",
    "predictions_dic = {}\n",
    "\n",
    "for key in train_dic:\n",
    "    model, model_fit, predictions = define_hw(train_dic[key], 168, test_dic[key])\n",
    "    model_dic[key], model_fit_dic[key], predictions_dic[key] = model, model_fit, predictions"
   ]
  },
  {
   "cell_type": "code",
   "execution_count": null,
   "metadata": {},
   "outputs": [],
   "source": [
    "predictions_dic.keys()"
   ]
  },
  {
   "cell_type": "code",
   "execution_count": null,
   "metadata": {},
   "outputs": [],
   "source": [
    "# concatenate test set and predictions\n",
    "HW_testpred_dic = {}\n",
    "HW_testdata_pred_dic = {}\n",
    "\n",
    "for key in predictions_dic:\n",
    "    HW_testpred, HW_testdata_pred = hw_concat_predictions(predictions_dic[key], test_dic[key])\n",
    "    HW_testpred_dic[key], HW_testdata_pred_dic[key] = HW_testpred, HW_testdata_pred"
   ]
  },
  {
   "cell_type": "code",
   "execution_count": null,
   "metadata": {},
   "outputs": [],
   "source": [
    "print(HW_testdata_pred_dic.keys())"
   ]
  },
  {
   "cell_type": "code",
   "execution_count": null,
   "metadata": {
    "scrolled": true
   },
   "outputs": [],
   "source": [
    "# evaluate: calculate RMSE for test data against predictions\n",
    "rmse_error_dic = {}\n",
    "\n",
    "for key in HW_testdata_pred_dic:\n",
    "    rmse_error = hw_evaluate(HW_testdata_pred_dic[key], 1, 10)\n",
    "    rmse_error_dic[key] = rmse_error"
   ]
  },
  {
   "cell_type": "code",
   "execution_count": null,
   "metadata": {},
   "outputs": [],
   "source": [
    "rmse_error_dic[\"NS\"]"
   ]
  },
  {
   "cell_type": "code",
   "execution_count": null,
   "metadata": {},
   "outputs": [],
   "source": [
    "HW_testdata_pred_dic[\"NS\"].iloc[1500:, 0].plot()\n",
    "HW_testdata_pred_dic[\"NS\"].iloc[1500:, 1].plot()"
   ]
  },
  {
   "cell_type": "code",
   "execution_count": null,
   "metadata": {},
   "outputs": [],
   "source": [
    "train_dic[\"FNS\"].plot()\n",
    "test_dic[\"FNS\"].plot()"
   ]
  },
  {
   "cell_type": "code",
   "execution_count": null,
   "metadata": {},
   "outputs": [],
   "source": [
    "HW_testdata_pred_dic[\"FNS\"].to_csv(\"p.csv\")\n",
    "HW_testdata_pred_dic[\"Ohara\"].to_csv(\"1.csv\")\n",
    "HW_testdata_pred_dic[\"CEN\"].to_csv(\"2.csv\")"
   ]
  },
  {
   "cell_type": "markdown",
   "metadata": {},
   "source": [
    "# 2nd method: Seasonal ARIMA"
   ]
  },
  {
   "cell_type": "markdown",
   "metadata": {},
   "source": [
    "Functions needed to loop through the sides:\n",
    "- Difference data\n",
    "- define, fit, and make predictions\n",
    "- Concatenate test set and predictions\n",
    "- Inverse differencing\n",
    "- Evaluate: calculate RMSE for test data against predictions\n",
    "\n",
    "SARIMA(p, d, q)x(P, D, Q). Need to determine p, d, q, P, D, Q"
   ]
  },
  {
   "cell_type": "markdown",
   "metadata": {},
   "source": [
    "# Differencing time series of each side"
   ]
  },
  {
   "cell_type": "markdown",
   "metadata": {},
   "source": [
    "1st step: plot ACF and PACF plots to estimate d, and D parameters"
   ]
  },
  {
   "cell_type": "code",
   "execution_count": null,
   "metadata": {},
   "outputs": [],
   "source": [
    "df_test = pd.DataFrame(df_sides['Ohara'])\n",
    "df_test[\"station\"] = df_test[\"Ohara\"] - df_test[\"Ohara\"].rolling(24).mean()\n",
    "df_test.tail(3)"
   ]
  },
  {
   "cell_type": "markdown",
   "metadata": {},
   "source": [
    "Data is clearly not stationary given slow decay of spiks in ACF. Need aseasonal and non-seasonal differincing. For now need SARIMA(x, 1, 1)x(x, 1, x)"
   ]
  },
  {
   "cell_type": "code",
   "execution_count": null,
   "metadata": {},
   "outputs": [],
   "source": [
    "fig, ax = plt.subplots(3, figsize=(10, 10))\n",
    "x = (df_test.station.dropna() - df_test.station.dropna().shift(168)).dropna()\n",
    "ax[0] = plot_acf(x, ax=ax[0], lags=25)\n",
    "ax[1] = plot_pacf(x, ax=ax[1], lags=25)\n",
    "ax[2].plot(x)"
   ]
  },
  {
   "cell_type": "code",
   "execution_count": null,
   "metadata": {},
   "outputs": [],
   "source": [
    "df_fns = df_sides.iloc[:,0]"
   ]
  },
  {
   "cell_type": "code",
   "execution_count": null,
   "metadata": {},
   "outputs": [],
   "source": [
    "def get_stationarity(timeseries):\n",
    "    # rolling statistics\n",
    "    rolling_mean = timeseries.rolling(window=24).mean()\n",
    "    rolling_std = timeseries.rolling(window=24).std()\n",
    "    \n",
    "    # rolling statistics plot\n",
    "    fig, ax = plt.subplots(figsize=(15,5))\n",
    "    ax.plot(timeseries.index, timeseries, color=\"blue\", label=\"Original\")\n",
    "    ax.plot(rolling_mean, color=\"red\", label=\"Rolling Mean\")\n",
    "    ax.plot(rolling_std, color=\"black\", label=\"Rolling Std\")\n",
    "    ax.legend(loc=\"best\")\n",
    "    ax.set_title(\"Rolling Mean & Standard Deviation\")\n",
    "    \n",
    "    # Dickey-Fuller test:\n",
    "    result = adfuller(timeseries, maxlag=24)\n",
    "    print(\"ADF Statistics: {}\".format(result[0]))\n",
    "    print(\"p-value: {}\".format(result[1]))\n",
    "    print(\"Critical Values:\")\n",
    "    for key, value in result[4].items():\n",
    "        print('\\t{}: {}'.format(key, value))"
   ]
  },
  {
   "cell_type": "code",
   "execution_count": null,
   "metadata": {},
   "outputs": [],
   "source": [
    "get_stationarity(diff_values) # ohara"
   ]
  },
  {
   "cell_type": "code",
   "execution_count": null,
   "metadata": {
    "scrolled": false
   },
   "outputs": [],
   "source": [
    "# get ACF and PACF plot\n",
    "plot_acf(df_fns, alpha=0.01)\n",
    "plot_pacf(df_fns, alpha=0.01)"
   ]
  },
  {
   "cell_type": "markdown",
   "metadata": {},
   "source": [
    "ACF function shows slow decline of the correlation between lags, indicative that many lags can be used to forecast future events, but this is just the nature of non-stationary series.\n",
    "\n",
    "PCF shows indirect correlation by removing the effect of preceding lags. Only the first two lags are useful. \n",
    "\n",
    "When differncing the time series, there is only a significant correlation in the first 3 lags with the first lag being a strong predictor."
   ]
  },
  {
   "cell_type": "code",
   "execution_count": 15,
   "metadata": {},
   "outputs": [
    {
     "name": "stdout",
     "output_type": "stream",
     "text": [
      "(10223, 1)\n"
     ]
    }
   ],
   "source": [
    "# select Side\n",
    "df_fns = df_sides.iloc[:,5]\n",
    "\n",
    "# difference and split data\n",
    "train_fns, test_fns = split_data_hw(df_fns)\n",
    "diff_values = pd.DataFrame(difference(df_fns, 1))\n",
    "print(diff_values.shape)\n",
    "\n",
    "train_fns_diff, test_fns_diff = split_data_hw(diff_values)"
   ]
  },
  {
   "cell_type": "code",
   "execution_count": 16,
   "metadata": {},
   "outputs": [
    {
     "data": {
      "image/png": "[encoded data removed]",
      "text/plain": [
       "<Figure size 576x396 with 1 Axes>"
      ]
     },
     "execution_count": 16,
     "metadata": {},
     "output_type": "execute_result"
    },
    {
     "data": {
      "image/png": "[encoded data removed]",
      "text/plain": [
       "<Figure size 576x396 with 1 Axes>"
      ]
     },
     "metadata": {},
     "output_type": "display_data"
    },
    {
     "data": {
      "image/png": "[encoded data removed]",
      "text/plain": [
       "<Figure size 576x396 with 1 Axes>"
      ]
     },
     "metadata": {},
     "output_type": "display_data"
    }
   ],
   "source": [
    "# get ACF and PACF plot\n",
    "plot_acf(diff_values, alpha=0.01)\n",
    "plot_pacf(diff_values, alpha=0.01)"
   ]
  },
  {
   "cell_type": "code",
   "execution_count": 17,
   "metadata": {},
   "outputs": [
    {
     "data": {
      "text/plain": [
       "<matplotlib.axes._subplots.AxesSubplot at 0x12b296190>"
      ]
     },
     "execution_count": 17,
     "metadata": {},
     "output_type": "execute_result"
    },
    {
     "data": {
      "image/png": "[encoded data removed]",
      "text/plain": [
       "<Figure size 1440x360 with 1 Axes>"
      ]
     },
     "metadata": {},
     "output_type": "display_data"
    }
   ],
   "source": [
    "diff_values.iloc[1:10000, 0].plot(figsize=(20,5))"
   ]
  },
  {
   "cell_type": "markdown",
   "metadata": {},
   "source": [
    "# ARIMA: auto arima"
   ]
  },
  {
   "cell_type": "code",
   "execution_count": 18,
   "metadata": {
    "scrolled": false
   },
   "outputs": [
    {
     "name": "stdout",
     "output_type": "stream",
     "text": [
      "Performing stepwise search to minimize aic\n",
      "Fit ARIMA(0,0,0)x(0,0,0,0) [intercept=True]; AIC=94370.554, BIC=94384.573, Time=0.274 seconds\n",
      "Fit ARIMA(1,0,0)x(0,0,0,0) [intercept=True]; AIC=92864.186, BIC=92885.213, Time=0.286 seconds\n",
      "Fit ARIMA(0,0,1)x(0,0,0,0) [intercept=True]; AIC=92880.771, BIC=92901.798, Time=0.936 seconds\n",
      "Fit ARIMA(0,0,0)x(0,0,0,0) [intercept=False]; AIC=94368.557, BIC=94375.566, Time=0.073 seconds\n",
      "Fit ARIMA(2,0,0)x(0,0,0,0) [intercept=True]; AIC=92805.878, BIC=92833.915, Time=0.395 seconds\n",
      "Fit ARIMA(3,0,0)x(0,0,0,0) [intercept=True]; AIC=92800.305, BIC=92835.351, Time=0.514 seconds\n",
      "Fit ARIMA(3,0,1)x(0,0,0,0) [intercept=True]; AIC=92802.296, BIC=92844.351, Time=2.681 seconds\n",
      "Fit ARIMA(2,0,1)x(0,0,0,0) [intercept=True]; AIC=92802.734, BIC=92837.780, Time=1.291 seconds\n",
      "Total fit time: 6.460 seconds\n"
     ]
    }
   ],
   "source": [
    "# define model\n",
    "stepwise_model = auto_arima(train_fns_diff, m=168, \n",
    "                            start_p=0, max_d=2, start_q=0,\n",
    "                            max_p=3, max_q=3, start_P=0,\n",
    "                            start_Q=0, max_D=1, max_P=2,\n",
    "                            max_Q=2, trace=True, seasonal=False, \n",
    "                            error_action=\"ignore\", suppress_warnings=True, stepwise=True)\n"
   ]
  },
  {
   "cell_type": "code",
   "execution_count": 19,
   "metadata": {},
   "outputs": [
    {
     "data": {
      "text/html": [
       "<table class=\"simpletable\">\n",
       "<caption>SARIMAX Results</caption>\n",
       "<tr>\n",
       "  <th>Dep. Variable:</th>           <td>y</td>        <th>  No. Observations:  </th>    <td>8178</td>   \n",
       "</tr>\n",
       "<tr>\n",
       "  <th>Model:</th>           <td>SARIMAX(3, 0, 0)</td> <th>  Log Likelihood     </th> <td>-46395.152</td>\n",
       "</tr>\n",
       "<tr>\n",
       "  <th>Date:</th>            <td>Fri, 26 Jun 2020</td> <th>  AIC                </th>  <td>92800.305</td>\n",
       "</tr>\n",
       "<tr>\n",
       "  <th>Time:</th>                <td>19:55:20</td>     <th>  BIC                </th>  <td>92835.351</td>\n",
       "</tr>\n",
       "<tr>\n",
       "  <th>Sample:</th>                  <td>0</td>        <th>  HQIC               </th>  <td>92812.287</td>\n",
       "</tr>\n",
       "<tr>\n",
       "  <th></th>                      <td> - 8178</td>     <th>                     </th>      <td> </td>    \n",
       "</tr>\n",
       "<tr>\n",
       "  <th>Covariance Type:</th>        <td>opg</td>       <th>                     </th>      <td> </td>    \n",
       "</tr>\n",
       "</table>\n",
       "<table class=\"simpletable\">\n",
       "<tr>\n",
       "      <td></td>         <th>coef</th>     <th>std err</th>      <th>z</th>      <th>P>|z|</th>  <th>[0.025</th>    <th>0.975]</th>  \n",
       "</tr>\n",
       "<tr>\n",
       "  <th>intercept</th> <td>    0.0344</td> <td>    0.859</td> <td>    0.040</td> <td> 0.968</td> <td>   -1.649</td> <td>    1.717</td>\n",
       "</tr>\n",
       "<tr>\n",
       "  <th>ar.L1</th>     <td>    0.4482</td> <td>    0.009</td> <td>   48.721</td> <td> 0.000</td> <td>    0.430</td> <td>    0.466</td>\n",
       "</tr>\n",
       "<tr>\n",
       "  <th>ar.L2</th>     <td>   -0.0993</td> <td>    0.010</td> <td>   -9.709</td> <td> 0.000</td> <td>   -0.119</td> <td>   -0.079</td>\n",
       "</tr>\n",
       "<tr>\n",
       "  <th>ar.L3</th>     <td>    0.0304</td> <td>    0.011</td> <td>    2.761</td> <td> 0.006</td> <td>    0.009</td> <td>    0.052</td>\n",
       "</tr>\n",
       "<tr>\n",
       "  <th>sigma2</th>    <td> 4958.0272</td> <td>   60.100</td> <td>   82.496</td> <td> 0.000</td> <td> 4840.233</td> <td> 5075.821</td>\n",
       "</tr>\n",
       "</table>\n",
       "<table class=\"simpletable\">\n",
       "<tr>\n",
       "  <th>Ljung-Box (Q):</th>          <td>5055.05</td> <th>  Jarque-Bera (JB):  </th> <td>1325.27</td>\n",
       "</tr>\n",
       "<tr>\n",
       "  <th>Prob(Q):</th>                 <td>0.00</td>   <th>  Prob(JB):          </th>  <td>0.00</td>  \n",
       "</tr>\n",
       "<tr>\n",
       "  <th>Heteroskedasticity (H):</th>  <td>1.53</td>   <th>  Skew:              </th>  <td>-0.41</td> \n",
       "</tr>\n",
       "<tr>\n",
       "  <th>Prob(H) (two-sided):</th>     <td>0.00</td>   <th>  Kurtosis:          </th>  <td>4.80</td>  \n",
       "</tr>\n",
       "</table><br/><br/>Warnings:<br/>[1] Covariance matrix calculated using the outer product of gradients (complex-step)."
      ],
      "text/plain": [
       "<class 'statsmodels.iolib.summary.Summary'>\n",
       "\"\"\"\n",
       "                               SARIMAX Results                                \n",
       "==============================================================================\n",
       "Dep. Variable:                      y   No. Observations:                 8178\n",
       "Model:               SARIMAX(3, 0, 0)   Log Likelihood              -46395.152\n",
       "Date:                Fri, 26 Jun 2020   AIC                          92800.305\n",
       "Time:                        19:55:20   BIC                          92835.351\n",
       "Sample:                             0   HQIC                         92812.287\n",
       "                               - 8178                                         \n",
       "Covariance Type:                  opg                                         \n",
       "==============================================================================\n",
       "                 coef    std err          z      P>|z|      [0.025      0.975]\n",
       "------------------------------------------------------------------------------\n",
       "intercept      0.0344      0.859      0.040      0.968      -1.649       1.717\n",
       "ar.L1          0.4482      0.009     48.721      0.000       0.430       0.466\n",
       "ar.L2         -0.0993      0.010     -9.709      0.000      -0.119      -0.079\n",
       "ar.L3          0.0304      0.011      2.761      0.006       0.009       0.052\n",
       "sigma2      4958.0272     60.100     82.496      0.000    4840.233    5075.821\n",
       "===================================================================================\n",
       "Ljung-Box (Q):                     5055.05   Jarque-Bera (JB):              1325.27\n",
       "Prob(Q):                              0.00   Prob(JB):                         0.00\n",
       "Heteroskedasticity (H):               1.53   Skew:                            -0.41\n",
       "Prob(H) (two-sided):                  0.00   Kurtosis:                         4.80\n",
       "===================================================================================\n",
       "\n",
       "Warnings:\n",
       "[1] Covariance matrix calculated using the outer product of gradients (complex-step).\n",
       "\"\"\""
      ]
     },
     "execution_count": 19,
     "metadata": {},
     "output_type": "execute_result"
    }
   ],
   "source": [
    "stepwise_model.summary()"
   ]
  },
  {
   "cell_type": "code",
   "execution_count": 20,
   "metadata": {},
   "outputs": [
    {
     "name": "stdout",
     "output_type": "stream",
     "text": [
      "2045\n"
     ]
    }
   ],
   "source": [
    "# forecast\n",
    "n_test = len(test_fns)\n",
    "test_predictions = stepwise_model.predict(n_test)\n",
    "print(len(test_predictions))\n",
    "\n",
    "# invert predictions\n",
    "inverted_ytest = list()\n",
    "for i in range(len(test_predictions)):\n",
    "    value = inverse_difference(df_fns, test_predictions[i], len(test_predictions)+1-i) # 10224, 2045, 2045+1-i\n",
    "    inverted_ytest.append(value)\n",
    "inverted_ytest = pd.DataFrame(inverted_ytest)\n",
    "inverted_ytest\n",
    "\n",
    "# concat predictions\n",
    "testdata_pred = pd.concat([test_fns.reset_index().iloc[:,1:], inverted_ytest], axis=1)\n",
    "\n",
    "sarima_testpred = pd.DataFrame(inverted_ytest)\n",
    "sarima_testpred.rename(columns={0: \"Prediction\"}, inplace=True)\n",
    "sarima_testdata_pred = pd.concat([test_dic[\"CEN\"].reset_index().iloc[:,1:], sarima_testpred], axis=1)\n"
   ]
  },
  {
   "cell_type": "code",
   "execution_count": 21,
   "metadata": {},
   "outputs": [
    {
     "data": {
      "text/html": [
       "<div>\n",
       "<style scoped>\n",
       "    .dataframe tbody tr th:only-of-type {\n",
       "        vertical-align: middle;\n",
       "    }\n",
       "\n",
       "    .dataframe tbody tr th {\n",
       "        vertical-align: top;\n",
       "    }\n",
       "\n",
       "    .dataframe thead th {\n",
       "        text-align: right;\n",
       "    }\n",
       "</style>\n",
       "<table border=\"1\" class=\"dataframe\">\n",
       "  <thead>\n",
       "    <tr style=\"text-align: right;\">\n",
       "      <th></th>\n",
       "      <th>CEN</th>\n",
       "      <th>Prediction</th>\n",
       "    </tr>\n",
       "  </thead>\n",
       "  <tbody>\n",
       "    <tr>\n",
       "      <th>0</th>\n",
       "      <td>504</td>\n",
       "      <td>511.865591</td>\n",
       "    </tr>\n",
       "    <tr>\n",
       "      <th>1</th>\n",
       "      <td>424</td>\n",
       "      <td>501.900589</td>\n",
       "    </tr>\n",
       "    <tr>\n",
       "      <th>2</th>\n",
       "      <td>345</td>\n",
       "      <td>424.756456</td>\n",
       "    </tr>\n",
       "    <tr>\n",
       "      <th>3</th>\n",
       "      <td>276</td>\n",
       "      <td>345.090783</td>\n",
       "    </tr>\n",
       "    <tr>\n",
       "      <th>4</th>\n",
       "      <td>147</td>\n",
       "      <td>275.936034</td>\n",
       "    </tr>\n",
       "    <tr>\n",
       "      <th>...</th>\n",
       "      <td>...</td>\n",
       "      <td>...</td>\n",
       "    </tr>\n",
       "    <tr>\n",
       "      <th>2040</th>\n",
       "      <td>637</td>\n",
       "      <td>496.055363</td>\n",
       "    </tr>\n",
       "    <tr>\n",
       "      <th>2041</th>\n",
       "      <td>647</td>\n",
       "      <td>637.055363</td>\n",
       "    </tr>\n",
       "    <tr>\n",
       "      <th>2042</th>\n",
       "      <td>669</td>\n",
       "      <td>647.055363</td>\n",
       "    </tr>\n",
       "    <tr>\n",
       "      <th>2043</th>\n",
       "      <td>525</td>\n",
       "      <td>669.055363</td>\n",
       "    </tr>\n",
       "    <tr>\n",
       "      <th>2044</th>\n",
       "      <td>310</td>\n",
       "      <td>525.055363</td>\n",
       "    </tr>\n",
       "  </tbody>\n",
       "</table>\n",
       "<p>2045 rows × 2 columns</p>\n",
       "</div>"
      ],
      "text/plain": [
       "      CEN  Prediction\n",
       "0     504  511.865591\n",
       "1     424  501.900589\n",
       "2     345  424.756456\n",
       "3     276  345.090783\n",
       "4     147  275.936034\n",
       "...   ...         ...\n",
       "2040  637  496.055363\n",
       "2041  647  637.055363\n",
       "2042  669  647.055363\n",
       "2043  525  669.055363\n",
       "2044  310  525.055363\n",
       "\n",
       "[2045 rows x 2 columns]"
      ]
     },
     "execution_count": 21,
     "metadata": {},
     "output_type": "execute_result"
    }
   ],
   "source": [
    "sarima_testdata_pred"
   ]
  },
  {
   "cell_type": "code",
   "execution_count": 23,
   "metadata": {},
   "outputs": [
    {
     "data": {
      "text/plain": [
       "86.27615204487256"
      ]
     },
     "execution_count": 23,
     "metadata": {},
     "output_type": "execute_result"
    }
   ],
   "source": [
    "rmse_error = rmse(sarima_testdata_pred.iloc[1:, 0], sarima_testdata_pred.iloc[1:, -1]) \n",
    "rmse_error"
   ]
  },
  {
   "cell_type": "code",
   "execution_count": 24,
   "metadata": {},
   "outputs": [
    {
     "data": {
      "text/plain": [
       "<matplotlib.axes._subplots.AxesSubplot at 0x12b020510>"
      ]
     },
     "execution_count": 24,
     "metadata": {},
     "output_type": "execute_result"
    },
    {
     "data": {
      "image/png": "[encoded data removed]",
      "text/plain": [
       "<Figure size 576x396 with 1 Axes>"
      ]
     },
     "metadata": {},
     "output_type": "display_data"
    }
   ],
   "source": [
    "sarima_testdata_pred.iloc[100:200, 0].plot()\n",
    "sarima_testdata_pred.iloc[100:200, 1].plot()"
   ]
  },
  {
   "cell_type": "markdown",
   "metadata": {},
   "source": [
    "# ARIMA: SARIMAX"
   ]
  },
  {
   "cell_type": "code",
   "execution_count": null,
   "metadata": {},
   "outputs": [],
   "source": [
    "my_order = (1,0,0)\n",
    "my_seasonal_order = (0,1,1,24)\n",
    "\n",
    "model = SARIMAX(train_fns_diff, \n",
    "                order=my_order, trend=\"c\",\n",
    "                seasonal_order=my_seasonal_order, \n",
    "                enforce_stationarity=True,\n",
    "                enforce_invertibility=True).fit()"
   ]
  },
  {
   "cell_type": "code",
   "execution_count": null,
   "metadata": {},
   "outputs": [],
   "source": [
    "# forecast\n",
    "n_test = len(test_fns)\n",
    "test_predictions = model.forecast(n_test)\n",
    "test_predictions"
   ]
  },
  {
   "cell_type": "code",
   "execution_count": null,
   "metadata": {
    "scrolled": false
   },
   "outputs": [],
   "source": [
    "# invert predictions\n",
    "inverted_ytest = list()\n",
    "for i in range(len(test_predictions)):\n",
    "    value = test_predictions.iloc[i] + df_fns.iloc[-(len(test_predictions)+1-i)]\n",
    "    inverted_ytest.append(value)\n",
    "inverted_ytest = pd.DataFrame(inverted_ytest)\n",
    "\n",
    "# inverse_difference(df_fns, test_predictions[i], len(test_predictions)+1-i) # 10224, 2045, 2045+1-i\n",
    "inverted_ytest"
   ]
  },
  {
   "cell_type": "code",
   "execution_count": null,
   "metadata": {},
   "outputs": [],
   "source": [
    "sarima_testpred = pd.DataFrame(inverted_ytest)\n",
    "sarima_testpred.rename(columns={0: \"Prediction\"}, inplace=True)\n",
    "sarima_testdata_pred = pd.concat([test_dic[\"FNS\"].reset_index().iloc[:,1:], sarima_testpred], axis=1)\n",
    "sarima_testdata_pred"
   ]
  },
  {
   "cell_type": "code",
   "execution_count": null,
   "metadata": {},
   "outputs": [],
   "source": [
    "rmse_error = rmse(sarima_testdata_pred.iloc[1:, 0], sarima_testdata_pred.iloc[1:, -1]) \n",
    "rmse_error"
   ]
  },
  {
   "cell_type": "code",
   "execution_count": null,
   "metadata": {},
   "outputs": [],
   "source": [
    "sarima_testdata_pred.iloc[1500:-1, 0].plot(figsize=(15,8))\n",
    "sarima_testdata_pred.iloc[1500:-1, 1].plot(figsize=(15,8))"
   ]
  },
  {
   "cell_type": "code",
   "execution_count": null,
   "metadata": {},
   "outputs": [],
   "source": [
    "# Define, fit, make predictions for each side\n",
    "model_dic = {}\n",
    "test_predictions_dic = {}\n",
    "\n",
    "for key in train_dic:\n",
    "    model, test_predictions = define_sarima(train_dic[key], my_order, my_seasonal_order, test_dic[key])\n",
    "    model_dic[key], test_predictions_dic[key] = model, test_predictions\n",
    "    \n",
    "    "
   ]
  },
  {
   "cell_type": "code",
   "execution_count": null,
   "metadata": {},
   "outputs": [],
   "source": [
    "# concatenate test set and predictions\n",
    "sarima_testpred_dic = {}\n",
    "sarima_testdata_pred_dic = {}\n",
    "\n",
    "for key in test_predictions_dic:\n",
    "    sarima_testpred, sarima_testdata_pred = sarima_concatenate_predictions(test_predictions_dic[key], test_dic[key])\n",
    "    sarima_testpred_dic[key], sarima_testdata_pred[key] = sarima_testpred, sarima_testdata_pred\n"
   ]
  },
  {
   "cell_type": "code",
   "execution_count": null,
   "metadata": {},
   "outputs": [],
   "source": [
    "# evaluate: calculate RMSE for test data against predictions\n",
    "rmse_error_dic = {}\n",
    "\n",
    "for key in sarima_testdata_pred_dic:\n",
    "    rmse_error = sarima_evaluate(sarima_testdata_pred[key], 1, 10)\n",
    "    rmse_error_dic = rmse_error\n"
   ]
  },
  {
   "cell_type": "markdown",
   "metadata": {},
   "source": [
    "# 3rd method: Prophet"
   ]
  },
  {
   "cell_type": "code",
   "execution_count": null,
   "metadata": {},
   "outputs": [],
   "source": [
    "# creating a new df for prophet test\n",
    "\n",
    "df_test = df_sides[\"CEN\"]\n",
    "df_test[\"ds\"] = df_test.index\n",
    "df_test[\"y\"] = df_test[\"CEN\"]\n",
    "df_test.reset_index(inplace=True)"
   ]
  },
  {
   "cell_type": "code",
   "execution_count": null,
   "metadata": {},
   "outputs": [],
   "source": [
    "# fitting df to prophet\n",
    "\n",
    "model = Prohet(seasonality=True)\n",
    "model.fit(df_test)"
   ]
  },
  {
   "cell_type": "code",
   "execution_count": null,
   "metadata": {},
   "outputs": [],
   "source": [
    "future = model.make_future_dataframe(periodes=X, freq=\"H\")\n",
    "\n",
    "# predict method assigns to each row a predicted value named yhat.\n",
    "# also has yhat_lower and yhat_upper as confidence intervals.\n",
    "forecast = model.predict(future)"
   ]
  },
  {
   "cell_type": "code",
   "execution_count": null,
   "metadata": {},
   "outputs": [],
   "source": [
    "# forecasting\n",
    "model.plot(forecast, xlabel=\"Date\", ylabel=\"Hourly pickups\")\n",
    "plt.title('Prophet - Model fit and 1-month prediction')\n"
   ]
  },
  {
   "cell_type": "code",
   "execution_count": null,
   "metadata": {},
   "outputs": [],
   "source": [
    "model.plot_components(forecast);"
   ]
  },
  {
   "cell_type": "code",
   "execution_count": null,
   "metadata": {},
   "outputs": [],
   "source": [
    "# scoring\n",
    "predictions = pd.DataFrame(forecast.yhat[-720:])\n",
    "plot_forecast(test[\"columnname\"], predictions)\n",
    "rmse(ts15_test[\"columnname\"], predictions)"
   ]
  }
 ],
 "metadata": {
  "kernelspec": {
   "display_name": "Python 3",
   "language": "python",
   "name": "python3"
  },
  "language_info": {
   "codemirror_mode": {
    "name": "ipython",
    "version": 3
   },
   "file_extension": ".py",
   "mimetype": "text/x-python",
   "name": "python",
   "nbconvert_exporter": "python",
   "pygments_lexer": "ipython3",
   "version": "3.7.4"
  }
 },
 "nbformat": 4,
 "nbformat_minor": 2
}
