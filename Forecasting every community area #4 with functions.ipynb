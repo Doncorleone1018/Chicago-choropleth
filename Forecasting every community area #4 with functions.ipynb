{
 "cells": [
  {
   "cell_type": "code",
   "execution_count": 1,
   "metadata": {},
   "outputs": [
    {
     "data": {
      "text/html": [
       "        <script type=\"text/javascript\">\n",
       "        window.PlotlyConfig = {MathJaxConfig: 'local'};\n",
       "        if (window.MathJax) {MathJax.Hub.Config({SVG: {font: \"STIX-Web\"}});}\n",
       "        if (typeof require !== 'undefined') {\n",
       "        require.undef(\"plotly\");\n",
       "        requirejs.config({\n",
       "            paths: {\n",
       "                'plotly': ['https://cdn.plot.ly/plotly-latest.min']\n",
       "            }\n",
       "        });\n",
       "        require(['plotly'], function(Plotly) {\n",
       "            window._Plotly = Plotly;\n",
       "        });\n",
       "        }\n",
       "        </script>\n",
       "        "
      ]
     },
     "metadata": {},
     "output_type": "display_data"
    },
    {
     "data": {
      "text/html": [
       "        <script type=\"text/javascript\">\n",
       "        window.PlotlyConfig = {MathJaxConfig: 'local'};\n",
       "        if (window.MathJax) {MathJax.Hub.Config({SVG: {font: \"STIX-Web\"}});}\n",
       "        if (typeof require !== 'undefined') {\n",
       "        require.undef(\"plotly\");\n",
       "        requirejs.config({\n",
       "            paths: {\n",
       "                'plotly': ['https://cdn.plot.ly/plotly-latest.min']\n",
       "            }\n",
       "        });\n",
       "        require(['plotly'], function(Plotly) {\n",
       "            window._Plotly = Plotly;\n",
       "        });\n",
       "        }\n",
       "        </script>\n",
       "        "
      ]
     },
     "metadata": {},
     "output_type": "display_data"
    }
   ],
   "source": [
    "import pandas as pd\n",
    "import numpy as np\n",
    "import matplotlib.pyplot as plt\n",
    "import datetime\n",
    "\n",
    "from plotly import __version__\n",
    "import cufflinks as cf\n",
    "\n",
    "from plotly.offline import download_plotlyjs,init_notebook_mode,plot,iplot\n",
    "init_notebook_mode(connected=True)\n",
    "cf.go_offline()"
   ]
  },
  {
   "cell_type": "code",
   "execution_count": 2,
   "metadata": {},
   "outputs": [],
   "source": [
    "%matplotlib inline"
   ]
  },
  {
   "cell_type": "markdown",
   "metadata": {},
   "source": [
    "# Loading in data"
   ]
  },
  {
   "cell_type": "code",
   "execution_count": 3,
   "metadata": {},
   "outputs": [
    {
     "data": {
      "text/html": [
       "<div>\n",
       "<style scoped>\n",
       "    .dataframe tbody tr th:only-of-type {\n",
       "        vertical-align: middle;\n",
       "    }\n",
       "\n",
       "    .dataframe tbody tr th {\n",
       "        vertical-align: top;\n",
       "    }\n",
       "\n",
       "    .dataframe thead th {\n",
       "        text-align: right;\n",
       "    }\n",
       "</style>\n",
       "<table border=\"1\" class=\"dataframe\">\n",
       "  <thead>\n",
       "    <tr style=\"text-align: right;\">\n",
       "      <th></th>\n",
       "      <th>FNS</th>\n",
       "      <th>Ohara</th>\n",
       "      <th>NWS</th>\n",
       "      <th>NS</th>\n",
       "      <th>WS</th>\n",
       "      <th>CEN</th>\n",
       "      <th>SS</th>\n",
       "      <th>SWS</th>\n",
       "      <th>FSWS</th>\n",
       "      <th>FSES</th>\n",
       "    </tr>\n",
       "  </thead>\n",
       "  <tbody>\n",
       "    <tr>\n",
       "      <th>count</th>\n",
       "      <td>10224</td>\n",
       "      <td>10224</td>\n",
       "      <td>10224</td>\n",
       "      <td>10224</td>\n",
       "      <td>10224</td>\n",
       "      <td>10224</td>\n",
       "      <td>10224</td>\n",
       "      <td>10224</td>\n",
       "      <td>10224</td>\n",
       "      <td>10224</td>\n",
       "    </tr>\n",
       "    <tr>\n",
       "      <th>mean</th>\n",
       "      <td>8</td>\n",
       "      <td>4</td>\n",
       "      <td>3</td>\n",
       "      <td>19</td>\n",
       "      <td>21</td>\n",
       "      <td>30</td>\n",
       "      <td>6</td>\n",
       "      <td>4</td>\n",
       "      <td>1</td>\n",
       "      <td>2</td>\n",
       "    </tr>\n",
       "    <tr>\n",
       "      <th>std</th>\n",
       "      <td>5</td>\n",
       "      <td>3</td>\n",
       "      <td>2</td>\n",
       "      <td>14</td>\n",
       "      <td>13</td>\n",
       "      <td>20</td>\n",
       "      <td>4</td>\n",
       "      <td>3</td>\n",
       "      <td>1</td>\n",
       "      <td>1</td>\n",
       "    </tr>\n",
       "    <tr>\n",
       "      <th>min</th>\n",
       "      <td>0</td>\n",
       "      <td>0</td>\n",
       "      <td>0</td>\n",
       "      <td>0</td>\n",
       "      <td>0</td>\n",
       "      <td>0</td>\n",
       "      <td>0</td>\n",
       "      <td>0</td>\n",
       "      <td>0</td>\n",
       "      <td>0</td>\n",
       "    </tr>\n",
       "    <tr>\n",
       "      <th>25%</th>\n",
       "      <td>5</td>\n",
       "      <td>1</td>\n",
       "      <td>1</td>\n",
       "      <td>10</td>\n",
       "      <td>11</td>\n",
       "      <td>13</td>\n",
       "      <td>3</td>\n",
       "      <td>3</td>\n",
       "      <td>0</td>\n",
       "      <td>1</td>\n",
       "    </tr>\n",
       "    <tr>\n",
       "      <th>50%</th>\n",
       "      <td>8</td>\n",
       "      <td>3</td>\n",
       "      <td>3</td>\n",
       "      <td>17</td>\n",
       "      <td>21</td>\n",
       "      <td>30</td>\n",
       "      <td>6</td>\n",
       "      <td>5</td>\n",
       "      <td>1</td>\n",
       "      <td>2</td>\n",
       "    </tr>\n",
       "    <tr>\n",
       "      <th>75%</th>\n",
       "      <td>12</td>\n",
       "      <td>6</td>\n",
       "      <td>5</td>\n",
       "      <td>27</td>\n",
       "      <td>30</td>\n",
       "      <td>45</td>\n",
       "      <td>10</td>\n",
       "      <td>7</td>\n",
       "      <td>2</td>\n",
       "      <td>3</td>\n",
       "    </tr>\n",
       "    <tr>\n",
       "      <th>max</th>\n",
       "      <td>39</td>\n",
       "      <td>23</td>\n",
       "      <td>16</td>\n",
       "      <td>100</td>\n",
       "      <td>85</td>\n",
       "      <td>122</td>\n",
       "      <td>28</td>\n",
       "      <td>22</td>\n",
       "      <td>8</td>\n",
       "      <td>15</td>\n",
       "    </tr>\n",
       "  </tbody>\n",
       "</table>\n",
       "</div>"
      ],
      "text/plain": [
       "         FNS  Ohara    NWS     NS     WS    CEN     SS    SWS   FSWS   FSES\n",
       "count  10224  10224  10224  10224  10224  10224  10224  10224  10224  10224\n",
       "mean       8      4      3     19     21     30      6      4      1      2\n",
       "std        5      3      2     14     13     20      4      3      1      1\n",
       "min        0      0      0      0      0      0      0      0      0      0\n",
       "25%        5      1      1     10     11     13      3      3      0      1\n",
       "50%        8      3      3     17     21     30      6      5      1      2\n",
       "75%       12      6      5     27     30     45     10      7      2      3\n",
       "max       39     23     16    100     85    122     28     22      8     15"
      ]
     },
     "execution_count": 3,
     "metadata": {},
     "output_type": "execute_result"
    }
   ],
   "source": [
    "# Import hourly pickups by Chicago Side\n",
    "df_sides = pd.read_csv(\"Hourly_pickups_by_sides_v1.csv\")\n",
    "\n",
    "# change to datetime object\n",
    "df_sides[\"StartTime\"] = pd.to_datetime(df_sides[\"StartTime\"])\n",
    "\n",
    "# set index\n",
    "df_sides.set_index(\"StartTime\", inplace=True)\n",
    "\n",
    "df_sides.describe().astype(int)"
   ]
  },
  {
   "cell_type": "code",
   "execution_count": 4,
   "metadata": {},
   "outputs": [
    {
     "data": {
      "text/html": [
       "<div>\n",
       "<style scoped>\n",
       "    .dataframe tbody tr th:only-of-type {\n",
       "        vertical-align: middle;\n",
       "    }\n",
       "\n",
       "    .dataframe tbody tr th {\n",
       "        vertical-align: top;\n",
       "    }\n",
       "\n",
       "    .dataframe thead th {\n",
       "        text-align: right;\n",
       "    }\n",
       "</style>\n",
       "<table border=\"1\" class=\"dataframe\">\n",
       "  <thead>\n",
       "    <tr style=\"text-align: right;\">\n",
       "      <th></th>\n",
       "      <th>FNS</th>\n",
       "      <th>Ohara</th>\n",
       "      <th>NWS</th>\n",
       "      <th>NS</th>\n",
       "      <th>WS</th>\n",
       "      <th>CEN</th>\n",
       "      <th>SS</th>\n",
       "      <th>SWS</th>\n",
       "      <th>FSWS</th>\n",
       "      <th>FSES</th>\n",
       "    </tr>\n",
       "    <tr>\n",
       "      <th>StartTime</th>\n",
       "      <th></th>\n",
       "      <th></th>\n",
       "      <th></th>\n",
       "      <th></th>\n",
       "      <th></th>\n",
       "      <th></th>\n",
       "      <th></th>\n",
       "      <th></th>\n",
       "      <th></th>\n",
       "      <th></th>\n",
       "    </tr>\n",
       "  </thead>\n",
       "  <tbody>\n",
       "    <tr>\n",
       "      <th>2018-11-01 00:00:00</th>\n",
       "      <td>6.0</td>\n",
       "      <td>1.0</td>\n",
       "      <td>2.0</td>\n",
       "      <td>17.0</td>\n",
       "      <td>9.0</td>\n",
       "      <td>20.0</td>\n",
       "      <td>8.0</td>\n",
       "      <td>1.0</td>\n",
       "      <td>0.0</td>\n",
       "      <td>0.0</td>\n",
       "    </tr>\n",
       "    <tr>\n",
       "      <th>2018-11-01 01:00:00</th>\n",
       "      <td>4.0</td>\n",
       "      <td>0.0</td>\n",
       "      <td>2.0</td>\n",
       "      <td>20.0</td>\n",
       "      <td>6.0</td>\n",
       "      <td>6.0</td>\n",
       "      <td>3.0</td>\n",
       "      <td>0.0</td>\n",
       "      <td>1.0</td>\n",
       "      <td>1.0</td>\n",
       "    </tr>\n",
       "    <tr>\n",
       "      <th>2018-11-01 02:00:00</th>\n",
       "      <td>5.0</td>\n",
       "      <td>0.0</td>\n",
       "      <td>1.0</td>\n",
       "      <td>7.0</td>\n",
       "      <td>8.0</td>\n",
       "      <td>13.0</td>\n",
       "      <td>0.0</td>\n",
       "      <td>2.0</td>\n",
       "      <td>2.0</td>\n",
       "      <td>1.0</td>\n",
       "    </tr>\n",
       "    <tr>\n",
       "      <th>2018-11-01 03:00:00</th>\n",
       "      <td>2.0</td>\n",
       "      <td>0.0</td>\n",
       "      <td>1.0</td>\n",
       "      <td>3.0</td>\n",
       "      <td>6.0</td>\n",
       "      <td>4.0</td>\n",
       "      <td>0.0</td>\n",
       "      <td>0.0</td>\n",
       "      <td>1.0</td>\n",
       "      <td>1.0</td>\n",
       "    </tr>\n",
       "    <tr>\n",
       "      <th>2018-11-01 04:00:00</th>\n",
       "      <td>3.0</td>\n",
       "      <td>0.0</td>\n",
       "      <td>1.0</td>\n",
       "      <td>5.0</td>\n",
       "      <td>5.0</td>\n",
       "      <td>5.0</td>\n",
       "      <td>2.0</td>\n",
       "      <td>4.0</td>\n",
       "      <td>0.0</td>\n",
       "      <td>0.0</td>\n",
       "    </tr>\n",
       "    <tr>\n",
       "      <th>...</th>\n",
       "      <td>...</td>\n",
       "      <td>...</td>\n",
       "      <td>...</td>\n",
       "      <td>...</td>\n",
       "      <td>...</td>\n",
       "      <td>...</td>\n",
       "      <td>...</td>\n",
       "      <td>...</td>\n",
       "      <td>...</td>\n",
       "      <td>...</td>\n",
       "    </tr>\n",
       "    <tr>\n",
       "      <th>2019-12-31 19:00:00</th>\n",
       "      <td>27.0</td>\n",
       "      <td>2.0</td>\n",
       "      <td>5.0</td>\n",
       "      <td>59.0</td>\n",
       "      <td>54.0</td>\n",
       "      <td>63.0</td>\n",
       "      <td>6.0</td>\n",
       "      <td>4.0</td>\n",
       "      <td>5.0</td>\n",
       "      <td>1.0</td>\n",
       "    </tr>\n",
       "    <tr>\n",
       "      <th>2019-12-31 20:00:00</th>\n",
       "      <td>36.0</td>\n",
       "      <td>3.0</td>\n",
       "      <td>11.0</td>\n",
       "      <td>73.0</td>\n",
       "      <td>44.0</td>\n",
       "      <td>58.0</td>\n",
       "      <td>12.0</td>\n",
       "      <td>9.0</td>\n",
       "      <td>3.0</td>\n",
       "      <td>7.0</td>\n",
       "    </tr>\n",
       "    <tr>\n",
       "      <th>2019-12-31 21:00:00</th>\n",
       "      <td>30.0</td>\n",
       "      <td>3.0</td>\n",
       "      <td>8.0</td>\n",
       "      <td>66.0</td>\n",
       "      <td>40.0</td>\n",
       "      <td>74.0</td>\n",
       "      <td>15.0</td>\n",
       "      <td>7.0</td>\n",
       "      <td>2.0</td>\n",
       "      <td>2.0</td>\n",
       "    </tr>\n",
       "    <tr>\n",
       "      <th>2019-12-31 22:00:00</th>\n",
       "      <td>19.0</td>\n",
       "      <td>3.0</td>\n",
       "      <td>7.0</td>\n",
       "      <td>36.0</td>\n",
       "      <td>51.0</td>\n",
       "      <td>46.0</td>\n",
       "      <td>11.0</td>\n",
       "      <td>8.0</td>\n",
       "      <td>3.0</td>\n",
       "      <td>5.0</td>\n",
       "    </tr>\n",
       "    <tr>\n",
       "      <th>2019-12-31 23:00:00</th>\n",
       "      <td>16.0</td>\n",
       "      <td>0.0</td>\n",
       "      <td>9.0</td>\n",
       "      <td>24.0</td>\n",
       "      <td>26.0</td>\n",
       "      <td>29.0</td>\n",
       "      <td>14.0</td>\n",
       "      <td>5.0</td>\n",
       "      <td>1.0</td>\n",
       "      <td>4.0</td>\n",
       "    </tr>\n",
       "  </tbody>\n",
       "</table>\n",
       "<p>10224 rows × 10 columns</p>\n",
       "</div>"
      ],
      "text/plain": [
       "                      FNS  Ohara   NWS    NS    WS   CEN    SS  SWS  FSWS  \\\n",
       "StartTime                                                                   \n",
       "2018-11-01 00:00:00   6.0    1.0   2.0  17.0   9.0  20.0   8.0  1.0   0.0   \n",
       "2018-11-01 01:00:00   4.0    0.0   2.0  20.0   6.0   6.0   3.0  0.0   1.0   \n",
       "2018-11-01 02:00:00   5.0    0.0   1.0   7.0   8.0  13.0   0.0  2.0   2.0   \n",
       "2018-11-01 03:00:00   2.0    0.0   1.0   3.0   6.0   4.0   0.0  0.0   1.0   \n",
       "2018-11-01 04:00:00   3.0    0.0   1.0   5.0   5.0   5.0   2.0  4.0   0.0   \n",
       "...                   ...    ...   ...   ...   ...   ...   ...  ...   ...   \n",
       "2019-12-31 19:00:00  27.0    2.0   5.0  59.0  54.0  63.0   6.0  4.0   5.0   \n",
       "2019-12-31 20:00:00  36.0    3.0  11.0  73.0  44.0  58.0  12.0  9.0   3.0   \n",
       "2019-12-31 21:00:00  30.0    3.0   8.0  66.0  40.0  74.0  15.0  7.0   2.0   \n",
       "2019-12-31 22:00:00  19.0    3.0   7.0  36.0  51.0  46.0  11.0  8.0   3.0   \n",
       "2019-12-31 23:00:00  16.0    0.0   9.0  24.0  26.0  29.0  14.0  5.0   1.0   \n",
       "\n",
       "                     FSES  \n",
       "StartTime                  \n",
       "2018-11-01 00:00:00   0.0  \n",
       "2018-11-01 01:00:00   1.0  \n",
       "2018-11-01 02:00:00   1.0  \n",
       "2018-11-01 03:00:00   1.0  \n",
       "2018-11-01 04:00:00   0.0  \n",
       "...                   ...  \n",
       "2019-12-31 19:00:00   1.0  \n",
       "2019-12-31 20:00:00   7.0  \n",
       "2019-12-31 21:00:00   2.0  \n",
       "2019-12-31 22:00:00   5.0  \n",
       "2019-12-31 23:00:00   4.0  \n",
       "\n",
       "[10224 rows x 10 columns]"
      ]
     },
     "execution_count": 4,
     "metadata": {},
     "output_type": "execute_result"
    }
   ],
   "source": [
    "# concert dataframe to floats\n",
    "df_sides.astype(float)"
   ]
  },
  {
   "cell_type": "markdown",
   "metadata": {},
   "source": [
    "# Time series check need for differencing"
   ]
  },
  {
   "cell_type": "code",
   "execution_count": 478,
   "metadata": {},
   "outputs": [],
   "source": [
    "from statsmodels.tsa.stattools import adfuller\n",
    "from statsmodels.graphics.tsaplots import plot_acf\n",
    "from statsmodels.graphics.tsaplots import plot_pacf"
   ]
  },
  {
   "cell_type": "code",
   "execution_count": 191,
   "metadata": {},
   "outputs": [],
   "source": [
    "def get_stationarity(timeseries):\n",
    "    # rolling statistics\n",
    "    rolling_mean = timeseries.rolling(window=24).mean()\n",
    "    rolling_std = timeseries.rolling(window=24).std()\n",
    "    \n",
    "    # rolling statistics plot\n",
    "    fig, ax = plt.subplots(figsize=(15,5))\n",
    "    ax.plot(timeseries.index, timeseries, color=\"blue\", label=\"Original\")\n",
    "    ax.plot(rolling_mean, color=\"red\", label=\"Rolling Mean\")\n",
    "    ax.plot(rolling_std, color=\"black\", label=\"Rolling Std\")\n",
    "    ax.legend(loc=\"best\")\n",
    "    ax.set_title(\"Rolling Mean & Standard Deviation\")\n",
    "    \n",
    "    # Dickey-Fuller test:\n",
    "    result = adfuller(timeseries)\n",
    "    print(\"ADF Statistics: {}\".format(result[0]))\n",
    "    print(\"p-value: {}\".format(result[1]))\n",
    "    print(\"Critical Values:\")\n",
    "    for key, value in result[4].items():\n",
    "        print('\\t{}: {}'.format(key, value))\n"
   ]
  },
  {
   "cell_type": "code",
   "execution_count": 192,
   "metadata": {},
   "outputs": [],
   "source": [
    "df_ohara = df_sides.iloc[:, 1]"
   ]
  },
  {
   "cell_type": "code",
   "execution_count": 193,
   "metadata": {},
   "outputs": [
    {
     "name": "stdout",
     "output_type": "stream",
     "text": [
      "ADF Statistics: -11.766407365100614\n",
      "p-value: 1.1163078008375174e-21\n",
      "Critical Values:\n",
      "\t1%: -3.4309922139298674\n",
      "\t5%: -2.8618238209224707\n",
      "\t10%: -2.566921072734192\n"
     ]
    },
    {
     "data": {
      "image/png": "[encoded data removed]",
      "text/plain": [
       "<Figure size 1080x360 with 1 Axes>"
      ]
     },
     "metadata": {
      "needs_background": "light"
     },
     "output_type": "display_data"
    }
   ],
   "source": [
    "get_stationarity(df_ohara)"
   ]
  },
  {
   "cell_type": "code",
   "execution_count": 479,
   "metadata": {},
   "outputs": [
    {
     "data": {
      "image/png": "[encoded data removed]",
      "text/plain": [
       "<Figure size 432x288 with 1 Axes>"
      ]
     },
     "execution_count": 479,
     "metadata": {},
     "output_type": "execute_result"
    },
    {
     "data": {
      "image/png": "[encoded data removed]",
      "text/plain": [
       "<Figure size 432x288 with 1 Axes>"
      ]
     },
     "metadata": {
      "needs_background": "light"
     },
     "output_type": "display_data"
    },
    {
     "data": {
      "image/png": "[encoded data removed]",
      "text/plain": [
       "<Figure size 432x288 with 1 Axes>"
      ]
     },
     "metadata": {
      "needs_background": "light"
     },
     "output_type": "display_data"
    }
   ],
   "source": [
    "# get ACF and PACF plot\n",
    "plot_acf(df_ohara)\n",
    "plot_pacf(df_ohara)"
   ]
  },
  {
   "cell_type": "code",
   "execution_count": 222,
   "metadata": {},
   "outputs": [],
   "source": [
    "# create a differenced series\n",
    "def difference(data, interval):\n",
    "    return [data[i] - data[i - interval] for i in range(interval, len(data))]\n",
    "\n",
    "# invert difference\n",
    "def inverse_difference(history, yhat, interval=1):\n",
    "    return yhat + history[-interval]"
   ]
  },
  {
   "cell_type": "code",
   "execution_count": 223,
   "metadata": {},
   "outputs": [],
   "source": [
    "transformed = difference(df_ohara, 1)"
   ]
  },
  {
   "cell_type": "code",
   "execution_count": 224,
   "metadata": {},
   "outputs": [],
   "source": [
    "transformed\n",
    "inverted = invert_difference(df_ohara, transformed, 1)"
   ]
  },
  {
   "cell_type": "markdown",
   "metadata": {},
   "source": [
    "# Machine learning methods: XGBoost and LSTM"
   ]
  },
  {
   "cell_type": "code",
   "execution_count": 5,
   "metadata": {
    "scrolled": true
   },
   "outputs": [
    {
     "name": "stderr",
     "output_type": "stream",
     "text": [
      "Using TensorFlow backend.\n",
      "/Applications/anaconda3/lib/python3.7/site-packages/tensorflow/python/framework/dtypes.py:516: FutureWarning:\n",
      "\n",
      "Passing (type, 1) or '1type' as a synonym of type is deprecated; in a future version of numpy, it will be understood as (type, (1,)) / '(1,)type'.\n",
      "\n",
      "/Applications/anaconda3/lib/python3.7/site-packages/tensorflow/python/framework/dtypes.py:517: FutureWarning:\n",
      "\n",
      "Passing (type, 1) or '1type' as a synonym of type is deprecated; in a future version of numpy, it will be understood as (type, (1,)) / '(1,)type'.\n",
      "\n",
      "/Applications/anaconda3/lib/python3.7/site-packages/tensorflow/python/framework/dtypes.py:518: FutureWarning:\n",
      "\n",
      "Passing (type, 1) or '1type' as a synonym of type is deprecated; in a future version of numpy, it will be understood as (type, (1,)) / '(1,)type'.\n",
      "\n",
      "/Applications/anaconda3/lib/python3.7/site-packages/tensorflow/python/framework/dtypes.py:519: FutureWarning:\n",
      "\n",
      "Passing (type, 1) or '1type' as a synonym of type is deprecated; in a future version of numpy, it will be understood as (type, (1,)) / '(1,)type'.\n",
      "\n",
      "/Applications/anaconda3/lib/python3.7/site-packages/tensorflow/python/framework/dtypes.py:520: FutureWarning:\n",
      "\n",
      "Passing (type, 1) or '1type' as a synonym of type is deprecated; in a future version of numpy, it will be understood as (type, (1,)) / '(1,)type'.\n",
      "\n",
      "/Applications/anaconda3/lib/python3.7/site-packages/tensorflow/python/framework/dtypes.py:525: FutureWarning:\n",
      "\n",
      "Passing (type, 1) or '1type' as a synonym of type is deprecated; in a future version of numpy, it will be understood as (type, (1,)) / '(1,)type'.\n",
      "\n",
      "/Applications/anaconda3/lib/python3.7/site-packages/tensorboard/compat/tensorflow_stub/dtypes.py:541: FutureWarning:\n",
      "\n",
      "Passing (type, 1) or '1type' as a synonym of type is deprecated; in a future version of numpy, it will be understood as (type, (1,)) / '(1,)type'.\n",
      "\n",
      "/Applications/anaconda3/lib/python3.7/site-packages/tensorboard/compat/tensorflow_stub/dtypes.py:542: FutureWarning:\n",
      "\n",
      "Passing (type, 1) or '1type' as a synonym of type is deprecated; in a future version of numpy, it will be understood as (type, (1,)) / '(1,)type'.\n",
      "\n",
      "/Applications/anaconda3/lib/python3.7/site-packages/tensorboard/compat/tensorflow_stub/dtypes.py:543: FutureWarning:\n",
      "\n",
      "Passing (type, 1) or '1type' as a synonym of type is deprecated; in a future version of numpy, it will be understood as (type, (1,)) / '(1,)type'.\n",
      "\n",
      "/Applications/anaconda3/lib/python3.7/site-packages/tensorboard/compat/tensorflow_stub/dtypes.py:544: FutureWarning:\n",
      "\n",
      "Passing (type, 1) or '1type' as a synonym of type is deprecated; in a future version of numpy, it will be understood as (type, (1,)) / '(1,)type'.\n",
      "\n",
      "/Applications/anaconda3/lib/python3.7/site-packages/tensorboard/compat/tensorflow_stub/dtypes.py:545: FutureWarning:\n",
      "\n",
      "Passing (type, 1) or '1type' as a synonym of type is deprecated; in a future version of numpy, it will be understood as (type, (1,)) / '(1,)type'.\n",
      "\n",
      "/Applications/anaconda3/lib/python3.7/site-packages/tensorboard/compat/tensorflow_stub/dtypes.py:550: FutureWarning:\n",
      "\n",
      "Passing (type, 1) or '1type' as a synonym of type is deprecated; in a future version of numpy, it will be understood as (type, (1,)) / '(1,)type'.\n",
      "\n"
     ]
    }
   ],
   "source": [
    "from sklearn.preprocessing import MinMaxScaler\n",
    "from sklearn.metrics import mean_squared_error\n",
    "from sklearn.metrics import mean_absolute_error\n",
    "from keras.models import Sequential\n",
    "from keras.layers import Dense\n",
    "from keras.layers import LSTM\n",
    "from keras.layers import Dropout"
   ]
  },
  {
   "cell_type": "markdown",
   "metadata": {},
   "source": [
    "# Baseline model"
   ]
  },
  {
   "cell_type": "markdown",
   "metadata": {},
   "source": [
    "This model serves as a baseline performance to which ARIMA, Holt-Winters, MLP, (XGBoost)?, and LSTM are compared to.\n",
    "\n",
    "Gives idea of how well your models perform on the problem at hand.\n",
    "\n",
    "Baseline has the following elements:\n",
    "- dataset\n",
    "- resampling technique used to estimate performance (e.g. train, test split)\n",
    "- Performance measure to evaluate forecast\n",
    "\n",
    "The persistence algorithm: use value at time (t) to predict (t+1)"
   ]
  },
  {
   "cell_type": "markdown",
   "metadata": {},
   "source": [
    "Step 1: supervised learning problem"
   ]
  },
  {
   "cell_type": "code",
   "execution_count": 110,
   "metadata": {},
   "outputs": [],
   "source": [
    "df_baseline = df_sides.iloc[:, 1]"
   ]
  },
  {
   "cell_type": "code",
   "execution_count": 111,
   "metadata": {},
   "outputs": [],
   "source": [
    "# shift time series \n",
    "def shift_ts(df_ts):\n",
    "    df_ts = pd.DataFrame(df_ts)\n",
    "    df_ts[\"input\"] = df_ts.shift(1)\n",
    "    df_ts.fillna(0, inplace=True)\n",
    "    return df_ts"
   ]
  },
  {
   "cell_type": "code",
   "execution_count": 112,
   "metadata": {},
   "outputs": [],
   "source": [
    "df_baseline = shift_ts(df_baseline)"
   ]
  },
  {
   "cell_type": "markdown",
   "metadata": {},
   "source": [
    "Step 2: train and test sets"
   ]
  },
  {
   "cell_type": "code",
   "execution_count": 124,
   "metadata": {},
   "outputs": [],
   "source": [
    "def split_baseline_data(data):\n",
    "    # set fractions\n",
    "    train_size = int(len(data) * 0.8)\n",
    "    test_size = len(data) - train_size\n",
    "    \n",
    "    # split data into train and test sets\n",
    "    train = data[0:train_size]\n",
    "    test = data[train_size:]\n",
    "    \n",
    "    # split train and test further into x_train, y_train, x_test, y_test\n",
    "    x_train = train.iloc[:, 1]\n",
    "    x_test = test.iloc[:, 1]\n",
    "\n",
    "    y_train = train.iloc[:, 0]\n",
    "    y_test = test.iloc[:, 0]\n",
    "    \n",
    "    # convert into numpy arrays\n",
    "    x_train = x_train.to_numpy()\n",
    "    x_test = x_test.to_numpy()\n",
    "    y_train = y_train.to_numpy()\n",
    "    y_test = y_test.to_numpy()\n",
    "    \n",
    "    # reshape to make numpy arrays into 2D\n",
    "    x_train = x_train.reshape(-1,1)\n",
    "    x_test = x_test.reshape(-1,1)\n",
    "    y_train = y_train.reshape(-1,1)\n",
    "    y_test = y_test.reshape(-1,1)\n",
    "    \n",
    "    return train, test, x_train, x_test, y_train, y_test"
   ]
  },
  {
   "cell_type": "code",
   "execution_count": 125,
   "metadata": {},
   "outputs": [],
   "source": [
    "train, test, x_train, x_test, y_train, y_test = split_baseline_data(df_baseline)"
   ]
  },
  {
   "cell_type": "code",
   "execution_count": 126,
   "metadata": {},
   "outputs": [
    {
     "name": "stdout",
     "output_type": "stream",
     "text": [
      "(8179, 1) (2045, 1) (8179, 1) (2045, 1)\n"
     ]
    }
   ],
   "source": [
    "print(x_train.shape, x_test.shape, y_train.shape, y_test.shape)"
   ]
  },
  {
   "cell_type": "markdown",
   "metadata": {},
   "source": [
    "Step 3: persistence algorithm"
   ]
  },
  {
   "cell_type": "code",
   "execution_count": 129,
   "metadata": {},
   "outputs": [],
   "source": [
    "def model_persistence(x):\n",
    "    return x"
   ]
  },
  {
   "cell_type": "markdown",
   "metadata": {},
   "source": [
    "Step 4: make and evaluate forecast"
   ]
  },
  {
   "cell_type": "code",
   "execution_count": 133,
   "metadata": {},
   "outputs": [
    {
     "name": "stdout",
     "output_type": "stream",
     "text": [
      "Test MSE: 12.240\n"
     ]
    },
    {
     "data": {
      "text/plain": [
       "[<matplotlib.lines.Line2D at 0x1403e7490>]"
      ]
     },
     "execution_count": 133,
     "metadata": {},
     "output_type": "execute_result"
    },
    {
     "data": {
      "image/png": "[encoded data removed]",
      "text/plain": [
       "<Figure size 432x288 with 1 Axes>"
      ]
     },
     "metadata": {
      "needs_background": "light"
     },
     "output_type": "display_data"
    }
   ],
   "source": [
    "# walk-forward validation\n",
    "predictions = list()\n",
    "for x in x_test:\n",
    "    yhat = model_persistence(x)\n",
    "    predictions.append(yhat)\n",
    "test_score = mean_squared_error(y_test, predictions)\n",
    "print('Test MSE: %.3f' % test_score)\n",
    "\n",
    "plt.plot(y_test[500:525])\n",
    "plt.plot(predictions[500:525])"
   ]
  },
  {
   "cell_type": "markdown",
   "metadata": {},
   "source": [
    "# LSTM only past values as input"
   ]
  },
  {
   "cell_type": "code",
   "execution_count": 273,
   "metadata": {},
   "outputs": [],
   "source": [
    "def ts_supervised(df, colnum):\n",
    "    df_ts = df.iloc[:, colnum]\n",
    "    df_ts = df_ts.astype(float)\n",
    "    df_ts = pd.DataFrame(df_ts)\n",
    "    df_ts[\"input\"] = df_ts.shift(1)\n",
    "    df_ts.fillna(0, inplace=True)\n",
    "    return df_ts"
   ]
  },
  {
   "cell_type": "code",
   "execution_count": 242,
   "metadata": {},
   "outputs": [],
   "source": [
    "supervised = ts_supervised(df_sides, colnum=1)\n"
   ]
  },
  {
   "cell_type": "code",
   "execution_count": 244,
   "metadata": {},
   "outputs": [],
   "source": [
    "def split_data(data):\n",
    "    # set fractions\n",
    "    train_size = int(len(data) * 0.8)\n",
    "    test_size = len(data) - train_size\n",
    "    \n",
    "    # split data into train and test sets\n",
    "    train = data[0:train_size]\n",
    "    test = data[train_size:]\n",
    "    \n",
    "    # split train and test further into x_train, y_train, x_test, y_test\n",
    "    x_train = train.iloc[:, 1]\n",
    "    x_test = test.iloc[:, 1]\n",
    "\n",
    "    y_train = train.iloc[:, 0]\n",
    "    y_test = test.iloc[:, 0]\n",
    "    \n",
    "    # convert into numpy arrays\n",
    "    x_train = x_train.to_numpy()\n",
    "    x_test = x_test.to_numpy()\n",
    "    y_train = y_train.to_numpy()\n",
    "    y_test = y_test.to_numpy()\n",
    "    \n",
    "    # reshape to make numpy arrays into 2D\n",
    "    x_train = x_train.reshape(-1,1)\n",
    "    x_test = x_test.reshape(-1,1)\n",
    "    y_train = y_train.reshape(-1,1)\n",
    "    y_test = y_test.reshape(-1,1)\n",
    "    \n",
    "    return train, test, x_train, x_test, y_train, y_test"
   ]
  },
  {
   "cell_type": "code",
   "execution_count": 245,
   "metadata": {},
   "outputs": [],
   "source": [
    "train, test, x_train, x_test, y_train, y_test = split_data(supervised)"
   ]
  },
  {
   "cell_type": "code",
   "execution_count": 246,
   "metadata": {},
   "outputs": [
    {
     "name": "stdout",
     "output_type": "stream",
     "text": [
      "(8179, 1) (2045, 1) (8179, 1) (2045, 1)\n"
     ]
    }
   ],
   "source": [
    "print(x_train.shape, x_test.shape, y_train.shape, y_test.shape)"
   ]
  },
  {
   "cell_type": "code",
   "execution_count": 249,
   "metadata": {},
   "outputs": [],
   "source": [
    "x_scaler, y_scaler, x_train_scaled, x_test_scaled, y_train_scaled, y_test_scaled = scale(x_train, x_test, y_train, y_test)\n"
   ]
  },
  {
   "cell_type": "code",
   "execution_count": 250,
   "metadata": {},
   "outputs": [
    {
     "name": "stdout",
     "output_type": "stream",
     "text": [
      "(8179, 1, 1) (2045, 1, 1) (8179, 1) (2045, 1)\n"
     ]
    }
   ],
   "source": [
    "print(x_train_scaled.shape, x_test_scaled.shape, y_train_scaled.shape, y_test_scaled.shape)"
   ]
  },
  {
   "cell_type": "markdown",
   "metadata": {},
   "source": [
    "# Long Short Term Memory RNN\n",
    "# Model Architecture"
   ]
  },
  {
   "cell_type": "markdown",
   "metadata": {},
   "source": [
    "The steps of creating a LSTM RNN are:\n",
    "- Defining the model\n",
    "- Adding layers\n",
    "- Add compiling: define loss function, optimizer, and metrics.\n",
    "- Training/fit the LSTM\n",
    "- Evaluate performance\n",
    "- Generate predictions"
   ]
  },
  {
   "cell_type": "markdown",
   "metadata": {},
   "source": [
    "Model has layers:\n",
    "- Model layer (LSTM): this is a recurrent layer comprised of memory units. Input shape needs to be 3D array. That is a tuple (tuple) of two values with the number of steps and features.\n",
    "- Dense Layer: layer used to ouput a prediction.\n",
    "- Compile Layers: is an efficiency step, transforming simple sequence of layers into a series for your GPU or CPU. Requires parameters 1) optimization algorithm to train the network and 2) loss function to evluatie the network by minimuzing the optimization algorithm (gradient descent)\n",
    "\n",
    "Important info on hyperparameter tuning! \n",
    "\n",
    "You want to check different settings for one hyperparameter on the model performance at the time: ceterus paribus. Repeat same experiments and compare summary statistics for each configuration.\n",
    "\n",
    "- Number of neurons affect learning capacity of network. Generally, more neurons = learning more the structure of the problem at cost of longer training time and potential overfitting."
   ]
  },
  {
   "cell_type": "code",
   "execution_count": 251,
   "metadata": {},
   "outputs": [
    {
     "data": {
      "text/plain": [
       "(8179, 1, 1)"
      ]
     },
     "execution_count": 251,
     "metadata": {},
     "output_type": "execute_result"
    }
   ],
   "source": [
    "x_train_scaled.shape"
   ]
  },
  {
   "cell_type": "code",
   "execution_count": 252,
   "metadata": {},
   "outputs": [
    {
     "data": {
      "text/plain": [
       "1"
      ]
     },
     "execution_count": 252,
     "metadata": {},
     "output_type": "execute_result"
    }
   ],
   "source": [
    "x_train_scaled.shape[2]"
   ]
  },
  {
   "cell_type": "code",
   "execution_count": 262,
   "metadata": {},
   "outputs": [],
   "source": [
    "def fit_lstm(x_train_scaled, y_train_scaled, batch, ep, neurons_lstm, neuron_dense):\n",
    "    model = Sequential()\n",
    "    model.add(LSTM(units=neurons_lstm, input_shape=(x_train_scaled.shape[1], x_train_scaled.shape[2])))\n",
    "    model.add(Dense(units=neuron_dense))\n",
    "    model.add(Dropout(rate=0.2))\n",
    "    model.compile(loss=\"mean_squared_error\", \n",
    "                  optimizer=\"adam\",\n",
    "                 )\n",
    "    \n",
    "    history = model.fit(x_train_scaled, \n",
    "                        y_train_scaled, \n",
    "                        epochs=ep, \n",
    "                        batch_size=batch, \n",
    "                        validation_split=0.1, \n",
    "                        verbose=1, \n",
    "                        shuffle=False)\n",
    "    return model, history"
   ]
  },
  {
   "cell_type": "code",
   "execution_count": 263,
   "metadata": {},
   "outputs": [
    {
     "name": "stdout",
     "output_type": "stream",
     "text": [
      "Train on 7361 samples, validate on 818 samples\n",
      "Epoch 1/5\n",
      "7361/7361 [==============================] - 2s 314us/step - loss: 0.0226 - val_loss: 0.0251\n",
      "Epoch 2/5\n",
      "7361/7361 [==============================] - 2s 221us/step - loss: 0.0204 - val_loss: 0.0240\n",
      "Epoch 3/5\n",
      "7361/7361 [==============================] - 2s 214us/step - loss: 0.0201 - val_loss: 0.0239\n",
      "Epoch 4/5\n",
      "7361/7361 [==============================] - 2s 213us/step - loss: 0.0207 - val_loss: 0.0240\n",
      "Epoch 5/5\n",
      "7361/7361 [==============================] - 2s 214us/step - loss: 0.0205 - val_loss: 0.0240\n"
     ]
    }
   ],
   "source": [
    "model, history = fit_lstm(x_train_scaled, \n",
    "                          y_train_scaled, \n",
    "                          batch=10, ep=5, \n",
    "                          neurons_lstm=10, \n",
    "                          neuron_dense=1)"
   ]
  },
  {
   "cell_type": "code",
   "execution_count": 264,
   "metadata": {},
   "outputs": [
    {
     "data": {
      "text/plain": [
       "Text(0, 0.5, 'Loss')"
      ]
     },
     "execution_count": 264,
     "metadata": {},
     "output_type": "execute_result"
    },
    {
     "data": {
      "image/png": "[encoded data removed]",
      "text/plain": [
       "<Figure size 432x288 with 1 Axes>"
      ]
     },
     "metadata": {
      "needs_background": "light"
     },
     "output_type": "display_data"
    }
   ],
   "source": [
    "# Evaluate Network\n",
    "plt.plot(history.history[\"loss\"], label=\"train\")\n",
    "plt.plot(history.history[\"val_loss\"], label=\"validation\")\n",
    "plt.legend()\n",
    "plt.xlabel(\"Epochs\")\n",
    "plt.ylabel(\"Loss\")"
   ]
  },
  {
   "cell_type": "code",
   "execution_count": 265,
   "metadata": {},
   "outputs": [],
   "source": [
    "def predictions(x_test_scaled, y_test):\n",
    "    # get predictions\n",
    "    test_pred = model.predict(x_test_scaled)\n",
    "    \n",
    "    # reverse transform predictions\n",
    "    test_pred_inv = x_scaler.inverse_transform(test_pred)\n",
    "    \n",
    "    # create single dataframe with predictions (1) and expected values (2)\n",
    "    predictions = np.concatenate((test_pred_inv, y_test), axis=1)\n",
    "    predictions = pd.DataFrame(predictions)\n",
    "    \n",
    "    return predictions"
   ]
  },
  {
   "cell_type": "code",
   "execution_count": 266,
   "metadata": {},
   "outputs": [],
   "source": [
    "predictions = predictions(x_test_scaled, y_test)"
   ]
  },
  {
   "cell_type": "code",
   "execution_count": 267,
   "metadata": {},
   "outputs": [],
   "source": [
    "def evaluate_lstm(predictions, start_val, end_val):\n",
    "    # print RMSE\n",
    "    rmse = np.sqrt(mean_squared_error(predictions[0], predictions[1]))\n",
    "    print('Test RMSE: %.3f' % rmse)\n",
    "    \n",
    "    # print min max values of predictions and actual values.\n",
    "    print(\"Min. value:\", predictions[0].min())\n",
    "    print(\"Max. value:\", predictions[0].max())\n",
    "\n",
    "    print(\"Min. value:\", predictions[1].min())\n",
    "    print(\"Max. value:\", predictions[1].max())\n",
    "    \n",
    "    # plot predictions vs actual values\n",
    "    plt.plot(predictions[0][start_val:end_val])\n",
    "    plt.plot(predictions[1][start_val:end_val])\n",
    "    \n",
    "    return rmse"
   ]
  },
  {
   "cell_type": "code",
   "execution_count": 270,
   "metadata": {},
   "outputs": [
    {
     "name": "stdout",
     "output_type": "stream",
     "text": [
      "Test RMSE: 3.355\n",
      "Min. value: 1.595537543296814\n",
      "Max. value: 9.69081974029541\n",
      "Min. value: 0.0\n",
      "Max. value: 20.0\n"
     ]
    },
    {
     "data": {
      "text/plain": [
       "3.355287510075308"
      ]
     },
     "execution_count": 270,
     "metadata": {},
     "output_type": "execute_result"
    },
    {
     "data": {
      "image/png": "[encoded data removed]",
      "text/plain": [
       "<Figure size 432x288 with 1 Axes>"
      ]
     },
     "metadata": {
      "needs_background": "light"
     },
     "output_type": "display_data"
    }
   ],
   "source": [
    "evaluate_lstm(predictions, start_val=1500, end_val=1600)"
   ]
  },
  {
   "cell_type": "code",
   "execution_count": 271,
   "metadata": {},
   "outputs": [],
   "source": [
    "def check_min_max(ts1, ts2):\n",
    "    if isinstance(ts1, pd.DataFrame) and isinstance(ts1, pd.DataFrame):\n",
    "        print(\"Min value output value:\", ts1.min())\n",
    "        print(\"Max value input value:\", ts1.max())\n",
    "        print(\"Min value output value:\", ts2.min())\n",
    "        print(\"Max value ouput value:\", ts2.max())\n",
    "    elif isinstance(ts1, np.ndarray) and isinstance(ts2, np.ndarray):\n",
    "        print(\"Min value input value:\", np.min(ts1))\n",
    "        print(\"Max value input value:\", np.max(ts1))\n",
    "        print(\"Min value output value:\", np.min(ts2))\n",
    "        print(\"Max value ouput value:\", np.max(ts2))\n",
    "    else:\n",
    "        print(\"Error, not dataframe nor numpy array\")"
   ]
  },
  {
   "cell_type": "code",
   "execution_count": 272,
   "metadata": {},
   "outputs": [
    {
     "name": "stdout",
     "output_type": "stream",
     "text": [
      "Min value input value: 0.0\n",
      "Max value input value: 23.0\n",
      "Min value output value: 0.0\n",
      "Max value ouput value: 20.0\n"
     ]
    }
   ],
   "source": [
    "check_min_max(x_train, x_test)"
   ]
  },
  {
   "cell_type": "markdown",
   "metadata": {},
   "source": [
    "# LSTM Multivariate demand prediction with weather data"
   ]
  },
  {
   "cell_type": "markdown",
   "metadata": {},
   "source": [
    "We should add the weather data to the dataset. In other words, we are making a multivariate time series."
   ]
  },
  {
   "cell_type": "code",
   "execution_count": 139,
   "metadata": {},
   "outputs": [],
   "source": [
    "# Import hourly weather data\n",
    "\n",
    "weather = pd.read_csv(\"Chicago Ohare hourly weather relevant data.csv\")\n",
    "weather[\"Date\"] = pd.to_datetime(weather[\"Date\"])\n",
    "weather.drop(\"WeatherType\", axis=1, inplace=True)\n",
    "weather[\"Temperature\"] = weather[\"Temperature\"].astype(\"float32\")\n",
    "weather.set_index(\"Date\", inplace=True)"
   ]
  },
  {
   "cell_type": "code",
   "execution_count": 140,
   "metadata": {},
   "outputs": [
    {
     "data": {
      "text/html": [
       "<div>\n",
       "<style scoped>\n",
       "    .dataframe tbody tr th:only-of-type {\n",
       "        vertical-align: middle;\n",
       "    }\n",
       "\n",
       "    .dataframe tbody tr th {\n",
       "        vertical-align: top;\n",
       "    }\n",
       "\n",
       "    .dataframe thead th {\n",
       "        text-align: right;\n",
       "    }\n",
       "</style>\n",
       "<table border=\"1\" class=\"dataframe\">\n",
       "  <thead>\n",
       "    <tr style=\"text-align: right;\">\n",
       "      <th></th>\n",
       "      <th>Precipitation</th>\n",
       "      <th>WindSpeed</th>\n",
       "      <th>Temperature</th>\n",
       "    </tr>\n",
       "    <tr>\n",
       "      <th>Date</th>\n",
       "      <th></th>\n",
       "      <th></th>\n",
       "      <th></th>\n",
       "    </tr>\n",
       "  </thead>\n",
       "  <tbody>\n",
       "    <tr>\n",
       "      <th>2018-11-01 00:00:00</th>\n",
       "      <td>0.0</td>\n",
       "      <td>9.66</td>\n",
       "      <td>9.0</td>\n",
       "    </tr>\n",
       "    <tr>\n",
       "      <th>2018-11-01 01:00:00</th>\n",
       "      <td>0.0</td>\n",
       "      <td>9.66</td>\n",
       "      <td>9.0</td>\n",
       "    </tr>\n",
       "    <tr>\n",
       "      <th>2018-11-01 02:00:00</th>\n",
       "      <td>0.0</td>\n",
       "      <td>9.66</td>\n",
       "      <td>9.0</td>\n",
       "    </tr>\n",
       "    <tr>\n",
       "      <th>2018-11-01 03:00:00</th>\n",
       "      <td>0.0</td>\n",
       "      <td>12.88</td>\n",
       "      <td>9.0</td>\n",
       "    </tr>\n",
       "    <tr>\n",
       "      <th>2018-11-01 04:00:00</th>\n",
       "      <td>0.0</td>\n",
       "      <td>16.10</td>\n",
       "      <td>9.0</td>\n",
       "    </tr>\n",
       "  </tbody>\n",
       "</table>\n",
       "</div>"
      ],
      "text/plain": [
       "                     Precipitation  WindSpeed  Temperature\n",
       "Date                                                      \n",
       "2018-11-01 00:00:00            0.0       9.66          9.0\n",
       "2018-11-01 01:00:00            0.0       9.66          9.0\n",
       "2018-11-01 02:00:00            0.0       9.66          9.0\n",
       "2018-11-01 03:00:00            0.0      12.88          9.0\n",
       "2018-11-01 04:00:00            0.0      16.10          9.0"
      ]
     },
     "execution_count": 140,
     "metadata": {},
     "output_type": "execute_result"
    }
   ],
   "source": [
    "weather.head()"
   ]
  },
  {
   "cell_type": "code",
   "execution_count": 141,
   "metadata": {},
   "outputs": [
    {
     "data": {
      "text/html": [
       "<div>\n",
       "<style scoped>\n",
       "    .dataframe tbody tr th:only-of-type {\n",
       "        vertical-align: middle;\n",
       "    }\n",
       "\n",
       "    .dataframe tbody tr th {\n",
       "        vertical-align: top;\n",
       "    }\n",
       "\n",
       "    .dataframe thead th {\n",
       "        text-align: right;\n",
       "    }\n",
       "</style>\n",
       "<table border=\"1\" class=\"dataframe\">\n",
       "  <thead>\n",
       "    <tr style=\"text-align: right;\">\n",
       "      <th></th>\n",
       "      <th>Ohara</th>\n",
       "    </tr>\n",
       "    <tr>\n",
       "      <th>StartTime</th>\n",
       "      <th></th>\n",
       "    </tr>\n",
       "  </thead>\n",
       "  <tbody>\n",
       "    <tr>\n",
       "      <th>2018-11-01 00:00:00</th>\n",
       "      <td>1</td>\n",
       "    </tr>\n",
       "    <tr>\n",
       "      <th>2018-11-01 01:00:00</th>\n",
       "      <td>0</td>\n",
       "    </tr>\n",
       "    <tr>\n",
       "      <th>2018-11-01 02:00:00</th>\n",
       "      <td>0</td>\n",
       "    </tr>\n",
       "    <tr>\n",
       "      <th>2018-11-01 03:00:00</th>\n",
       "      <td>0</td>\n",
       "    </tr>\n",
       "    <tr>\n",
       "      <th>2018-11-01 04:00:00</th>\n",
       "      <td>0</td>\n",
       "    </tr>\n",
       "  </tbody>\n",
       "</table>\n",
       "</div>"
      ],
      "text/plain": [
       "                     Ohara\n",
       "StartTime                 \n",
       "2018-11-01 00:00:00      1\n",
       "2018-11-01 01:00:00      0\n",
       "2018-11-01 02:00:00      0\n",
       "2018-11-01 03:00:00      0\n",
       "2018-11-01 04:00:00      0"
      ]
     },
     "execution_count": 141,
     "metadata": {},
     "output_type": "execute_result"
    }
   ],
   "source": [
    "df_ohara = pd.DataFrame(df_sides[\"Ohara\"])\n",
    "df_ohara.head()"
   ]
  },
  {
   "cell_type": "code",
   "execution_count": 142,
   "metadata": {},
   "outputs": [
    {
     "data": {
      "text/html": [
       "<div>\n",
       "<style scoped>\n",
       "    .dataframe tbody tr th:only-of-type {\n",
       "        vertical-align: middle;\n",
       "    }\n",
       "\n",
       "    .dataframe tbody tr th {\n",
       "        vertical-align: top;\n",
       "    }\n",
       "\n",
       "    .dataframe thead th {\n",
       "        text-align: right;\n",
       "    }\n",
       "</style>\n",
       "<table border=\"1\" class=\"dataframe\">\n",
       "  <thead>\n",
       "    <tr style=\"text-align: right;\">\n",
       "      <th></th>\n",
       "      <th>Ohara</th>\n",
       "      <th>Precipitation</th>\n",
       "      <th>WindSpeed</th>\n",
       "      <th>Temperature</th>\n",
       "    </tr>\n",
       "    <tr>\n",
       "      <th>StartTime</th>\n",
       "      <th></th>\n",
       "      <th></th>\n",
       "      <th></th>\n",
       "      <th></th>\n",
       "    </tr>\n",
       "  </thead>\n",
       "  <tbody>\n",
       "    <tr>\n",
       "      <th>2018-11-01 00:00:00</th>\n",
       "      <td>1</td>\n",
       "      <td>0.0</td>\n",
       "      <td>9.66</td>\n",
       "      <td>9.0</td>\n",
       "    </tr>\n",
       "    <tr>\n",
       "      <th>2018-11-01 01:00:00</th>\n",
       "      <td>0</td>\n",
       "      <td>0.0</td>\n",
       "      <td>9.66</td>\n",
       "      <td>9.0</td>\n",
       "    </tr>\n",
       "    <tr>\n",
       "      <th>2018-11-01 02:00:00</th>\n",
       "      <td>0</td>\n",
       "      <td>0.0</td>\n",
       "      <td>9.66</td>\n",
       "      <td>9.0</td>\n",
       "    </tr>\n",
       "    <tr>\n",
       "      <th>2018-11-01 03:00:00</th>\n",
       "      <td>0</td>\n",
       "      <td>0.0</td>\n",
       "      <td>12.88</td>\n",
       "      <td>9.0</td>\n",
       "    </tr>\n",
       "    <tr>\n",
       "      <th>2018-11-01 04:00:00</th>\n",
       "      <td>0</td>\n",
       "      <td>0.0</td>\n",
       "      <td>16.10</td>\n",
       "      <td>9.0</td>\n",
       "    </tr>\n",
       "    <tr>\n",
       "      <th>2018-11-01 05:00:00</th>\n",
       "      <td>3</td>\n",
       "      <td>0.0</td>\n",
       "      <td>14.49</td>\n",
       "      <td>10.0</td>\n",
       "    </tr>\n",
       "    <tr>\n",
       "      <th>2018-11-01 06:00:00</th>\n",
       "      <td>0</td>\n",
       "      <td>0.0</td>\n",
       "      <td>16.10</td>\n",
       "      <td>10.0</td>\n",
       "    </tr>\n",
       "    <tr>\n",
       "      <th>2018-11-01 07:00:00</th>\n",
       "      <td>2</td>\n",
       "      <td>0.0</td>\n",
       "      <td>17.71</td>\n",
       "      <td>10.0</td>\n",
       "    </tr>\n",
       "    <tr>\n",
       "      <th>2018-11-01 08:00:00</th>\n",
       "      <td>4</td>\n",
       "      <td>0.0</td>\n",
       "      <td>16.10</td>\n",
       "      <td>10.0</td>\n",
       "    </tr>\n",
       "    <tr>\n",
       "      <th>2018-11-01 09:00:00</th>\n",
       "      <td>5</td>\n",
       "      <td>0.0</td>\n",
       "      <td>16.10</td>\n",
       "      <td>10.0</td>\n",
       "    </tr>\n",
       "  </tbody>\n",
       "</table>\n",
       "</div>"
      ],
      "text/plain": [
       "                     Ohara  Precipitation  WindSpeed  Temperature\n",
       "StartTime                                                        \n",
       "2018-11-01 00:00:00      1            0.0       9.66          9.0\n",
       "2018-11-01 01:00:00      0            0.0       9.66          9.0\n",
       "2018-11-01 02:00:00      0            0.0       9.66          9.0\n",
       "2018-11-01 03:00:00      0            0.0      12.88          9.0\n",
       "2018-11-01 04:00:00      0            0.0      16.10          9.0\n",
       "2018-11-01 05:00:00      3            0.0      14.49         10.0\n",
       "2018-11-01 06:00:00      0            0.0      16.10         10.0\n",
       "2018-11-01 07:00:00      2            0.0      17.71         10.0\n",
       "2018-11-01 08:00:00      4            0.0      16.10         10.0\n",
       "2018-11-01 09:00:00      5            0.0      16.10         10.0"
      ]
     },
     "execution_count": 142,
     "metadata": {},
     "output_type": "execute_result"
    }
   ],
   "source": [
    "df_lstm = df_ohara.merge(weather, how=\"left\", left_index=True, right_index=True)\n",
    "df_lstm.astype(\"float32\")\n",
    "df_lstm.head(10)"
   ]
  },
  {
   "cell_type": "code",
   "execution_count": 143,
   "metadata": {},
   "outputs": [
    {
     "data": {
      "text/plain": [
       "[<matplotlib.lines.Line2D at 0x13edc6850>]"
      ]
     },
     "execution_count": 143,
     "metadata": {},
     "output_type": "execute_result"
    },
    {
     "data": {
      "image/png": "[encoded data removed]",
      "text/plain": [
       "<Figure size 720x360 with 4 Axes>"
      ]
     },
     "metadata": {
      "needs_background": "light"
     },
     "output_type": "display_data"
    }
   ],
   "source": [
    "# plot hourly pickups with weather data.\n",
    "fig, ax = plt.subplots(nrows=4, ncols=1, figsize=(10,5))\n",
    "ax[0].plot(df_lstm[\"Ohara\"])\n",
    "ax[1].plot(df_lstm[\"Precipitation\"])\n",
    "ax[2].plot(df_lstm[\"WindSpeed\"])\n",
    "ax[3].plot(df_lstm[\"Temperature\"])"
   ]
  },
  {
   "cell_type": "markdown",
   "metadata": {},
   "source": [
    "# LSTM data preperation"
   ]
  },
  {
   "cell_type": "markdown",
   "metadata": {},
   "source": [
    "Frame dataset as supervised learning problem and MinMaxScale the data\n",
    "\n",
    "Try to predict ride hailing demand at hour (t) based on demand and weather data in period (t-1). Later try to predict based on past 24 hours (t-1 - t-24)"
   ]
  },
  {
   "cell_type": "code",
   "execution_count": 333,
   "metadata": {},
   "outputs": [
    {
     "data": {
      "text/plain": [
       "(10224, 4)"
      ]
     },
     "execution_count": 333,
     "metadata": {},
     "output_type": "execute_result"
    }
   ],
   "source": [
    "df_lstm.shape"
   ]
  },
  {
   "cell_type": "code",
   "execution_count": 480,
   "metadata": {},
   "outputs": [],
   "source": [
    "# specify number of lag hours\n",
    "n_hours = 7\n",
    "n_features = 4\n",
    "n_obs = n_hours * n_features"
   ]
  },
  {
   "cell_type": "code",
   "execution_count": 481,
   "metadata": {},
   "outputs": [],
   "source": [
    "# from: https://machinelearningmastery.com/multivariate-time-series-forecasting-lstms-keras/\n",
    "\n",
    "def ts_supervised(data, n_in=1, n_out=1, dropnan=True):\n",
    "    n_vars = 1 if type(data) is list else data.shape[1]\n",
    "    df = pd.DataFrame(data)\n",
    "    cols, names = list(), list()\n",
    "    # input sequence (t-n, ... t-1)\n",
    "    for i in range(n_in, 0, -1):\n",
    "        cols.append(df.shift(i))\n",
    "        names += [('var%d(t-%d)' % (j+1, i)) for j in range(n_vars)]\n",
    "    # forecast sequence (t, t+1, ... t+n)\n",
    "    for i in range(0, n_out):\n",
    "        cols.append(df.shift(-i))\n",
    "        if i == 0:\n",
    "            names += [('var%d(t)' % (j+1)) for j in range(n_vars)]\n",
    "        else:\n",
    "            names += [('var%d(t+%d)' % (j+1, i)) for j in range(n_vars)]\n",
    "    # put it all together\n",
    "    agg = pd.concat(cols, axis=1)\n",
    "    agg.columns = names\n",
    "    # drop rows with NaN values\n",
    "    if dropnan:\n",
    "        agg.dropna(inplace=True)\n",
    "    return agg"
   ]
  },
  {
   "cell_type": "markdown",
   "metadata": {},
   "source": [
    "# Split prepared dataset into train and test set"
   ]
  },
  {
   "cell_type": "markdown",
   "metadata": {},
   "source": [
    "Get train and test sets, then split train and test sets into input and output variables. Then inputs (x_train and x_test) are reshaped to 3D format"
   ]
  },
  {
   "cell_type": "code",
   "execution_count": 482,
   "metadata": {},
   "outputs": [],
   "source": [
    "# frame as supervised learning\n",
    "supervised = ts_supervised(df_lstm, n_hours, 1)"
   ]
  },
  {
   "cell_type": "code",
   "execution_count": 483,
   "metadata": {},
   "outputs": [],
   "source": [
    "# split function applied to one Chicago area with weather data\n",
    "def split_data(data):\n",
    "    # set fractions\n",
    "    train_size = int(len(data) * 0.8)\n",
    "    test_size = len(data) - train_size\n",
    "    \n",
    "    # split data into train and test sets\n",
    "    train = data[0:train_size]\n",
    "    test = data[train_size:]\n",
    "    \n",
    "    # split train and test further into x_train, y_train, x_test, y_test\n",
    "    # when using multiple time steps\n",
    "    x_train = train.iloc[:, :n_obs]\n",
    "    x_test = test.iloc[:, :n_obs]\n",
    "    \n",
    "    y_train = train.iloc[:, -n_features]\n",
    "    y_test = test.iloc[:, -n_features]\n",
    "    \n",
    "    # when using 1 time step\n",
    "    # x_train = train.iloc[:, 0:4] # input for training set\n",
    "    # x_test = test.iloc[:, 0:4] # input for test set\n",
    "\n",
    "    # y_train = train.iloc[:, 4] # output for training set\n",
    "    # y_test = test.iloc[:, 4] # output for test set\n",
    "    \n",
    "    # convert into numpy arrays\n",
    "    x_train = x_train.to_numpy()\n",
    "    x_test = x_test.to_numpy()\n",
    "    y_train = y_train.to_numpy()\n",
    "    y_test = y_test.to_numpy()\n",
    "    \n",
    "    # reshape to make numpy arrays into 2D\n",
    "    # x_train = x_train.reshape(-1,1)\n",
    "    # x_test = x_test.reshape(-1,1)\n",
    "    y_train = y_train.reshape(-1,1)\n",
    "    y_test = y_test.reshape(-1,1)\n",
    "    \n",
    "    return train, test, x_train, x_test, y_train, y_test"
   ]
  },
  {
   "cell_type": "code",
   "execution_count": 484,
   "metadata": {},
   "outputs": [],
   "source": [
    "train, test, x_train, x_test, y_train, y_test = split_data(supervised)"
   ]
  },
  {
   "cell_type": "code",
   "execution_count": 485,
   "metadata": {},
   "outputs": [
    {
     "name": "stdout",
     "output_type": "stream",
     "text": [
      "(8173, 32) (2044, 32) (8173, 28) (2044, 28) (8173, 1) (2044, 1)\n"
     ]
    }
   ],
   "source": [
    "print(train.shape, test.shape, x_train.shape, x_test.shape, y_train.shape, y_test.shape)\n"
   ]
  },
  {
   "cell_type": "markdown",
   "metadata": {},
   "source": [
    "# Scaled data"
   ]
  },
  {
   "cell_type": "code",
   "execution_count": 486,
   "metadata": {},
   "outputs": [
    {
     "data": {
      "text/plain": [
       "(8173, 28)"
      ]
     },
     "execution_count": 486,
     "metadata": {},
     "output_type": "execute_result"
    }
   ],
   "source": [
    "x_train.shape"
   ]
  },
  {
   "cell_type": "code",
   "execution_count": 487,
   "metadata": {},
   "outputs": [
    {
     "name": "stdout",
     "output_type": "stream",
     "text": [
      "Min: -31.0\n",
      "Max: 61.18\n"
     ]
    }
   ],
   "source": [
    "print(\"Min:\", np.min(x_train))\n",
    "print(\"Max:\", np.max(x_train))"
   ]
  },
  {
   "cell_type": "code",
   "execution_count": 488,
   "metadata": {},
   "outputs": [],
   "source": [
    "# Normalize features using MinMaxScaler\n",
    "# fit x_scaler on training data, fit y_scaler on test data\n",
    "# ideally scale on training data and use it on test and when \n",
    "# making predicitons on new data\n",
    "\n",
    "def scale(x_train, x_test, y_train, y_test):\n",
    "    x_scaler = MinMaxScaler(feature_range=(0,1))\n",
    "    y_scaler = MinMaxScaler(feature_range=(0,1))\n",
    "    x_train_scaled = x_scaler.fit_transform(x_train)\n",
    "    x_test_scaled = x_scaler.fit_transform(x_test)\n",
    "    y_train_scaled = y_scaler.fit_transform(y_train)\n",
    "    y_test_scaled = y_scaler.fit_transform(y_test)\n",
    "    \n",
    "    # reshape input to be [samples, time steps, features]: 1 time step\n",
    "    # x_train_scaled = np.reshape(x_train_scaled, (x_train_scaled.shape[0], 1, x_train_scaled.shape[1]))\n",
    "    # x_test_scaled = np.reshape(x_test_scaled, (x_test_scaled.shape[0], 1, x_test_scaled.shape[1]))\n",
    "    \n",
    "    # reshape input to be [samples, time steps, features]: n_hours time steps\n",
    "    # x_train_scaled = np.reshape(x_train_scaled, (x_train_scaled.shape[0], n_hours, x_train_scaled.shape[1]))\n",
    "    # x_test_scaled = np.reshape(x_test_scaled, (x_test_scaled.shape[0], n_hours, x_test_scaled.shape[1]))\n",
    "    \n",
    "    # reshape input with n_steps and n_features\n",
    "    x_train_scaled = np.reshape(x_train_scaled, (x_train_scaled.shape[0], n_hours, n_features))\n",
    "    x_test_scaled = np.reshape(x_test_scaled, (x_test_scaled.shape[0], n_hours, n_features))\n",
    "    \n",
    "    return x_scaler, y_scaler, x_train_scaled, x_test_scaled, y_train_scaled, y_test_scaled\n"
   ]
  },
  {
   "cell_type": "code",
   "execution_count": 489,
   "metadata": {},
   "outputs": [],
   "source": [
    "x_scaler, y_scaler, x_train_scaled, x_test_scaled, y_train_scaled, y_test_scaled = scale(x_train, x_test, y_train, y_test)\n"
   ]
  },
  {
   "cell_type": "code",
   "execution_count": 490,
   "metadata": {},
   "outputs": [
    {
     "name": "stdout",
     "output_type": "stream",
     "text": [
      "(8173, 7, 4) (2044, 7, 4) (8173, 1) (2044, 1)\n"
     ]
    }
   ],
   "source": [
    "print(x_train_scaled.shape, x_test_scaled.shape, y_train_scaled.shape, y_test_scaled.shape)\n"
   ]
  },
  {
   "cell_type": "markdown",
   "metadata": {},
   "source": [
    "# Define and fit model"
   ]
  },
  {
   "cell_type": "markdown",
   "metadata": {},
   "source": [
    "For now, the LSTM model accepts an input shape of 1 time step and 4 features."
   ]
  },
  {
   "cell_type": "code",
   "execution_count": 491,
   "metadata": {},
   "outputs": [],
   "source": [
    "def fit_lstm(x_train_scaled, y_train_scaled, batch, ep, neurons_lstm, neuron_dense):\n",
    "    # Model architecture\n",
    "    model = Sequential()\n",
    "    model.add(LSTM(units=neurons_lstm, input_shape=(x_train_scaled.shape[1], x_train_scaled.shape[2])))\n",
    "    model.add(Dense(units=neuron_dense))\n",
    "    model.add(Dropout(rate=0.2))\n",
    "    model.compile(loss=\"mean_squared_error\", \n",
    "                  optimizer=\"adam\",\n",
    "                  metrics=[\"mean_squared_error\"]\n",
    "                 )\n",
    "    #fit LSTM RNN\n",
    "    history = model.fit(x_train_scaled, \n",
    "                        y_train_scaled, \n",
    "                        epochs=ep, \n",
    "                        batch_size=batch, \n",
    "                        validation_split=0.1, \n",
    "                        verbose=1, \n",
    "                        shuffle=False)\n",
    "\n",
    "    # Evaluate Network by plotting RSME against epochs\n",
    "    plt.plot(history.history[\"loss\"], label=\"train\")\n",
    "    plt.plot(history.history[\"val_loss\"], label=\"validation\")\n",
    "    plt.legend()\n",
    "    plt.xlabel(\"Epochs\")\n",
    "    plt.ylabel(\"Loss\")\n",
    "    \n",
    "    return model, history"
   ]
  },
  {
   "cell_type": "code",
   "execution_count": 492,
   "metadata": {
    "scrolled": false
   },
   "outputs": [
    {
     "name": "stdout",
     "output_type": "stream",
     "text": [
      "Train on 7355 samples, validate on 818 samples\n",
      "Epoch 1/5\n",
      "7355/7355 [==============================] - 5s 659us/step - loss: 0.0217 - mean_squared_error: 0.0217 - val_loss: 0.0261 - val_mean_squared_error: 0.0261\n",
      "Epoch 2/5\n",
      "7355/7355 [==============================] - 3s 465us/step - loss: 0.0203 - mean_squared_error: 0.0203 - val_loss: 0.0230 - val_mean_squared_error: 0.0230\n",
      "Epoch 3/5\n",
      "7355/7355 [==============================] - 4s 510us/step - loss: 0.0199 - mean_squared_error: 0.0199 - val_loss: 0.0237 - val_mean_squared_error: 0.0237\n",
      "Epoch 4/5\n",
      "7355/7355 [==============================] - 3s 465us/step - loss: 0.0198 - mean_squared_error: 0.0198 - val_loss: 0.0229 - val_mean_squared_error: 0.0229\n",
      "Epoch 5/5\n",
      "7355/7355 [==============================] - 3s 467us/step - loss: 0.0198 - mean_squared_error: 0.0198 - val_loss: 0.0225 - val_mean_squared_error: 0.0225\n"
     ]
    },
    {
     "data": {
      "image/png": "[encoded data removed]",
      "text/plain": [
       "<Figure size 432x288 with 1 Axes>"
      ]
     },
     "metadata": {
      "needs_background": "light"
     },
     "output_type": "display_data"
    }
   ],
   "source": [
    "model, history = fit_lstm(x_train_scaled, \n",
    "                          y_train_scaled, \n",
    "                          batch=10, ep=5, \n",
    "                          neurons_lstm=5, \n",
    "                          neuron_dense=1\n",
    "                         )"
   ]
  },
  {
   "cell_type": "markdown",
   "metadata": {},
   "source": [
    "# Evaluate model"
   ]
  },
  {
   "cell_type": "markdown",
   "metadata": {},
   "source": [
    "Forecast on test dataset by 1) forecasting with test dataset and 2)invert scaling. Also invert scaling on test dataset with actual demand."
   ]
  },
  {
   "cell_type": "code",
   "execution_count": 493,
   "metadata": {},
   "outputs": [],
   "source": [
    "def predictions(x_test_scaled, y_test):\n",
    "    # get predictions\n",
    "    test_pred = model.predict(x_test_scaled)\n",
    "    \n",
    "    # reverse transform predictions\n",
    "    test_pred_inv = y_scaler.inverse_transform(test_pred)\n",
    "    \n",
    "    # create single dataframe with predictions (1) and expected values (2)\n",
    "    predictions = np.concatenate((test_pred_inv, y_test), axis=1)\n",
    "    predictions = pd.DataFrame(predictions)\n",
    "    \n",
    "    return predictions "
   ]
  },
  {
   "cell_type": "code",
   "execution_count": 494,
   "metadata": {},
   "outputs": [],
   "source": [
    "predictions = predictions(x_test_scaled, y_test)"
   ]
  },
  {
   "cell_type": "code",
   "execution_count": 495,
   "metadata": {},
   "outputs": [],
   "source": [
    "def evaluate_lstm(predictions, start_val, end_val):\n",
    "    # print RMSE\n",
    "    rmse = np.sqrt(mean_squared_error(predictions[0], predictions[1]))\n",
    "    print('Test RMSE: %.3f' % rmse)\n",
    "    \n",
    "    # print min max values of predictions and actual values.\n",
    "    print(\"Min. value:\", predictions[0].min())\n",
    "    print(\"Max. value:\", predictions[0].max())\n",
    "\n",
    "    print(\"Min. value:\", predictions[1].min())\n",
    "    print(\"Max. value:\", predictions[1].max())\n",
    "    \n",
    "    # plot predictions vs actual values\n",
    "    plt.plot(predictions[0][start_val:end_val])\n",
    "    plt.plot(predictions[1][start_val:end_val])\n",
    "    \n",
    "    return rmse"
   ]
  },
  {
   "cell_type": "code",
   "execution_count": 496,
   "metadata": {},
   "outputs": [
    {
     "name": "stdout",
     "output_type": "stream",
     "text": [
      "Test RMSE: 3.605\n",
      "Min. value: -0.4192523658275604\n",
      "Max. value: 8.670208930969238\n",
      "Min. value: 0.0\n",
      "Max. value: 20.0\n"
     ]
    },
    {
     "data": {
      "text/plain": [
       "3.6051227706283973"
      ]
     },
     "execution_count": 496,
     "metadata": {},
     "output_type": "execute_result"
    },
    {
     "data": {
      "image/png": "[encoded data removed]",
      "text/plain": [
       "<Figure size 432x288 with 1 Axes>"
      ]
     },
     "metadata": {
      "needs_background": "light"
     },
     "output_type": "display_data"
    }
   ],
   "source": [
    "evaluate_lstm(predictions, start_val=400, end_val=500)"
   ]
  },
  {
   "cell_type": "code",
   "execution_count": 497,
   "metadata": {},
   "outputs": [],
   "source": [
    "def check_min_max(ts1, ts2):\n",
    "    if isinstance(ts1, pd.DataFrame) and isinstance(ts1, pd.DataFrame):\n",
    "        print(\"Min value output value:\", ts1.min())\n",
    "        print(\"Max value input value:\", ts1.max())\n",
    "        print(\"Min value output value:\", ts2.min())\n",
    "        print(\"Max value ouput value:\", ts2.max())\n",
    "    elif isinstance(ts1, np.ndarray) and isinstance(ts2, np.ndarray):\n",
    "        print(\"Min value input value:\", np.min(ts1))\n",
    "        print(\"Max value input value:\", np.max(ts1))\n",
    "        print(\"Min value output value:\", np.min(ts2))\n",
    "        print(\"Max value ouput value:\", np.max(ts2))\n",
    "    else:\n",
    "        print(\"Error: not dataframe nor numpy array\")"
   ]
  },
  {
   "cell_type": "code",
   "execution_count": 498,
   "metadata": {},
   "outputs": [
    {
     "name": "stdout",
     "output_type": "stream",
     "text": [
      "Min value input value: 0\n",
      "Max value input value: 23\n",
      "Min value output value: 0\n",
      "Max value ouput value: 20\n"
     ]
    }
   ],
   "source": [
    "check_min_max(y_train, y_test)"
   ]
  },
  {
   "cell_type": "code",
   "execution_count": null,
   "metadata": {},
   "outputs": [],
   "source": []
  }
 ],
 "metadata": {
  "kernelspec": {
   "display_name": "Python 3",
   "language": "python",
   "name": "python3"
  },
  "language_info": {
   "codemirror_mode": {
    "name": "ipython",
    "version": 3
   },
   "file_extension": ".py",
   "mimetype": "text/x-python",
   "name": "python",
   "nbconvert_exporter": "python",
   "pygments_lexer": "ipython3",
   "version": "3.7.4"
  }
 },
 "nbformat": 4,
 "nbformat_minor": 2
}
