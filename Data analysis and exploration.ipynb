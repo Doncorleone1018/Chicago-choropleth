{
 "cells": [
  {
   "cell_type": "code",
   "execution_count": 1,
   "metadata": {},
   "outputs": [
    {
     "name": "stderr",
     "output_type": "stream",
     "text": [
      "/Applications/anaconda3/lib/python3.7/site-packages/statsmodels/tools/_testing.py:19: FutureWarning: pandas.util.testing is deprecated. Use the functions in the public API at pandas.testing instead.\n",
      "  import pandas.util.testing as tm\n"
     ]
    }
   ],
   "source": [
    "import pandas as pd\n",
    "import numpy as np\n",
    "import matplotlib.pyplot as plt\n",
    "import shapefile as shp\n",
    "import seaborn as sns\n",
    "import geopandas as gpd\n",
    "import folium\n",
    "import datetime\n",
    "import holidays\n",
    "from shapely.geometry import Polygon"
   ]
  },
  {
   "cell_type": "code",
   "execution_count": 2,
   "metadata": {},
   "outputs": [],
   "source": [
    "from plotly import __version__\n",
    "import cufflinks as cf"
   ]
  },
  {
   "cell_type": "code",
   "execution_count": 3,
   "metadata": {},
   "outputs": [
    {
     "data": {
      "text/html": [
       "        <script type=\"text/javascript\">\n",
       "        window.PlotlyConfig = {MathJaxConfig: 'local'};\n",
       "        if (window.MathJax) {MathJax.Hub.Config({SVG: {font: \"STIX-Web\"}});}\n",
       "        if (typeof require !== 'undefined') {\n",
       "        require.undef(\"plotly\");\n",
       "        requirejs.config({\n",
       "            paths: {\n",
       "                'plotly': ['https://cdn.plot.ly/plotly-latest.min']\n",
       "            }\n",
       "        });\n",
       "        require(['plotly'], function(Plotly) {\n",
       "            window._Plotly = Plotly;\n",
       "        });\n",
       "        }\n",
       "        </script>\n",
       "        "
      ]
     },
     "metadata": {},
     "output_type": "display_data"
    },
    {
     "data": {
      "text/html": [
       "        <script type=\"text/javascript\">\n",
       "        window.PlotlyConfig = {MathJaxConfig: 'local'};\n",
       "        if (window.MathJax) {MathJax.Hub.Config({SVG: {font: \"STIX-Web\"}});}\n",
       "        if (typeof require !== 'undefined') {\n",
       "        require.undef(\"plotly\");\n",
       "        requirejs.config({\n",
       "            paths: {\n",
       "                'plotly': ['https://cdn.plot.ly/plotly-latest.min']\n",
       "            }\n",
       "        });\n",
       "        require(['plotly'], function(Plotly) {\n",
       "            window._Plotly = Plotly;\n",
       "        });\n",
       "        }\n",
       "        </script>\n",
       "        "
      ]
     },
     "metadata": {},
     "output_type": "display_data"
    }
   ],
   "source": [
    "from plotly.offline import download_plotlyjs,init_notebook_mode,plot,iplot\n",
    "init_notebook_mode(connected=True)\n",
    "cf.go_offline()"
   ]
  },
  {
   "cell_type": "code",
   "execution_count": 4,
   "metadata": {},
   "outputs": [],
   "source": [
    "%matplotlib inline"
   ]
  },
  {
   "cell_type": "code",
   "execution_count": 5,
   "metadata": {},
   "outputs": [
    {
     "data": {
      "text/plain": [
       "['Unnamed: 0',\n",
       " 'Trip ID',\n",
       " 'Trip Start Timestamp',\n",
       " 'Trip End Timestamp',\n",
       " 'Trip Seconds',\n",
       " 'Trip Miles',\n",
       " 'Pickup Census Tract',\n",
       " 'Dropoff Census Tract',\n",
       " 'Trip Total',\n",
       " 'Shared Trip Authorized',\n",
       " 'Trips Pooled',\n",
       " 'Pickup Centroid Latitude',\n",
       " 'Pickup Centroid Longitude',\n",
       " 'Pickup Centroid Location',\n",
       " 'Dropoff Centroid Latitude',\n",
       " 'Dropoff Centroid Longitude',\n",
       " 'Dropoff Centroid Location',\n",
       " 'Pickup_month',\n",
       " 'Dropoff_month',\n",
       " 'Pickup_day',\n",
       " 'Dropoff_day',\n",
       " 'Pickup_hour',\n",
       " 'Dropoff_hour',\n",
       " 'Pickup_day_of_week',\n",
       " 'Dropoff_day_of_week',\n",
       " 'Pickup_week_of_year',\n",
       " 'Dropoff_week_of_year',\n",
       " 'Average Speed',\n",
       " 'Count']"
      ]
     },
     "execution_count": 5,
     "metadata": {},
     "output_type": "execute_result"
    }
   ],
   "source": [
    "# Import dataset\n",
    "# https://www.dataquest.io/blog/pandas-big-data/\n",
    "df = pd.read_csv(\"RH_dataset_clean_w_censustracts.csv\")\n",
    "\n",
    "# Filter dataset\n",
    "list(df.columns)"
   ]
  },
  {
   "cell_type": "code",
   "execution_count": 6,
   "metadata": {},
   "outputs": [],
   "source": [
    "# Approach 1 to month, day, hour variables out of timestamp.\n",
    "# Step1: convert pickup and dropoff timestamp from objects into \n",
    "# datetime format, making analysis of date and time easier.\n",
    "df[\"Trip Start Timestamp\"] = pd.to_datetime(df[\"Trip Start Timestamp\"])\n",
    "df[\"Trip End Timestamp\"] = pd.to_datetime(df[\"Trip End Timestamp\"])"
   ]
  },
  {
   "cell_type": "code",
   "execution_count": null,
   "metadata": {
    "scrolled": true
   },
   "outputs": [],
   "source": [
    "df.info(memory_usage=\"deep\")"
   ]
  },
  {
   "cell_type": "code",
   "execution_count": null,
   "metadata": {},
   "outputs": [],
   "source": [
    "df.describe().astype(int)"
   ]
  },
  {
   "cell_type": "markdown",
   "metadata": {},
   "source": [
    "# Optimize dtypes from float64 and int64 to float32 and int32"
   ]
  },
  {
   "cell_type": "code",
   "execution_count": 7,
   "metadata": {},
   "outputs": [],
   "source": [
    "# First , change columns with dtype float64 to float32\n",
    "df[[\"Trip Seconds\", \"Trip Miles\", \"Trip Total\", \"Pickup Centroid Latitude\", \n",
    "    \"Pickup Centroid Longitude\", \"Dropoff Centroid Latitude\", \n",
    "    \"Dropoff Centroid Longitude\", \"Average Speed\", \"Count\"]] = df[[\"Trip Seconds\", \"Trip Miles\", \"Trip Total\", \n",
    "                                                                   \"Pickup Centroid Latitude\", \"Pickup Centroid Longitude\", \n",
    "                                                                   \"Dropoff Centroid Latitude\", \"Dropoff Centroid Longitude\", \"Average Speed\", \"Count\"]].astype(\"float32\")\n",
    "\n",
    "# Second, change variables with dtype int64 to int32.\n",
    "df[[\"Trips Pooled\", \"Pickup_month\", \"Dropoff_month\",\n",
    "      \"Pickup_day\", \"Dropoff_day\", \"Pickup_hour\", \n",
    "      \"Dropoff_hour\"]] = df[[\"Trips Pooled\", \"Pickup_month\", \"Dropoff_month\",\n",
    "                                        \"Pickup_day\", \"Dropoff_day\", \"Pickup_hour\", \n",
    "                                        \"Dropoff_hour\",]].astype(\"int32\")\n",
    "\n",
    "\n",
    "# Change dtype of \"Pickup_day_of_week\" and \"Dropoff_day_of_week\"\n",
    "# and \"Pickup_week_of_year\" and \"Dropoff_week_of_year\"\n",
    "# from int64 to int32.\n",
    "df[[\"Pickup_day_of_week\", \"Dropoff_day_of_week\",\n",
    "    \"Pickup_week_of_year\", \"Dropoff_week_of_year\"]] = df[[\"Pickup_day_of_week\", \"Dropoff_day_of_week\",\n",
    "                                                            \"Pickup_week_of_year\", \"Dropoff_week_of_year\"]].astype(\"int32\")\n"
   ]
  },
  {
   "cell_type": "code",
   "execution_count": 8,
   "metadata": {
    "scrolled": true
   },
   "outputs": [
    {
     "name": "stdout",
     "output_type": "stream",
     "text": [
      "<class 'pandas.core.frame.DataFrame'>\n",
      "RangeIndex: 1142290 entries, 0 to 1142289\n",
      "Data columns (total 29 columns):\n",
      " #   Column                      Non-Null Count    Dtype         \n",
      "---  ------                      --------------    -----         \n",
      " 0   Unnamed: 0                  1142290 non-null  int64         \n",
      " 1   Trip ID                     1142290 non-null  object        \n",
      " 2   Trip Start Timestamp        1142290 non-null  datetime64[ns]\n",
      " 3   Trip End Timestamp          1142290 non-null  datetime64[ns]\n",
      " 4   Trip Seconds                1140087 non-null  float32       \n",
      " 5   Trip Miles                  1142244 non-null  float32       \n",
      " 6   Pickup Census Tract         819473 non-null   float64       \n",
      " 7   Dropoff Census Tract        814967 non-null   float64       \n",
      " 8   Trip Total                  1142288 non-null  float32       \n",
      " 9   Shared Trip Authorized      1142290 non-null  bool          \n",
      " 10  Trips Pooled                1142290 non-null  int32         \n",
      " 11  Pickup Centroid Latitude    1070343 non-null  float32       \n",
      " 12  Pickup Centroid Longitude   1070343 non-null  float32       \n",
      " 13  Pickup Centroid Location    1070343 non-null  object        \n",
      " 14  Dropoff Centroid Latitude   1062322 non-null  float32       \n",
      " 15  Dropoff Centroid Longitude  1062322 non-null  float32       \n",
      " 16  Dropoff Centroid Location   1062322 non-null  object        \n",
      " 17  Pickup_month                1142290 non-null  int32         \n",
      " 18  Dropoff_month               1142290 non-null  int32         \n",
      " 19  Pickup_day                  1142290 non-null  int32         \n",
      " 20  Dropoff_day                 1142290 non-null  int32         \n",
      " 21  Pickup_hour                 1142290 non-null  int32         \n",
      " 22  Dropoff_hour                1142290 non-null  int32         \n",
      " 23  Pickup_day_of_week          1142290 non-null  int32         \n",
      " 24  Dropoff_day_of_week         1142290 non-null  int32         \n",
      " 25  Pickup_week_of_year         1142290 non-null  int32         \n",
      " 26  Dropoff_week_of_year        1142290 non-null  int32         \n",
      " 27  Average Speed               1140041 non-null  float32       \n",
      " 28  Count                       1142290 non-null  float32       \n",
      "dtypes: bool(1), datetime64[ns](2), float32(9), float64(2), int32(11), int64(1), object(3)\n",
      "memory usage: 430.8 MB\n"
     ]
    }
   ],
   "source": [
    "df.info(memory_usage=\"deep\")"
   ]
  },
  {
   "cell_type": "markdown",
   "metadata": {},
   "source": [
    "# Time-series analysis on a monthly, weekly, and hourly basis (also spatial analysis)\n",
    "\n",
    "# First up: univariate analysis"
   ]
  },
  {
   "cell_type": "code",
   "execution_count": 11,
   "metadata": {},
   "outputs": [
    {
     "data": {
      "text/html": [
       "<div>\n",
       "<style scoped>\n",
       "    .dataframe tbody tr th:only-of-type {\n",
       "        vertical-align: middle;\n",
       "    }\n",
       "\n",
       "    .dataframe tbody tr th {\n",
       "        vertical-align: top;\n",
       "    }\n",
       "\n",
       "    .dataframe thead th {\n",
       "        text-align: right;\n",
       "    }\n",
       "</style>\n",
       "<table border=\"1\" class=\"dataframe\">\n",
       "  <thead>\n",
       "    <tr style=\"text-align: right;\">\n",
       "      <th></th>\n",
       "      <th>Unnamed: 0</th>\n",
       "      <th>Trip ID</th>\n",
       "      <th>Trip Start Timestamp</th>\n",
       "      <th>Trip End Timestamp</th>\n",
       "      <th>Trip Seconds</th>\n",
       "      <th>Trip Miles</th>\n",
       "      <th>Pickup Census Tract</th>\n",
       "      <th>Dropoff Census Tract</th>\n",
       "      <th>Trip Total</th>\n",
       "      <th>Shared Trip Authorized</th>\n",
       "      <th>...</th>\n",
       "      <th>Dropoff_hour</th>\n",
       "      <th>Pickup_day_of_week</th>\n",
       "      <th>Dropoff_day_of_week</th>\n",
       "      <th>Pickup_week_of_year</th>\n",
       "      <th>Dropoff_week_of_year</th>\n",
       "      <th>Average Speed</th>\n",
       "      <th>Count</th>\n",
       "      <th>US_holiday</th>\n",
       "      <th>Pickup_date</th>\n",
       "      <th>is_extreme_weather</th>\n",
       "    </tr>\n",
       "  </thead>\n",
       "  <tbody>\n",
       "    <tr>\n",
       "      <th>0</th>\n",
       "      <td>0</td>\n",
       "      <td>c7661e85fe9b588a0dada78c493a52e3599e435f</td>\n",
       "      <td>2019-02-04 18:30:00</td>\n",
       "      <td>2019-02-04 18:45:00</td>\n",
       "      <td>1270.0</td>\n",
       "      <td>3.8</td>\n",
       "      <td>1.703184e+10</td>\n",
       "      <td>1.703124e+10</td>\n",
       "      <td>5.05</td>\n",
       "      <td>True</td>\n",
       "      <td>...</td>\n",
       "      <td>18</td>\n",
       "      <td>0</td>\n",
       "      <td>0</td>\n",
       "      <td>6</td>\n",
       "      <td>6</td>\n",
       "      <td>10.771653</td>\n",
       "      <td>1.0</td>\n",
       "      <td>0</td>\n",
       "      <td>2019-02-04</td>\n",
       "      <td>0</td>\n",
       "    </tr>\n",
       "    <tr>\n",
       "      <th>1</th>\n",
       "      <td>1</td>\n",
       "      <td>c013b63cefbb16a8251586dd6ab04d31f8f42cb3</td>\n",
       "      <td>2019-01-05 02:45:00</td>\n",
       "      <td>2019-01-05 03:00:00</td>\n",
       "      <td>962.0</td>\n",
       "      <td>8.5</td>\n",
       "      <td>NaN</td>\n",
       "      <td>NaN</td>\n",
       "      <td>15.05</td>\n",
       "      <td>False</td>\n",
       "      <td>...</td>\n",
       "      <td>3</td>\n",
       "      <td>5</td>\n",
       "      <td>5</td>\n",
       "      <td>1</td>\n",
       "      <td>1</td>\n",
       "      <td>31.808731</td>\n",
       "      <td>1.0</td>\n",
       "      <td>0</td>\n",
       "      <td>2019-01-05</td>\n",
       "      <td>0</td>\n",
       "    </tr>\n",
       "    <tr>\n",
       "      <th>2</th>\n",
       "      <td>2</td>\n",
       "      <td>c6036c4b6dd0cfa563823a82c4472201e8f4f044</td>\n",
       "      <td>2019-01-19 16:15:00</td>\n",
       "      <td>2019-01-19 16:30:00</td>\n",
       "      <td>353.0</td>\n",
       "      <td>0.8</td>\n",
       "      <td>1.703184e+10</td>\n",
       "      <td>1.703184e+10</td>\n",
       "      <td>7.55</td>\n",
       "      <td>False</td>\n",
       "      <td>...</td>\n",
       "      <td>16</td>\n",
       "      <td>5</td>\n",
       "      <td>5</td>\n",
       "      <td>3</td>\n",
       "      <td>3</td>\n",
       "      <td>8.158640</td>\n",
       "      <td>1.0</td>\n",
       "      <td>0</td>\n",
       "      <td>2019-01-19</td>\n",
       "      <td>0</td>\n",
       "    </tr>\n",
       "    <tr>\n",
       "      <th>3</th>\n",
       "      <td>3</td>\n",
       "      <td>c30387fd0452828350411906001e3872954958e2</td>\n",
       "      <td>2019-01-11 15:00:00</td>\n",
       "      <td>2019-01-11 15:30:00</td>\n",
       "      <td>1221.0</td>\n",
       "      <td>6.2</td>\n",
       "      <td>1.703108e+10</td>\n",
       "      <td>1.703184e+10</td>\n",
       "      <td>15.05</td>\n",
       "      <td>False</td>\n",
       "      <td>...</td>\n",
       "      <td>15</td>\n",
       "      <td>4</td>\n",
       "      <td>4</td>\n",
       "      <td>2</td>\n",
       "      <td>2</td>\n",
       "      <td>18.280098</td>\n",
       "      <td>1.0</td>\n",
       "      <td>0</td>\n",
       "      <td>2019-01-11</td>\n",
       "      <td>0</td>\n",
       "    </tr>\n",
       "    <tr>\n",
       "      <th>4</th>\n",
       "      <td>4</td>\n",
       "      <td>c63cbc0d9adf033435d4d712125057ae87b430dd</td>\n",
       "      <td>2018-11-03 12:30:00</td>\n",
       "      <td>2018-11-03 12:30:00</td>\n",
       "      <td>342.0</td>\n",
       "      <td>1.9</td>\n",
       "      <td>1.703103e+10</td>\n",
       "      <td>1.703106e+10</td>\n",
       "      <td>8.50</td>\n",
       "      <td>False</td>\n",
       "      <td>...</td>\n",
       "      <td>12</td>\n",
       "      <td>5</td>\n",
       "      <td>5</td>\n",
       "      <td>44</td>\n",
       "      <td>44</td>\n",
       "      <td>20.000000</td>\n",
       "      <td>1.0</td>\n",
       "      <td>0</td>\n",
       "      <td>2018-11-03</td>\n",
       "      <td>0</td>\n",
       "    </tr>\n",
       "  </tbody>\n",
       "</table>\n",
       "<p>5 rows × 32 columns</p>\n",
       "</div>"
      ],
      "text/plain": [
       "   Unnamed: 0                                   Trip ID Trip Start Timestamp  \\\n",
       "0           0  c7661e85fe9b588a0dada78c493a52e3599e435f  2019-02-04 18:30:00   \n",
       "1           1  c013b63cefbb16a8251586dd6ab04d31f8f42cb3  2019-01-05 02:45:00   \n",
       "2           2  c6036c4b6dd0cfa563823a82c4472201e8f4f044  2019-01-19 16:15:00   \n",
       "3           3  c30387fd0452828350411906001e3872954958e2  2019-01-11 15:00:00   \n",
       "4           4  c63cbc0d9adf033435d4d712125057ae87b430dd  2018-11-03 12:30:00   \n",
       "\n",
       "   Trip End Timestamp  Trip Seconds  Trip Miles  Pickup Census Tract  \\\n",
       "0 2019-02-04 18:45:00        1270.0         3.8         1.703184e+10   \n",
       "1 2019-01-05 03:00:00         962.0         8.5                  NaN   \n",
       "2 2019-01-19 16:30:00         353.0         0.8         1.703184e+10   \n",
       "3 2019-01-11 15:30:00        1221.0         6.2         1.703108e+10   \n",
       "4 2018-11-03 12:30:00         342.0         1.9         1.703103e+10   \n",
       "\n",
       "   Dropoff Census Tract  Trip Total  Shared Trip Authorized  ...  \\\n",
       "0          1.703124e+10        5.05                    True  ...   \n",
       "1                   NaN       15.05                   False  ...   \n",
       "2          1.703184e+10        7.55                   False  ...   \n",
       "3          1.703184e+10       15.05                   False  ...   \n",
       "4          1.703106e+10        8.50                   False  ...   \n",
       "\n",
       "   Dropoff_hour  Pickup_day_of_week  Dropoff_day_of_week Pickup_week_of_year  \\\n",
       "0            18                   0                    0                   6   \n",
       "1             3                   5                    5                   1   \n",
       "2            16                   5                    5                   3   \n",
       "3            15                   4                    4                   2   \n",
       "4            12                   5                    5                  44   \n",
       "\n",
       "   Dropoff_week_of_year  Average Speed Count  US_holiday  Pickup_date  \\\n",
       "0                     6      10.771653   1.0           0   2019-02-04   \n",
       "1                     1      31.808731   1.0           0   2019-01-05   \n",
       "2                     3       8.158640   1.0           0   2019-01-19   \n",
       "3                     2      18.280098   1.0           0   2019-01-11   \n",
       "4                    44      20.000000   1.0           0   2018-11-03   \n",
       "\n",
       "   is_extreme_weather  \n",
       "0                   0  \n",
       "1                   0  \n",
       "2                   0  \n",
       "3                   0  \n",
       "4                   0  \n",
       "\n",
       "[5 rows x 32 columns]"
      ]
     },
     "execution_count": 11,
     "metadata": {},
     "output_type": "execute_result"
    }
   ],
   "source": [
    "df.head()"
   ]
  },
  {
   "cell_type": "code",
   "execution_count": 10,
   "metadata": {},
   "outputs": [],
   "source": [
    "US_national_holidays = []\n",
    "\n",
    "for date in holidays.UnitedStates(years=[2018,2019]).items(): #items() returns dictionary.\n",
    "    US_national_holidays.append(str(date[0])) # extract string representation from dates.\n",
    "    \n",
    "# Use list comprehension to use a for loop to create a list.\n",
    "df[\"US_holiday\"] = [1 if str(value).split()[0] in US_national_holidays else 0 for value in df[\"Trip Start Timestamp\"]]\n",
    "# df[\"US_holiday\"] = df[\"US_holiday\"].astype(\"bool\")\n",
    "\n",
    "# Convert list to datetime \n",
    "extreme_weather = [\"2019-01-30\"]\n",
    "df[\"Pickup_date\"] = pd.DatetimeIndex(df[\"Trip Start Timestamp\"]).date\n",
    "df[\"is_extreme_weather\"] = [1 if str(value) in extreme_weather else 0 for value in df[\"Pickup_date\"]]\n",
    "# extreme_weather = pd.to_datetime(pd.Series(\"2019-01-30\"), format=\"%Y/%m/%d\")\n",
    "# df[\"is_extreme_weather\"] = df[\"is_extreme_weather\"].astype(\"bool\")\n"
   ]
  },
  {
   "cell_type": "code",
   "execution_count": 13,
   "metadata": {},
   "outputs": [],
   "source": [
    "df[\"is_extreme_weather\"].unique()\n",
    "df.drop(\"Pickup_date\", axis=1, inplace=True)\n"
   ]
  },
  {
   "cell_type": "code",
   "execution_count": 14,
   "metadata": {},
   "outputs": [
    {
     "data": {
      "text/plain": [
       "['2019-01-30']"
      ]
     },
     "execution_count": 14,
     "metadata": {},
     "output_type": "execute_result"
    }
   ],
   "source": [
    "extreme_weather"
   ]
  },
  {
   "cell_type": "code",
   "execution_count": 15,
   "metadata": {},
   "outputs": [
    {
     "data": {
      "text/plain": [
       "['(datetime.date(2018, 1, 1), \"New Year\\'s Day\")',\n",
       " \"(datetime.date(2018, 1, 15), 'Martin Luther King, Jr. Day')\",\n",
       " '(datetime.date(2018, 2, 19), \"Washington\\'s Birthday\")',\n",
       " \"(datetime.date(2018, 5, 28), 'Memorial Day')\",\n",
       " \"(datetime.date(2018, 7, 4), 'Independence Day')\",\n",
       " \"(datetime.date(2018, 9, 3), 'Labor Day')\",\n",
       " \"(datetime.date(2018, 10, 8), 'Columbus Day')\",\n",
       " \"(datetime.date(2018, 11, 11), 'Veterans Day')\",\n",
       " \"(datetime.date(2018, 11, 12), 'Veterans Day (Observed)')\",\n",
       " \"(datetime.date(2018, 11, 22), 'Thanksgiving')\",\n",
       " \"(datetime.date(2018, 12, 25), 'Christmas Day')\",\n",
       " '(datetime.date(2019, 1, 1), \"New Year\\'s Day\")',\n",
       " \"(datetime.date(2019, 1, 21), 'Martin Luther King, Jr. Day')\",\n",
       " '(datetime.date(2019, 2, 18), \"Washington\\'s Birthday\")',\n",
       " \"(datetime.date(2019, 5, 27), 'Memorial Day')\",\n",
       " \"(datetime.date(2019, 7, 4), 'Independence Day')\",\n",
       " \"(datetime.date(2019, 9, 2), 'Labor Day')\",\n",
       " \"(datetime.date(2019, 10, 14), 'Columbus Day')\",\n",
       " \"(datetime.date(2019, 11, 11), 'Veterans Day')\",\n",
       " \"(datetime.date(2019, 11, 28), 'Thanksgiving')\",\n",
       " \"(datetime.date(2019, 12, 25), 'Christmas Day')\"]"
      ]
     },
     "execution_count": 15,
     "metadata": {},
     "output_type": "execute_result"
    }
   ],
   "source": [
    "holiday_usa = []\n",
    "for date in holidays.UnitedStates(years=[2018,2019]).items(): #items() returns dictionary.\n",
    "    holiday_usa.append(str(date)) # extract string representation from dates.\n",
    "holiday_usa\n"
   ]
  },
  {
   "cell_type": "code",
   "execution_count": 17,
   "metadata": {},
   "outputs": [
    {
     "ename": "KeyError",
     "evalue": "\"None of ['Unnamed: 0'] are in the columns\"",
     "output_type": "error",
     "traceback": [
      "\u001b[0;31m---------------------------------------------------------------------------\u001b[0m",
      "\u001b[0;31mKeyError\u001b[0m                                  Traceback (most recent call last)",
      "\u001b[0;32m<ipython-input-17-71cd93a4f84b>\u001b[0m in \u001b[0;36m<module>\u001b[0;34m\u001b[0m\n\u001b[1;32m     42\u001b[0m \u001b[0;31m# For example create \"is_holiday\" and \"is_bad_weather\" columns.\u001b[0m\u001b[0;34m\u001b[0m\u001b[0;34m\u001b[0m\u001b[0;34m\u001b[0m\u001b[0m\n\u001b[1;32m     43\u001b[0m \u001b[0;34m\u001b[0m\u001b[0m\n\u001b[0;32m---> 44\u001b[0;31m \u001b[0mdf\u001b[0m\u001b[0;34m.\u001b[0m\u001b[0mset_index\u001b[0m\u001b[0;34m(\u001b[0m\u001b[0;34m\"Unnamed: 0\"\u001b[0m\u001b[0;34m,\u001b[0m \u001b[0minplace\u001b[0m\u001b[0;34m=\u001b[0m\u001b[0;32mTrue\u001b[0m\u001b[0;34m,\u001b[0m \u001b[0mdrop\u001b[0m\u001b[0;34m=\u001b[0m\u001b[0;32mTrue\u001b[0m\u001b[0;34m)\u001b[0m \u001b[0;31m# Change back the index.\u001b[0m\u001b[0;34m\u001b[0m\u001b[0;34m\u001b[0m\u001b[0m\n\u001b[0m\u001b[1;32m     45\u001b[0m \u001b[0;34m\u001b[0m\u001b[0m\n",
      "\u001b[0;32m/Applications/anaconda3/lib/python3.7/site-packages/pandas/core/frame.py\u001b[0m in \u001b[0;36mset_index\u001b[0;34m(self, keys, drop, append, inplace, verify_integrity)\u001b[0m\n\u001b[1;32m   4301\u001b[0m \u001b[0;34m\u001b[0m\u001b[0m\n\u001b[1;32m   4302\u001b[0m         \u001b[0;32mif\u001b[0m \u001b[0mmissing\u001b[0m\u001b[0;34m:\u001b[0m\u001b[0;34m\u001b[0m\u001b[0;34m\u001b[0m\u001b[0m\n\u001b[0;32m-> 4303\u001b[0;31m             \u001b[0;32mraise\u001b[0m \u001b[0mKeyError\u001b[0m\u001b[0;34m(\u001b[0m\u001b[0;34mf\"None of {missing} are in the columns\"\u001b[0m\u001b[0;34m)\u001b[0m\u001b[0;34m\u001b[0m\u001b[0;34m\u001b[0m\u001b[0m\n\u001b[0m\u001b[1;32m   4304\u001b[0m \u001b[0;34m\u001b[0m\u001b[0m\n\u001b[1;32m   4305\u001b[0m         \u001b[0;32mif\u001b[0m \u001b[0minplace\u001b[0m\u001b[0;34m:\u001b[0m\u001b[0;34m\u001b[0m\u001b[0;34m\u001b[0m\u001b[0m\n",
      "\u001b[0;31mKeyError\u001b[0m: \"None of ['Unnamed: 0'] are in the columns\""
     ]
    },
    {
     "data": {
      "image/png": "[encoded data removed]",
      "text/plain": [
       "<Figure size 1080x576 with 1 Axes>"
      ]
     },
     "metadata": {
      "needs_background": "light"
     },
     "output_type": "display_data"
    }
   ],
   "source": [
    "# Create number of daily pickups in Chicago with boolean for holiday.\n",
    "# Create pandas series with boolean is_holiday\n",
    "# Start by setting index to time.\n",
    "# Then create a 2 columns series --> name pandas series: daily_pickups_df\n",
    "# Then use conditional selection.\n",
    "\n",
    "df.set_index(\"Trip Start Timestamp\", inplace=True, drop=False) # set index using 1 column.\n",
    "daily_pickups_df = df[[\"Count\", \"US_holiday\"]]\n",
    "us_holiday = daily_pickups_df.US_holiday.resample(\"D\").sum()\n",
    "us_holiday = us_holiday > 0\n",
    "us_holiday = us_holiday[us_holiday]\n",
    "\n",
    "#Creata another pandas series with boolean is_extreme weather.\n",
    "extreme_weather_df = df[[\"is_extreme_weather\"]]\n",
    "bad_weather = extreme_weather_df.is_extreme_weather.resample(\"D\").sum()\n",
    "bad_weather = bad_weather > 0\n",
    "bad_weather = bad_weather[bad_weather]\n",
    "\n",
    "# Number of rides per day over the start 2018 - end 2019.\n",
    "# Resample from the same pandas series, not the original dataframe.\n",
    "daily_pickups = daily_pickups_df.Count.resample(\"D\").sum()\n",
    "fig = plt.figure(figsize=(15,8))\n",
    "plt.plot(daily_pickups)\n",
    "plt.vlines(us_holiday.index, \n",
    "           ymax=daily_pickups.max(), \n",
    "           ymin=0,\n",
    "           colors=\"r\",\n",
    "           linestyles=\"dashed\",\n",
    "           label=\"US-holiday\")\n",
    "plt.vlines(bad_weather.index, \n",
    "           ymax=daily_pickups.max(), \n",
    "           ymin=0,\n",
    "           colors=\"g\",\n",
    "           linestyles=\"dashed\",\n",
    "           label=\"Extreme weather\")\n",
    "plt.xlabel(\"Date\")\n",
    "plt.ylabel(\"Number of trips\")\n",
    "plt.title(\"Number of daily pickups in Chicago\") \n",
    "\n",
    "# Incorporate Holiday & Weather by using boolean variables.\n",
    "# Make use to use different colors for each type of event.\n",
    "# For example create \"is_holiday\" and \"is_bad_weather\" columns.\n",
    "\n",
    "#df.set_index(\"Unnamed: 0\", inplace=True, drop=True) # Change back the index.\n",
    "\n"
   ]
  },
  {
   "cell_type": "code",
   "execution_count": null,
   "metadata": {},
   "outputs": [],
   "source": [
    "us_holiday.index"
   ]
  },
  {
   "cell_type": "code",
   "execution_count": null,
   "metadata": {},
   "outputs": [],
   "source": [
    "bad_weather.index"
   ]
  },
  {
   "cell_type": "code",
   "execution_count": null,
   "metadata": {},
   "outputs": [],
   "source": [
    "# Create number of daily pickups in Chicago with boolean for extreme weather.\n",
    "# Graph seperately: daily percipitation and daily wind speed, temperature too?\n",
    "# Weather station: Chicago Midway Airport, IL, US: Located south side.\n",
    "# Chicago weather hot summers (July-August) and cold winters (Dec-March)\n",
    "# Summers are warm, humid, and wet. Winters are freezing and windy.\n",
    "# Document extreme weather from November 2018 - December 2019:\n",
    "# - 20190130: Extreme cold weather in late January\n",
    "\n"
   ]
  },
  {
   "cell_type": "code",
   "execution_count": null,
   "metadata": {},
   "outputs": [],
   "source": [
    "df"
   ]
  },
  {
   "cell_type": "code",
   "execution_count": null,
   "metadata": {},
   "outputs": [],
   "source": [
    "df[\"Dropoff_day_of_week\"].value_counts(sort=False)\n",
    "# Most Dropoffs are on Friday and Saturday. Monday has the least.\n"
   ]
  },
  {
   "cell_type": "code",
   "execution_count": null,
   "metadata": {
    "scrolled": true
   },
   "outputs": [],
   "source": [
    "# Visual time-series of trips per day of week.\n",
    "# Dictionary for Weekdays.\n",
    "positions = (0,1,2,3,4,5,6)\n",
    "labels = (\"Monday\", \"Tuesday\", \"Wednesday\", \"Thursday\", \"Friday\",\n",
    "          \"Saturday\", \"Sunday\")\n",
    "\n",
    "df[\"Pickup_day_of_week\"].value_counts(sort=False).plot(kind='bar')\n",
    "plt.title(\"Number of pickups by week day\")\n",
    "plt.xticks(positions, labels)\n",
    "# plt.savefig(\"Trip duration in seconds\", dpi=100)"
   ]
  },
  {
   "cell_type": "code",
   "execution_count": null,
   "metadata": {
    "scrolled": true
   },
   "outputs": [],
   "source": [
    "positions = (0,1,2,3,4,5,6,7,8,9,10,11,12,13,14,15,16,17,18,19,20,21,22,23)\n",
    "labels = (\"12AM\",\"1AM\",\"2AM\",\"3AM\",\"4AM\",\"5AM\",\"6AM\",\"7AM\",\"8AM\",\n",
    "          \"9AM\",\"10AM\",\"11AM\",\"12PM\",\"1PM\",\"2PM\",\"3PM\",\"4PM\",\"5PM\",\n",
    "          \"6PM\",\"7PM\",\"8PM\",\"9PM\",\"10PM\",\"11PM\")\n",
    "# Visual hourly time-series\n",
    "df[\"Pickup_hour\"].value_counts(sort=False).plot(kind=\"bar\")\n",
    "plt.title(\"Hourly pickups\")\n",
    "plt.xticks(positions, labels)\n",
    "\n",
    "# Both hourly pickup and dropoff show a similar pattern:\n",
    "# Low ride-hailing demand between 1AM and 5AM.\n",
    "# Ride-hailing demand much higher in the morning, afternoon, and evening.\n",
    "# 2 peaks during the day related to rush hours periods: \n",
    "# 1st demand surge from 5AM - 9AM with the peak at 8-9AM.\n",
    "# 2nd demand surge from 4PM - 8PM with the peak at 5-7PM. \n",
    "# late afternoon rush hour (4PM - 7PM).\n"
   ]
  },
  {
   "cell_type": "code",
   "execution_count": null,
   "metadata": {},
   "outputs": [],
   "source": [
    "# alternative way to plot 2 subplots using Seaborn\n",
    "# HAVE TO LEARN SEABORN BASISCS!!\n",
    "\n",
    "figure,ax=plt.subplots(nrows=1,ncols=2,figsize=(10,5))\n",
    "df['Pickup_hour1']=df['Trip Start Timestamp'].dt.hour\n",
    "df.Pickup_hour1.hist(bins=24,ax=ax[0])\n",
    "ax[0].set_title('Distribution of pickup hours')\n",
    "df['Dropoff_hour1']=df['Trip End Timestamp'].dt.hour\n",
    "df.Dropoff_hour1.hist(bins=24,ax=ax[1])\n",
    "ax[1].set_title('Distribution of dropoff hours')"
   ]
  },
  {
   "cell_type": "code",
   "execution_count": null,
   "metadata": {
    "scrolled": true
   },
   "outputs": [],
   "source": [
    "# Time-series pick-up month\n",
    "positions = (0,1,2,3,4,5,6,7,8,9,10,11)\n",
    "labels = (\"Jan\", \"Feb\", \"Mar\", \"Apr\", \"May\", \"Jun\",\n",
    "          \"Jul\", \"Aug\", \"Sep\", \"Oct\", \"Nov\", \"Dec\")\n",
    "\n",
    "df[\"Pickup_month\"].value_counts(sort=False).plot(kind=\"bar\")\n",
    "plt.title(\"Monthly pickups\")\n",
    "plt.xticks(positions, labels)\n",
    "\n",
    "# The number of pickups is increases throughout the year, with large spike\n",
    "# during holiday months in November and December. \n",
    "# Generally January up to and including March has the lowest demand."
   ]
  },
  {
   "cell_type": "code",
   "execution_count": null,
   "metadata": {},
   "outputs": [],
   "source": [
    "# Time-series pick-up week of year\n",
    "positions = (0,1,2,3,4,5,6,7,8,9,10,11,12,13,14,15,16,17,18,19,20,21,\n",
    "             22,23,24,25,26,27,28,29,30,31,32,33,34,35,36,37,38,39,40,\n",
    "             41,42,43,44,45,46,47,48,49,50,51)\n",
    "labels = (1,2,3,4,5,6,7,8,9,10,11,12,13,14,15,16,17,18,19,20,21,\n",
    "             22,23,24,25,26,27,28,29,30,31,32,33,34,35,36,37,38,39,40,\n",
    "             41,42,43,44,45,46,47,48,49,50,51,52)\n",
    "\n",
    "df[\"Pickup_week_of_year\"].value_counts(sort=False).plot(kind=\"bar\", figsize=(10,5))\n",
    "plt.title(\"Weekly pickups\")\n",
    "#plt.xticks(positions, labels)\n",
    "\n",
    "# follows similar patter as \"Pickup_month\". However, plotting RH demand\n",
    "# by week does help identify whether surge of RH is related to certain\n",
    "# events such as holidays or sports events."
   ]
  },
  {
   "cell_type": "code",
   "execution_count": null,
   "metadata": {},
   "outputs": [],
   "source": [
    "df[\"Trip Seconds\"].plot(kind=\"hist\", bins=50)"
   ]
  },
  {
   "cell_type": "code",
   "execution_count": null,
   "metadata": {},
   "outputs": [],
   "source": [
    "# Create function that makes a distribution of pickups and dropoffs\n",
    "# during the day.\n",
    "# Here, time is represented into 4 time parts: early morning (4AM - 10 AM),\n",
    "# afternoon (10AM - 4PM), late afternoon/evening (4PM - 10PM)\n",
    "# and late night (10PM - 4AM)\n",
    "\n",
    "def timezone(x):\n",
    "    if x>= datetime.time(6, 0, 1) and x <= datetime.time(12, 0, 0):\n",
    "        return \"Early Morning\"\n",
    "    if x>= datetime.time(12, 0, 1) and x <= datetime.time(18, 0, 0):\n",
    "        return \"Midday\"\n",
    "    if x>= datetime.time(18, 0, 1) and x <= datetime.time(24, 0, 0):\n",
    "        return \"Evening\"\n",
    "    if x>= datetime.time(24, 0, 1) and x <= datetime.time(6, 0, 0):\n",
    "        return \"Night\""
   ]
  },
  {
   "cell_type": "markdown",
   "metadata": {},
   "source": [
    "# Bivariate Analaysis"
   ]
  },
  {
   "cell_type": "code",
   "execution_count": null,
   "metadata": {},
   "outputs": [],
   "source": []
  },
  {
   "cell_type": "markdown",
   "metadata": {},
   "source": [
    "# Visualizing pickup- and dropoff locations"
   ]
  },
  {
   "cell_type": "code",
   "execution_count": null,
   "metadata": {},
   "outputs": [],
   "source": [
    "# Create an interactive base map.\n",
    "# Default_location: start location based on coordinates.\n",
    "# Zoom_start: defines default magnifing level.\n",
    "def generateBaseMap(default_location=[41.881832, -87.623177], default_zoom_start=10):\n",
    "    base_map = folium.Map(location=default_location, control_scale=True, zoom_start=default_zoom_start)\n",
    "    return base_map"
   ]
  },
  {
   "cell_type": "code",
   "execution_count": null,
   "metadata": {},
   "outputs": [],
   "source": [
    "base_map = generateBaseMap()\n",
    "base_map"
   ]
  },
  {
   "cell_type": "code",
   "execution_count": null,
   "metadata": {},
   "outputs": [],
   "source": [
    "# Plot heatmap.\n",
    "from folium.plugins import HeatMap\n",
    "\n",
    "df['Count'] = 1\n",
    "base_map = generateBaseMap()\n",
    "#Pickup coordinates\n",
    "#HeatMap(data=data[[\"Pickup Centroid Latitude\", \"Pickup Centroid Longitude\", \"count\"]].groupby([\"Pickup Centroid Latitude\", \"Pickup Centroid Longitude\"]).sum().reset_index().values.tolist(), radius=8, max_zoom=13).add_to(bmap)\n",
    "\n",
    "#Dropoff coordinates\n",
    "HeatMap(data=df[[\"Dropoff Centroid Latitude\", \"Dropoff Centroid Longitude\", \"Count\"]].groupby([\"Dropoff Centroid Latitude\", \"Dropoff Centroid Longitude\"]).sum().reset_index().values.tolist(), radius=8, max_zoom=13).add_to(base_map)\n",
    "base_map\n"
   ]
  },
  {
   "cell_type": "code",
   "execution_count": null,
   "metadata": {},
   "outputs": [],
   "source": [
    "# Heatmaps with a time dynamic component part 1.\n",
    "pickup_hourly = []\n",
    "\n",
    "for hour in df[\"Pickup_hour\"].sort_values().unique():\n",
    "    pickup_hourly.append(df.loc[df[\"Pickup_hour\"] == hour, [\"Pickup Centroid Latitude\", \"Pickup Centroid Longitude\", \"Count\"]].groupby([\"Pickup Centroid Latitude\", \"Pickup Centroid Longitude\"]).sum().reset_index().values.tolist())\n"
   ]
  },
  {
   "cell_type": "code",
   "execution_count": null,
   "metadata": {
    "scrolled": false
   },
   "outputs": [],
   "source": [
    "# Heatmaps with a time dynamic component part 2.\n",
    "from folium.plugins import HeatMapWithTime\n",
    "\n",
    "bmap = generateBaseMap(default_zoom_start=11)\n",
    "HeatMapWithTime(pickup_hourly, radius=5, gradient={0.1: 'blue', 0.2: 'lime', 0.5: 'orange', 0.8: 'red'}, min_opacity=0.5, max_opacity=0.8, use_local_extrema=True).add_to(base_map)\n",
    "base_map\n",
    "\n",
    "# Need to make this HOURLY --> first make an hour and 15th minute feature."
   ]
  },
  {
   "cell_type": "markdown",
   "metadata": {},
   "source": [
    "# Mapping Chicago with Geopandas from scratch with Cencus tracts."
   ]
  },
  {
   "cell_type": "code",
   "execution_count": null,
   "metadata": {},
   "outputs": [],
   "source": []
  },
  {
   "cell_type": "code",
   "execution_count": null,
   "metadata": {},
   "outputs": [],
   "source": []
  },
  {
   "cell_type": "code",
   "execution_count": null,
   "metadata": {},
   "outputs": [],
   "source": []
  },
  {
   "cell_type": "markdown",
   "metadata": {},
   "source": [
    "# Cencus Tract binning"
   ]
  },
  {
   "cell_type": "code",
   "execution_count": null,
   "metadata": {
    "scrolled": false
   },
   "outputs": [],
   "source": [
    "# Steps to take for cencus tract binning:\n",
    "# Load on basic shapefile of Chicago\n",
    "# Put on top of that layer the layer of the cencus tracts\n",
    "# Can also add major streets if you want to.\n",
    "# The census tracts serve as a bin to which rides are added to.\n",
    "# This way you can see how much pickups and dropoffs there are in \n",
    "# each area of the city.\n",
    "# Then addding a timestamp allows for dynamic visibility of demand.\n",
    "\n",
    "# Load in shapefile.\n",
    "fp = \"/Users/leonpoon/Desktop/Desktop/Universiteit/Erasmus/2019-2020/BIM/Thesis/2. Data analysis and exploration/Boundaries - Census Tracts - 2010/geo_export_52ea5994-76d8-4f00-a42e-bbe33f53d5ea.shp\"\n",
    "map_df = gpd.read_file(fp)\n",
    "\n",
    "# Load in GeoJSON file, because works with Folium.\n",
    "geosjon_file = \"Boundaries - Census Tracts - 2010.geojson\"\n",
    "chicago_census_tracts = gpd.read_file(geosjon_file)\n",
    "\n"
   ]
  },
  {
   "cell_type": "code",
   "execution_count": null,
   "metadata": {},
   "outputs": [],
   "source": [
    "# Pickup by census tract.\n",
    "pickup_by_censustract = pd.read_csv(\"pickup_demand_by_censustract_test.csv\")\n",
    "#pickup_demand_by_censustract = df[[\"Pickup Census Tract\", \"Count\"]].groupby([\"Pickup Census Tract\"]).sum().reset_index().values.tolist()\n",
    "\n",
    "# Pickup demand by lat, long location.\n",
    "# pickup_demand_by_location = df[[\"Pickup Centroid Location\", \"Count\"]].groupby([\"Pickup Centroid Location\"]).sum().reset_index().values.tolist()\n"
   ]
  },
  {
   "cell_type": "code",
   "execution_count": null,
   "metadata": {},
   "outputs": [],
   "source": [
    "#pickup_demand_by_censustract = pd.DataFrame(pickup_demand_by_censustract, columns=[\"Pickup Census Tract\", \"Count\"])\n",
    "#pickup_demand_by_censustract.to_csv(\"pickup_demand_by_censustract.csv\", index=False)\n",
    "\n",
    "#pickup_demand_by_location = pd.DataFrame(pickup_demand_by_location, columns=[\"Pickup Centroid Location\", \"Count\"])\n",
    "#pickup_demand_by_location.to_csv(\"pickup_demand_by_location.csv\", index=False)\n",
    "\n",
    "#map_df[\"geoid10\"].to_csv(\"geoid10\", index=False)\n"
   ]
  },
  {
   "cell_type": "code",
   "execution_count": null,
   "metadata": {},
   "outputs": [],
   "source": [
    "# https://vverde.github.io/blob/interactivechoropleth.html\n",
    "# https://blog.datasciencedojo.com/geospatial-visualization-folium-python/\n",
    "import branca.colormap as cm\n",
    "\n",
    "# Convert Pickup Census Tract to dtype: object, as key_on object in geosjon_file is also an dtype: object\n",
    "pickup_by_censustract[\"geoid10\"] = pickup_by_censustract[\"geoid10\"].astype(str)\n",
    "\n",
    "# Creating Chicago map with Folium\n",
    "chicago_map = folium.Map(\n",
    "    location=[41.881832, -87.623177],\n",
    "    zoom_start=9)\n",
    "#folium.TileLayer(\"CartoDB positron\", name=\"Light Map\", control=False).add_to(chicago_map)\n",
    "\n",
    "# Overlaying Chicago map with bounderies of census tracts\n",
    "folium.GeoJson(chicago_census_tracts).add_to(chicago_map)\n",
    "\n",
    "myscale = (pickup_by_censustract[\"Count\"].quantile((0,0.1, 0.25,0.5,0.75,0.98,1))).tolist()\n",
    "\n",
    "# Creating Choropleth\n",
    "folium.Choropleth(\n",
    "    geo_data=chicago_census_tracts,\n",
    "    name=\"choropleth\",\n",
    "    data=pickup_by_censustract,\n",
    "    columns=[\"geoid10\", \"Count\"],\n",
    "    key_on=\"feature.properties.geoid10\",\n",
    "    threshold_scale=myscale,\n",
    "    fill_color=\"YlGn\",\n",
    "    fill_opacity=0.7,\n",
    "    line_opacity=0.2,\n",
    "    legend_name=\"Ride-hailing demand\"\n",
    ").add_to(chicago_map)\n",
    "\n",
    "folium.LayerControl().add_to(chicago_map)\n",
    "chicago_map.save(\"ride-hailing_choropleth_chicago.html\")\n",
    "chicago_map"
   ]
  },
  {
   "cell_type": "code",
   "execution_count": null,
   "metadata": {},
   "outputs": [],
   "source": [
    "# Calculate 1-100th percentile of data.\n",
    "\n",
    "for i in range(1,100,10):\n",
    "    var = pickup_by_censustract[\"Count\"].values\n",
    "    var = np.sort(var,axis=None)\n",
    "    print(\"{} percentile value is {}\".format(i, var[int(len(var)*(float(i)/100))]))\n",
    "print (\"100 percentile value is \",var[-1])"
   ]
  },
  {
   "cell_type": "code",
   "execution_count": null,
   "metadata": {},
   "outputs": [],
   "source": [
    "for i in range(90,100,1):\n",
    "    var = pickup_by_censustract[\"Count\"].values\n",
    "    var = np.sort(var,axis=None)\n",
    "    print(\"{} percentile value is {}\".format(i, var[int(len(var)*(float(i)/100))]))\n",
    "print (\"100 percentile value is \",var[-1])"
   ]
  },
  {
   "cell_type": "code",
   "execution_count": null,
   "metadata": {},
   "outputs": [],
   "source": [
    "chicago_census_tracts=chicago_census_tracts.merge(pickup_by_censustract,on=\"geoid10\")\n",
    "chicago_census_tracts.head()"
   ]
  },
  {
   "cell_type": "code",
   "execution_count": null,
   "metadata": {},
   "outputs": [],
   "source": [
    "style_function = lambda x: {\"fillColor\": \"#ffffff\",\n",
    "                            \"color\":\"#000000\",\n",
    "                            \"fillOpacity\": 0.1,\n",
    "                            \"weight\": 0.1}\n",
    "highlight_function = lambda x: {\"fillColor\": \"#000000\",\n",
    "                                \"color\":\"000000\",\n",
    "                                \"fillOpacity\":0.5,\n",
    "                                \"weight\":0.1}\n",
    "\n",
    "geoid10 = folium.features.GeoJson(\n",
    "    chicago_census_tracts,\n",
    "    style_function=style_function,\n",
    "    control=False,\n",
    "    highlight_function=highlight_function,\n",
    "    tooltip=folium.features.GeoJsonTooltip(\n",
    "        fields=[\"geoid10\", \"Count\"],\n",
    "        aliases=[\"Census Tract: \",\"Number of ride-hail trips\"],\n",
    "        style=(\"background-color:white; color:#333333; font-family:arial; font-size:12px; padding:10px;\")))\n",
    "\n",
    "chicago_map.add_child(geoid10)\n",
    "chicago_map.keep_in_front(geoid10)\n",
    "folium.LayerControl().add_to(chicago_map)\n",
    "chicago_map"
   ]
  },
  {
   "cell_type": "code",
   "execution_count": null,
   "metadata": {},
   "outputs": [],
   "source": [
    "\n",
    "\n"
   ]
  },
  {
   "cell_type": "code",
   "execution_count": null,
   "metadata": {},
   "outputs": [],
   "source": []
  }
 ],
 "metadata": {
  "kernelspec": {
   "display_name": "Python 3",
   "language": "python",
   "name": "python3"
  },
  "language_info": {
   "codemirror_mode": {
    "name": "ipython",
    "version": 3
   },
   "file_extension": ".py",
   "mimetype": "text/x-python",
   "name": "python",
   "nbconvert_exporter": "python",
   "pygments_lexer": "ipython3",
   "version": "3.7.4"
  }
 },
 "nbformat": 4,
 "nbformat_minor": 2
}
