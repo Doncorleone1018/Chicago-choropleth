{
 "cells": [
  {
   "cell_type": "code",
   "execution_count": 1,
   "metadata": {},
   "outputs": [
    {
     "data": {
      "text/html": [
       "        <script type=\"text/javascript\">\n",
       "        window.PlotlyConfig = {MathJaxConfig: 'local'};\n",
       "        if (window.MathJax) {MathJax.Hub.Config({SVG: {font: \"STIX-Web\"}});}\n",
       "        if (typeof require !== 'undefined') {\n",
       "        require.undef(\"plotly\");\n",
       "        requirejs.config({\n",
       "            paths: {\n",
       "                'plotly': ['https://cdn.plot.ly/plotly-latest.min']\n",
       "            }\n",
       "        });\n",
       "        require(['plotly'], function(Plotly) {\n",
       "            window._Plotly = Plotly;\n",
       "        });\n",
       "        }\n",
       "        </script>\n",
       "        "
      ]
     },
     "metadata": {},
     "output_type": "display_data"
    },
    {
     "data": {
      "text/html": [
       "        <script type=\"text/javascript\">\n",
       "        window.PlotlyConfig = {MathJaxConfig: 'local'};\n",
       "        if (window.MathJax) {MathJax.Hub.Config({SVG: {font: \"STIX-Web\"}});}\n",
       "        if (typeof require !== 'undefined') {\n",
       "        require.undef(\"plotly\");\n",
       "        requirejs.config({\n",
       "            paths: {\n",
       "                'plotly': ['https://cdn.plot.ly/plotly-latest.min']\n",
       "            }\n",
       "        });\n",
       "        require(['plotly'], function(Plotly) {\n",
       "            window._Plotly = Plotly;\n",
       "        });\n",
       "        }\n",
       "        </script>\n",
       "        "
      ]
     },
     "metadata": {},
     "output_type": "display_data"
    }
   ],
   "source": [
    "import pandas as pd\n",
    "import numpy as np\n",
    "import matplotlib.pyplot as plt\n",
    "import datetime\n",
    "\n",
    "\n",
    "from plotly import __version__\n",
    "import cufflinks as cf\n",
    "\n",
    "from plotly.offline import download_plotlyjs,init_notebook_mode,plot,iplot\n",
    "init_notebook_mode(connected=True)\n",
    "cf.go_offline()"
   ]
  },
  {
   "cell_type": "code",
   "execution_count": 2,
   "metadata": {},
   "outputs": [],
   "source": [
    "%matplotlib inline"
   ]
  },
  {
   "cell_type": "markdown",
   "metadata": {},
   "source": [
    "# Loading in data"
   ]
  },
  {
   "cell_type": "code",
   "execution_count": 3,
   "metadata": {},
   "outputs": [
    {
     "data": {
      "text/html": [
       "<div>\n",
       "<style scoped>\n",
       "    .dataframe tbody tr th:only-of-type {\n",
       "        vertical-align: middle;\n",
       "    }\n",
       "\n",
       "    .dataframe tbody tr th {\n",
       "        vertical-align: top;\n",
       "    }\n",
       "\n",
       "    .dataframe thead th {\n",
       "        text-align: right;\n",
       "    }\n",
       "</style>\n",
       "<table border=\"1\" class=\"dataframe\">\n",
       "  <thead>\n",
       "    <tr style=\"text-align: right;\">\n",
       "      <th></th>\n",
       "      <th>FNS</th>\n",
       "      <th>Ohara</th>\n",
       "      <th>NWS</th>\n",
       "      <th>NS</th>\n",
       "      <th>WS</th>\n",
       "      <th>CEN</th>\n",
       "      <th>SS</th>\n",
       "      <th>SWS</th>\n",
       "      <th>FSWS</th>\n",
       "      <th>FSES</th>\n",
       "      <th>is_holiday</th>\n",
       "      <th>is_weekend</th>\n",
       "      <th>season</th>\n",
       "    </tr>\n",
       "  </thead>\n",
       "  <tbody>\n",
       "    <tr>\n",
       "      <th>count</th>\n",
       "      <td>10224</td>\n",
       "      <td>10224</td>\n",
       "      <td>10224</td>\n",
       "      <td>10224</td>\n",
       "      <td>10224</td>\n",
       "      <td>10224</td>\n",
       "      <td>10224</td>\n",
       "      <td>10224</td>\n",
       "      <td>10224</td>\n",
       "      <td>10224</td>\n",
       "      <td>10224</td>\n",
       "      <td>10224</td>\n",
       "      <td>10224</td>\n",
       "    </tr>\n",
       "    <tr>\n",
       "      <th>mean</th>\n",
       "      <td>88</td>\n",
       "      <td>40</td>\n",
       "      <td>32</td>\n",
       "      <td>199</td>\n",
       "      <td>218</td>\n",
       "      <td>308</td>\n",
       "      <td>68</td>\n",
       "      <td>49</td>\n",
       "      <td>22</td>\n",
       "      <td>15</td>\n",
       "      <td>0</td>\n",
       "      <td>0</td>\n",
       "      <td>1</td>\n",
       "    </tr>\n",
       "    <tr>\n",
       "      <th>std</th>\n",
       "      <td>46</td>\n",
       "      <td>30</td>\n",
       "      <td>16</td>\n",
       "      <td>135</td>\n",
       "      <td>126</td>\n",
       "      <td>196</td>\n",
       "      <td>36</td>\n",
       "      <td>23</td>\n",
       "      <td>11</td>\n",
       "      <td>8</td>\n",
       "      <td>0</td>\n",
       "      <td>0</td>\n",
       "      <td>1</td>\n",
       "    </tr>\n",
       "    <tr>\n",
       "      <th>min</th>\n",
       "      <td>0</td>\n",
       "      <td>0</td>\n",
       "      <td>0</td>\n",
       "      <td>0</td>\n",
       "      <td>0</td>\n",
       "      <td>0</td>\n",
       "      <td>0</td>\n",
       "      <td>0</td>\n",
       "      <td>0</td>\n",
       "      <td>0</td>\n",
       "      <td>0</td>\n",
       "      <td>0</td>\n",
       "      <td>0</td>\n",
       "    </tr>\n",
       "    <tr>\n",
       "      <th>25%</th>\n",
       "      <td>53</td>\n",
       "      <td>16</td>\n",
       "      <td>20</td>\n",
       "      <td>101</td>\n",
       "      <td>114</td>\n",
       "      <td>138</td>\n",
       "      <td>37</td>\n",
       "      <td>31</td>\n",
       "      <td>14</td>\n",
       "      <td>9</td>\n",
       "      <td>0</td>\n",
       "      <td>0</td>\n",
       "      <td>1</td>\n",
       "    </tr>\n",
       "    <tr>\n",
       "      <th>50%</th>\n",
       "      <td>87</td>\n",
       "      <td>36</td>\n",
       "      <td>32</td>\n",
       "      <td>169</td>\n",
       "      <td>219</td>\n",
       "      <td>305</td>\n",
       "      <td>70</td>\n",
       "      <td>51</td>\n",
       "      <td>23</td>\n",
       "      <td>15</td>\n",
       "      <td>0</td>\n",
       "      <td>0</td>\n",
       "      <td>2</td>\n",
       "    </tr>\n",
       "    <tr>\n",
       "      <th>75%</th>\n",
       "      <td>117</td>\n",
       "      <td>61</td>\n",
       "      <td>43</td>\n",
       "      <td>262</td>\n",
       "      <td>298</td>\n",
       "      <td>441</td>\n",
       "      <td>96</td>\n",
       "      <td>67</td>\n",
       "      <td>31</td>\n",
       "      <td>21</td>\n",
       "      <td>0</td>\n",
       "      <td>1</td>\n",
       "      <td>2</td>\n",
       "    </tr>\n",
       "    <tr>\n",
       "      <th>max</th>\n",
       "      <td>306</td>\n",
       "      <td>168</td>\n",
       "      <td>121</td>\n",
       "      <td>901</td>\n",
       "      <td>738</td>\n",
       "      <td>1079</td>\n",
       "      <td>210</td>\n",
       "      <td>141</td>\n",
       "      <td>80</td>\n",
       "      <td>53</td>\n",
       "      <td>1</td>\n",
       "      <td>1</td>\n",
       "      <td>3</td>\n",
       "    </tr>\n",
       "  </tbody>\n",
       "</table>\n",
       "</div>"
      ],
      "text/plain": [
       "         FNS  Ohara    NWS     NS     WS    CEN     SS    SWS   FSWS   FSES  \\\n",
       "count  10224  10224  10224  10224  10224  10224  10224  10224  10224  10224   \n",
       "mean      88     40     32    199    218    308     68     49     22     15   \n",
       "std       46     30     16    135    126    196     36     23     11      8   \n",
       "min        0      0      0      0      0      0      0      0      0      0   \n",
       "25%       53     16     20    101    114    138     37     31     14      9   \n",
       "50%       87     36     32    169    219    305     70     51     23     15   \n",
       "75%      117     61     43    262    298    441     96     67     31     21   \n",
       "max      306    168    121    901    738   1079    210    141     80     53   \n",
       "\n",
       "       is_holiday  is_weekend  season  \n",
       "count       10224       10224   10224  \n",
       "mean            0           0       1  \n",
       "std             0           0       1  \n",
       "min             0           0       0  \n",
       "25%             0           0       1  \n",
       "50%             0           0       2  \n",
       "75%             0           1       2  \n",
       "max             1           1       3  "
      ]
     },
     "execution_count": 3,
     "metadata": {},
     "output_type": "execute_result"
    }
   ],
   "source": [
    "# Import hourly pickups by Chicago Side\n",
    "df_sides = pd.read_csv(\"hour_pickups_sides_final.csv\")\n",
    "\n",
    "df_sides[\"StartTime\"] = pd.to_datetime(df_sides[\"StartTime\"], \n",
    "                                       format=\"%d/%m/%Y %H:%M\")\n",
    "\n",
    "# set index\n",
    "df_sides.set_index(\"StartTime\", inplace=True)\n",
    "\n",
    "df_sides.describe().astype(int)"
   ]
  },
  {
   "cell_type": "code",
   "execution_count": 4,
   "metadata": {},
   "outputs": [
    {
     "data": {
      "text/html": [
       "<div>\n",
       "<style scoped>\n",
       "    .dataframe tbody tr th:only-of-type {\n",
       "        vertical-align: middle;\n",
       "    }\n",
       "\n",
       "    .dataframe tbody tr th {\n",
       "        vertical-align: top;\n",
       "    }\n",
       "\n",
       "    .dataframe thead th {\n",
       "        text-align: right;\n",
       "    }\n",
       "</style>\n",
       "<table border=\"1\" class=\"dataframe\">\n",
       "  <thead>\n",
       "    <tr style=\"text-align: right;\">\n",
       "      <th></th>\n",
       "      <th>FNS</th>\n",
       "      <th>Ohara</th>\n",
       "      <th>NWS</th>\n",
       "      <th>NS</th>\n",
       "      <th>WS</th>\n",
       "      <th>CEN</th>\n",
       "      <th>SS</th>\n",
       "      <th>SWS</th>\n",
       "      <th>FSWS</th>\n",
       "      <th>FSES</th>\n",
       "      <th>is_holiday</th>\n",
       "      <th>is_weekend</th>\n",
       "      <th>season</th>\n",
       "    </tr>\n",
       "    <tr>\n",
       "      <th>StartTime</th>\n",
       "      <th></th>\n",
       "      <th></th>\n",
       "      <th></th>\n",
       "      <th></th>\n",
       "      <th></th>\n",
       "      <th></th>\n",
       "      <th></th>\n",
       "      <th></th>\n",
       "      <th></th>\n",
       "      <th></th>\n",
       "      <th></th>\n",
       "      <th></th>\n",
       "      <th></th>\n",
       "    </tr>\n",
       "  </thead>\n",
       "  <tbody>\n",
       "    <tr>\n",
       "      <th>2018-11-01 00:00:00</th>\n",
       "      <td>70.0</td>\n",
       "      <td>15.0</td>\n",
       "      <td>20.0</td>\n",
       "      <td>174.0</td>\n",
       "      <td>134.0</td>\n",
       "      <td>141.0</td>\n",
       "      <td>48.0</td>\n",
       "      <td>25.0</td>\n",
       "      <td>17.0</td>\n",
       "      <td>12.0</td>\n",
       "      <td>0.0</td>\n",
       "      <td>0.0</td>\n",
       "      <td>2.0</td>\n",
       "    </tr>\n",
       "    <tr>\n",
       "      <th>2018-11-01 01:00:00</th>\n",
       "      <td>46.0</td>\n",
       "      <td>5.0</td>\n",
       "      <td>9.0</td>\n",
       "      <td>200.0</td>\n",
       "      <td>94.0</td>\n",
       "      <td>103.0</td>\n",
       "      <td>22.0</td>\n",
       "      <td>16.0</td>\n",
       "      <td>17.0</td>\n",
       "      <td>7.0</td>\n",
       "      <td>0.0</td>\n",
       "      <td>0.0</td>\n",
       "      <td>2.0</td>\n",
       "    </tr>\n",
       "    <tr>\n",
       "      <th>2018-11-01 02:00:00</th>\n",
       "      <td>38.0</td>\n",
       "      <td>1.0</td>\n",
       "      <td>11.0</td>\n",
       "      <td>122.0</td>\n",
       "      <td>67.0</td>\n",
       "      <td>74.0</td>\n",
       "      <td>13.0</td>\n",
       "      <td>16.0</td>\n",
       "      <td>13.0</td>\n",
       "      <td>8.0</td>\n",
       "      <td>0.0</td>\n",
       "      <td>0.0</td>\n",
       "      <td>2.0</td>\n",
       "    </tr>\n",
       "    <tr>\n",
       "      <th>2018-11-01 03:00:00</th>\n",
       "      <td>19.0</td>\n",
       "      <td>1.0</td>\n",
       "      <td>15.0</td>\n",
       "      <td>73.0</td>\n",
       "      <td>51.0</td>\n",
       "      <td>63.0</td>\n",
       "      <td>9.0</td>\n",
       "      <td>13.0</td>\n",
       "      <td>15.0</td>\n",
       "      <td>8.0</td>\n",
       "      <td>0.0</td>\n",
       "      <td>0.0</td>\n",
       "      <td>2.0</td>\n",
       "    </tr>\n",
       "    <tr>\n",
       "      <th>2018-11-01 04:00:00</th>\n",
       "      <td>27.0</td>\n",
       "      <td>0.0</td>\n",
       "      <td>12.0</td>\n",
       "      <td>50.0</td>\n",
       "      <td>50.0</td>\n",
       "      <td>49.0</td>\n",
       "      <td>18.0</td>\n",
       "      <td>22.0</td>\n",
       "      <td>13.0</td>\n",
       "      <td>6.0</td>\n",
       "      <td>0.0</td>\n",
       "      <td>0.0</td>\n",
       "      <td>2.0</td>\n",
       "    </tr>\n",
       "    <tr>\n",
       "      <th>...</th>\n",
       "      <td>...</td>\n",
       "      <td>...</td>\n",
       "      <td>...</td>\n",
       "      <td>...</td>\n",
       "      <td>...</td>\n",
       "      <td>...</td>\n",
       "      <td>...</td>\n",
       "      <td>...</td>\n",
       "      <td>...</td>\n",
       "      <td>...</td>\n",
       "      <td>...</td>\n",
       "      <td>...</td>\n",
       "      <td>...</td>\n",
       "    </tr>\n",
       "    <tr>\n",
       "      <th>2019-12-31 19:00:00</th>\n",
       "      <td>253.0</td>\n",
       "      <td>30.0</td>\n",
       "      <td>79.0</td>\n",
       "      <td>600.0</td>\n",
       "      <td>491.0</td>\n",
       "      <td>637.0</td>\n",
       "      <td>109.0</td>\n",
       "      <td>69.0</td>\n",
       "      <td>32.0</td>\n",
       "      <td>31.0</td>\n",
       "      <td>1.0</td>\n",
       "      <td>0.0</td>\n",
       "      <td>3.0</td>\n",
       "    </tr>\n",
       "    <tr>\n",
       "      <th>2019-12-31 20:00:00</th>\n",
       "      <td>279.0</td>\n",
       "      <td>20.0</td>\n",
       "      <td>82.0</td>\n",
       "      <td>695.0</td>\n",
       "      <td>540.0</td>\n",
       "      <td>647.0</td>\n",
       "      <td>110.0</td>\n",
       "      <td>106.0</td>\n",
       "      <td>47.0</td>\n",
       "      <td>42.0</td>\n",
       "      <td>1.0</td>\n",
       "      <td>0.0</td>\n",
       "      <td>3.0</td>\n",
       "    </tr>\n",
       "    <tr>\n",
       "      <th>2019-12-31 21:00:00</th>\n",
       "      <td>255.0</td>\n",
       "      <td>23.0</td>\n",
       "      <td>121.0</td>\n",
       "      <td>610.0</td>\n",
       "      <td>513.0</td>\n",
       "      <td>669.0</td>\n",
       "      <td>115.0</td>\n",
       "      <td>75.0</td>\n",
       "      <td>40.0</td>\n",
       "      <td>28.0</td>\n",
       "      <td>1.0</td>\n",
       "      <td>0.0</td>\n",
       "      <td>3.0</td>\n",
       "    </tr>\n",
       "    <tr>\n",
       "      <th>2019-12-31 22:00:00</th>\n",
       "      <td>199.0</td>\n",
       "      <td>27.0</td>\n",
       "      <td>76.0</td>\n",
       "      <td>500.0</td>\n",
       "      <td>434.0</td>\n",
       "      <td>525.0</td>\n",
       "      <td>125.0</td>\n",
       "      <td>86.0</td>\n",
       "      <td>38.0</td>\n",
       "      <td>39.0</td>\n",
       "      <td>1.0</td>\n",
       "      <td>0.0</td>\n",
       "      <td>3.0</td>\n",
       "    </tr>\n",
       "    <tr>\n",
       "      <th>2019-12-31 23:00:00</th>\n",
       "      <td>148.0</td>\n",
       "      <td>8.0</td>\n",
       "      <td>62.0</td>\n",
       "      <td>310.0</td>\n",
       "      <td>275.0</td>\n",
       "      <td>310.0</td>\n",
       "      <td>76.0</td>\n",
       "      <td>62.0</td>\n",
       "      <td>40.0</td>\n",
       "      <td>25.0</td>\n",
       "      <td>1.0</td>\n",
       "      <td>0.0</td>\n",
       "      <td>3.0</td>\n",
       "    </tr>\n",
       "  </tbody>\n",
       "</table>\n",
       "<p>10224 rows × 13 columns</p>\n",
       "</div>"
      ],
      "text/plain": [
       "                       FNS  Ohara    NWS     NS     WS    CEN     SS    SWS  \\\n",
       "StartTime                                                                     \n",
       "2018-11-01 00:00:00   70.0   15.0   20.0  174.0  134.0  141.0   48.0   25.0   \n",
       "2018-11-01 01:00:00   46.0    5.0    9.0  200.0   94.0  103.0   22.0   16.0   \n",
       "2018-11-01 02:00:00   38.0    1.0   11.0  122.0   67.0   74.0   13.0   16.0   \n",
       "2018-11-01 03:00:00   19.0    1.0   15.0   73.0   51.0   63.0    9.0   13.0   \n",
       "2018-11-01 04:00:00   27.0    0.0   12.0   50.0   50.0   49.0   18.0   22.0   \n",
       "...                    ...    ...    ...    ...    ...    ...    ...    ...   \n",
       "2019-12-31 19:00:00  253.0   30.0   79.0  600.0  491.0  637.0  109.0   69.0   \n",
       "2019-12-31 20:00:00  279.0   20.0   82.0  695.0  540.0  647.0  110.0  106.0   \n",
       "2019-12-31 21:00:00  255.0   23.0  121.0  610.0  513.0  669.0  115.0   75.0   \n",
       "2019-12-31 22:00:00  199.0   27.0   76.0  500.0  434.0  525.0  125.0   86.0   \n",
       "2019-12-31 23:00:00  148.0    8.0   62.0  310.0  275.0  310.0   76.0   62.0   \n",
       "\n",
       "                     FSWS  FSES  is_holiday  is_weekend  season  \n",
       "StartTime                                                        \n",
       "2018-11-01 00:00:00  17.0  12.0         0.0         0.0     2.0  \n",
       "2018-11-01 01:00:00  17.0   7.0         0.0         0.0     2.0  \n",
       "2018-11-01 02:00:00  13.0   8.0         0.0         0.0     2.0  \n",
       "2018-11-01 03:00:00  15.0   8.0         0.0         0.0     2.0  \n",
       "2018-11-01 04:00:00  13.0   6.0         0.0         0.0     2.0  \n",
       "...                   ...   ...         ...         ...     ...  \n",
       "2019-12-31 19:00:00  32.0  31.0         1.0         0.0     3.0  \n",
       "2019-12-31 20:00:00  47.0  42.0         1.0         0.0     3.0  \n",
       "2019-12-31 21:00:00  40.0  28.0         1.0         0.0     3.0  \n",
       "2019-12-31 22:00:00  38.0  39.0         1.0         0.0     3.0  \n",
       "2019-12-31 23:00:00  40.0  25.0         1.0         0.0     3.0  \n",
       "\n",
       "[10224 rows x 13 columns]"
      ]
     },
     "execution_count": 4,
     "metadata": {},
     "output_type": "execute_result"
    }
   ],
   "source": [
    "# concert dataframe to floats\n",
    "df_sides.astype(float)"
   ]
  },
  {
   "cell_type": "markdown",
   "metadata": {},
   "source": [
    "# Visualization of hourly pickups across sides"
   ]
  },
  {
   "cell_type": "code",
   "execution_count": 5,
   "metadata": {},
   "outputs": [],
   "source": [
    "def visualize(data, colnumber, start_val, end_val):\n",
    "    plt.figure(figsize=(10,5))\n",
    "    plt.plot(data.iloc[start_val:end_val, 3])"
   ]
  },
  {
   "cell_type": "code",
   "execution_count": 6,
   "metadata": {},
   "outputs": [
    {
     "data": {
      "image/png": "[encoded data removed]",
      "text/plain": [
       "<Figure size 720x360 with 1 Axes>"
      ]
     },
     "metadata": {
      "needs_background": "light"
     },
     "output_type": "display_data"
    }
   ],
   "source": [
    "visualize(df_sides, colnumber=1, start_val=168, end_val=340)"
   ]
  },
  {
   "cell_type": "markdown",
   "metadata": {},
   "source": [
    "# Time series check need for differencing"
   ]
  },
  {
   "cell_type": "code",
   "execution_count": 7,
   "metadata": {},
   "outputs": [],
   "source": [
    "from statsmodels.tsa.stattools import adfuller\n",
    "from statsmodels.graphics.tsaplots import plot_acf\n",
    "from statsmodels.graphics.tsaplots import plot_pacf\n",
    "import statsmodels.api as sm\n",
    "from statsmodels.tools.eval_measures import rmse\n",
    "from sklearn.metrics import mean_squared_error\n"
   ]
  },
  {
   "cell_type": "code",
   "execution_count": 8,
   "metadata": {},
   "outputs": [],
   "source": [
    "def get_stationarity(timeseries):\n",
    "    # rolling statistics\n",
    "    rolling_mean = timeseries.rolling(window=24).mean()\n",
    "    rolling_std = timeseries.rolling(window=24).std()\n",
    "    \n",
    "    # rolling statistics plot\n",
    "    fig, ax = plt.subplots(figsize=(15,5))\n",
    "    ax.plot(timeseries.index, timeseries, color=\"blue\", label=\"Original\")\n",
    "    ax.plot(rolling_mean, color=\"red\", label=\"Rolling Mean\")\n",
    "    ax.plot(rolling_std, color=\"black\", label=\"Rolling Std\")\n",
    "    ax.legend(loc=\"best\")\n",
    "    ax.set_title(\"Rolling Mean & Standard Deviation\")\n",
    "    \n",
    "    # Dickey-Fuller test:\n",
    "    result = adfuller(timeseries)\n",
    "    print(\"ADF Statistics: {}\".format(result[0]))\n",
    "    print(\"p-value: {}\".format(result[1]))\n",
    "    print(\"Critical Values:\")\n",
    "    for key, value in result[4].items():\n",
    "        print('\\t{}: {}'.format(key, value))"
   ]
  },
  {
   "cell_type": "code",
   "execution_count": 9,
   "metadata": {},
   "outputs": [
    {
     "name": "stdout",
     "output_type": "stream",
     "text": [
      "ADF Statistics: -13.509780547549296\n",
      "p-value: 2.8682906384087954e-25\n",
      "Critical Values:\n",
      "\t1%: -3.4309922139298674\n",
      "\t5%: -2.8618238209224707\n",
      "\t10%: -2.566921072734192\n"
     ]
    },
    {
     "data": {
      "image/png": "[encoded data removed]",
      "text/plain": [
       "<Figure size 1080x360 with 1 Axes>"
      ]
     },
     "metadata": {
      "needs_background": "light"
     },
     "output_type": "display_data"
    }
   ],
   "source": [
    "get_stationarity(df_sides.iloc[:, 3]) # ohara"
   ]
  },
  {
   "cell_type": "code",
   "execution_count": 10,
   "metadata": {
    "scrolled": true
   },
   "outputs": [
    {
     "data": {
      "image/png": "[encoded data removed]",
      "text/plain": [
       "<Figure size 432x288 with 1 Axes>"
      ]
     },
     "execution_count": 10,
     "metadata": {},
     "output_type": "execute_result"
    },
    {
     "data": {
      "image/png": "[encoded data removed]",
      "text/plain": [
       "<Figure size 432x288 with 1 Axes>"
      ]
     },
     "metadata": {
      "needs_background": "light"
     },
     "output_type": "display_data"
    },
    {
     "data": {
      "image/png": "[encoded data removed]",
      "text/plain": [
       "<Figure size 432x288 with 1 Axes>"
      ]
     },
     "metadata": {
      "needs_background": "light"
     },
     "output_type": "display_data"
    }
   ],
   "source": [
    "# get ACF and PACF plot\n",
    "plot_acf(df_sides.iloc[:, 3], alpha=0.01)\n",
    "plot_pacf(df_sides.iloc[:, 3], alpha=0.01)"
   ]
  },
  {
   "cell_type": "markdown",
   "metadata": {},
   "source": [
    "# Machine learning methods: XGBoost and LSTM"
   ]
  },
  {
   "cell_type": "code",
   "execution_count": 11,
   "metadata": {
    "scrolled": true
   },
   "outputs": [
    {
     "name": "stderr",
     "output_type": "stream",
     "text": [
      "Using TensorFlow backend.\n",
      "/Applications/anaconda3/lib/python3.7/site-packages/tensorflow/python/framework/dtypes.py:516: FutureWarning:\n",
      "\n",
      "Passing (type, 1) or '1type' as a synonym of type is deprecated; in a future version of numpy, it will be understood as (type, (1,)) / '(1,)type'.\n",
      "\n",
      "/Applications/anaconda3/lib/python3.7/site-packages/tensorflow/python/framework/dtypes.py:517: FutureWarning:\n",
      "\n",
      "Passing (type, 1) or '1type' as a synonym of type is deprecated; in a future version of numpy, it will be understood as (type, (1,)) / '(1,)type'.\n",
      "\n",
      "/Applications/anaconda3/lib/python3.7/site-packages/tensorflow/python/framework/dtypes.py:518: FutureWarning:\n",
      "\n",
      "Passing (type, 1) or '1type' as a synonym of type is deprecated; in a future version of numpy, it will be understood as (type, (1,)) / '(1,)type'.\n",
      "\n",
      "/Applications/anaconda3/lib/python3.7/site-packages/tensorflow/python/framework/dtypes.py:519: FutureWarning:\n",
      "\n",
      "Passing (type, 1) or '1type' as a synonym of type is deprecated; in a future version of numpy, it will be understood as (type, (1,)) / '(1,)type'.\n",
      "\n",
      "/Applications/anaconda3/lib/python3.7/site-packages/tensorflow/python/framework/dtypes.py:520: FutureWarning:\n",
      "\n",
      "Passing (type, 1) or '1type' as a synonym of type is deprecated; in a future version of numpy, it will be understood as (type, (1,)) / '(1,)type'.\n",
      "\n",
      "/Applications/anaconda3/lib/python3.7/site-packages/tensorflow/python/framework/dtypes.py:525: FutureWarning:\n",
      "\n",
      "Passing (type, 1) or '1type' as a synonym of type is deprecated; in a future version of numpy, it will be understood as (type, (1,)) / '(1,)type'.\n",
      "\n",
      "/Applications/anaconda3/lib/python3.7/site-packages/tensorboard/compat/tensorflow_stub/dtypes.py:541: FutureWarning:\n",
      "\n",
      "Passing (type, 1) or '1type' as a synonym of type is deprecated; in a future version of numpy, it will be understood as (type, (1,)) / '(1,)type'.\n",
      "\n",
      "/Applications/anaconda3/lib/python3.7/site-packages/tensorboard/compat/tensorflow_stub/dtypes.py:542: FutureWarning:\n",
      "\n",
      "Passing (type, 1) or '1type' as a synonym of type is deprecated; in a future version of numpy, it will be understood as (type, (1,)) / '(1,)type'.\n",
      "\n",
      "/Applications/anaconda3/lib/python3.7/site-packages/tensorboard/compat/tensorflow_stub/dtypes.py:543: FutureWarning:\n",
      "\n",
      "Passing (type, 1) or '1type' as a synonym of type is deprecated; in a future version of numpy, it will be understood as (type, (1,)) / '(1,)type'.\n",
      "\n",
      "/Applications/anaconda3/lib/python3.7/site-packages/tensorboard/compat/tensorflow_stub/dtypes.py:544: FutureWarning:\n",
      "\n",
      "Passing (type, 1) or '1type' as a synonym of type is deprecated; in a future version of numpy, it will be understood as (type, (1,)) / '(1,)type'.\n",
      "\n",
      "/Applications/anaconda3/lib/python3.7/site-packages/tensorboard/compat/tensorflow_stub/dtypes.py:545: FutureWarning:\n",
      "\n",
      "Passing (type, 1) or '1type' as a synonym of type is deprecated; in a future version of numpy, it will be understood as (type, (1,)) / '(1,)type'.\n",
      "\n",
      "/Applications/anaconda3/lib/python3.7/site-packages/tensorboard/compat/tensorflow_stub/dtypes.py:550: FutureWarning:\n",
      "\n",
      "Passing (type, 1) or '1type' as a synonym of type is deprecated; in a future version of numpy, it will be understood as (type, (1,)) / '(1,)type'.\n",
      "\n"
     ]
    }
   ],
   "source": [
    "from sklearn.preprocessing import MinMaxScaler\n",
    "from sklearn.metrics import mean_squared_error\n",
    "from sklearn.metrics import mean_absolute_error\n",
    "from keras.models import Sequential\n",
    "from keras.layers import Dense\n",
    "from keras.layers import LSTM\n",
    "from keras.layers import Dropout\n",
    "from math import sqrt"
   ]
  },
  {
   "cell_type": "markdown",
   "metadata": {},
   "source": [
    "# Baseline model"
   ]
  },
  {
   "cell_type": "markdown",
   "metadata": {},
   "source": [
    "This model serves as a baseline performance to which ARIMA, Holt-Winters, MLP, (XGBoost)?, and LSTM are compared to.\n",
    "\n",
    "Gives idea of how well your models perform on the problem at hand.\n",
    "\n",
    "Baseline has the following elements:\n",
    "- dataset\n",
    "- resampling technique used to estimate performance (e.g. train, test split)\n",
    "- Performance measure to evaluate forecast\n",
    "\n",
    "The persistence algorithm: use value at time (t) to predict (t+1)"
   ]
  },
  {
   "cell_type": "markdown",
   "metadata": {},
   "source": [
    "Step 1: supervised learning problem"
   ]
  },
  {
   "cell_type": "code",
   "execution_count": 12,
   "metadata": {},
   "outputs": [],
   "source": [
    "df_baseline = df_sides.iloc[:, 5]"
   ]
  },
  {
   "cell_type": "code",
   "execution_count": 13,
   "metadata": {},
   "outputs": [],
   "source": [
    "# shift time series \n",
    "def shift_ts(df_ts):\n",
    "    df_ts = pd.DataFrame(df_ts)\n",
    "    df_ts[\"input\"] = df_ts.shift(1)\n",
    "    df_ts.fillna(0, inplace=True)\n",
    "    return df_ts\n",
    "\n",
    "df_baseline = shift_ts(df_baseline)"
   ]
  },
  {
   "cell_type": "markdown",
   "metadata": {},
   "source": [
    "Step 2: train and test sets"
   ]
  },
  {
   "cell_type": "code",
   "execution_count": 14,
   "metadata": {},
   "outputs": [
    {
     "name": "stdout",
     "output_type": "stream",
     "text": [
      "(8179, 1) (2045, 1) (8179, 1) (2045, 1)\n"
     ]
    }
   ],
   "source": [
    "def split_baseline_data(data):\n",
    "    # set fractions\n",
    "    train_size = int(len(data) * 0.8)\n",
    "    test_size = len(data) - train_size\n",
    "    \n",
    "    # split data into train and test sets\n",
    "    train = data[0:train_size]\n",
    "    test = data[train_size:]\n",
    "    \n",
    "    # split train and test further into x_train, y_train, x_test, y_test\n",
    "    x_train = train.iloc[:, 1]\n",
    "    x_test = test.iloc[:, 1]\n",
    "\n",
    "    y_train = train.iloc[:, 0]\n",
    "    y_test = test.iloc[:, 0]\n",
    "    \n",
    "    # convert into numpy arrays\n",
    "    x_train = x_train.to_numpy()\n",
    "    x_test = x_test.to_numpy()\n",
    "    y_train = y_train.to_numpy()\n",
    "    y_test = y_test.to_numpy()\n",
    "    \n",
    "    # reshape to make numpy arrays into 2D\n",
    "    x_train = x_train.reshape(-1,1)\n",
    "    x_test = x_test.reshape(-1,1)\n",
    "    y_train = y_train.reshape(-1,1)\n",
    "    y_test = y_test.reshape(-1,1)\n",
    "    \n",
    "    return train, test, x_train, x_test, y_train, y_test\n",
    "\n",
    "train, test, x_train, x_test, y_train, y_test = split_baseline_data(df_baseline)\n",
    "\n",
    "print(x_train.shape, x_test.shape, y_train.shape, y_test.shape)"
   ]
  },
  {
   "cell_type": "markdown",
   "metadata": {},
   "source": [
    "Step 3: persistence algorithm"
   ]
  },
  {
   "cell_type": "code",
   "execution_count": 15,
   "metadata": {},
   "outputs": [],
   "source": [
    "def model_persistence(x):\n",
    "    return x"
   ]
  },
  {
   "cell_type": "markdown",
   "metadata": {},
   "source": [
    "Step 4: make and evaluate forecast"
   ]
  },
  {
   "cell_type": "code",
   "execution_count": 16,
   "metadata": {},
   "outputs": [
    {
     "name": "stdout",
     "output_type": "stream",
     "text": [
      "Test MSE: 7440.330\n",
      "Test RMSE:  86.25734510377698\n"
     ]
    },
    {
     "data": {
      "text/plain": [
       "[<matplotlib.lines.Line2D at 0x13c0a7550>]"
      ]
     },
     "execution_count": 16,
     "metadata": {},
     "output_type": "execute_result"
    },
    {
     "data": {
      "image/png": "[encoded data removed]",
      "text/plain": [
       "<Figure size 432x288 with 1 Axes>"
      ]
     },
     "metadata": {
      "needs_background": "light"
     },
     "output_type": "display_data"
    }
   ],
   "source": [
    "# walk-forward validation\n",
    "predictions = list()\n",
    "for x in x_test:\n",
    "    yhat = model_persistence(x)\n",
    "    predictions.append(yhat)\n",
    "test_score = mean_squared_error(y_test, predictions)\n",
    "rmse_error = np.sqrt(test_score)\n",
    "\n",
    "print('Test MSE: %.3f' % test_score)\n",
    "print(\"Test RMSE: \", rmse_error)\n",
    "\n",
    "plt.plot(y_test[500:525])\n",
    "plt.plot(predictions[500:525])"
   ]
  },
  {
   "cell_type": "code",
   "execution_count": 17,
   "metadata": {},
   "outputs": [],
   "source": [
    "def lstm_every_side(data):\n",
    "    for column in df_sides:\n",
    "        function1\n",
    "        function2"
   ]
  },
  {
   "cell_type": "markdown",
   "metadata": {},
   "source": [
    "# LSTM only past values as input"
   ]
  },
  {
   "cell_type": "markdown",
   "metadata": {},
   "source": [
    "This section is broken down into three steps:\n",
    "\n",
    "- Transform the time series into a supervised learning problem\n",
    "- Transform the time series data so that it is stationary.\n",
    "- Transform the observations to have a specific scale."
   ]
  },
  {
   "cell_type": "code",
   "execution_count": 18,
   "metadata": {},
   "outputs": [],
   "source": [
    "df_ohara = df_sides.iloc[:, 0]"
   ]
  },
  {
   "cell_type": "code",
   "execution_count": 19,
   "metadata": {},
   "outputs": [
    {
     "name": "stdout",
     "output_type": "stream",
     "text": [
      "(10223, 1)\n"
     ]
    }
   ],
   "source": [
    "# create a differenced series\n",
    "def difference(dataset, interval=1):\n",
    "\tdiff = list()\n",
    "\tfor i in range(interval, len(dataset)):\n",
    "\t\tvalue = dataset[i] - dataset[i - interval]\n",
    "\t\tdiff.append(value)\n",
    "\treturn diff\n",
    "\n",
    "# invert differenced value\n",
    "def inverse_difference(history, yhat, interval=1):\n",
    "\treturn yhat + history[-interval]\n",
    "\n",
    "diff_values = pd.DataFrame(difference(df_ohara, 1))\n",
    "print(diff_values.shape)"
   ]
  },
  {
   "cell_type": "code",
   "execution_count": 20,
   "metadata": {},
   "outputs": [],
   "source": [
    "# specify number of lag hours\n",
    "n_hours = 1\n",
    "n_features = 1\n",
    "n_obs = n_hours * n_features\n",
    "\n",
    "def ts_supervised(data, n_in=1, n_out=1, dropnan=True):\n",
    "    n_vars = 1 if type(data) is list else data.shape[1]\n",
    "    df = pd.DataFrame(data)\n",
    "    cols, names = list(), list()\n",
    "    # input sequence (t-n, ... t-1)\n",
    "    for i in range(n_in, 0, -1):\n",
    "        cols.append(df.shift(i))\n",
    "        names += [('var%d(t-%d)' % (j+1, i)) for j in range(n_vars)]\n",
    "    # forecast sequence (t, t+1, ... t+n)\n",
    "    for i in range(0, n_out):\n",
    "        cols.append(df.shift(-i))\n",
    "        if i == 0:\n",
    "            names += [('var%d(t)' % (j+1)) for j in range(n_vars)]\n",
    "        else:\n",
    "            names += [('var%d(t+%d)' % (j+1, i)) for j in range(n_vars)]\n",
    "    # put it all together\n",
    "    agg = pd.concat(cols, axis=1)\n",
    "    agg.columns = names\n",
    "    # drop rows with NaN values\n",
    "    if dropnan:\n",
    "        agg.dropna(inplace=True)\n",
    "    return agg\n",
    "\n",
    "supervised = ts_supervised(diff_values, n_hours)"
   ]
  },
  {
   "cell_type": "code",
   "execution_count": 21,
   "metadata": {},
   "outputs": [
    {
     "name": "stdout",
     "output_type": "stream",
     "text": [
      "(8177, 2) (2045, 2) (8177, 1) (2045, 1) (8177, 1) (2045, 1)\n"
     ]
    }
   ],
   "source": [
    "def split_data(data):\n",
    "    # set fractions\n",
    "    train_size = int(len(data) * 0.8)\n",
    "    test_size = len(data) - train_size\n",
    "    \n",
    "    # split data into train and test sets\n",
    "    train = data[0:train_size]\n",
    "    test = data[train_size:]\n",
    "    \n",
    "    # split train and test further into x_train, y_train, x_test, y_test\n",
    "    # when using multiple time steps\n",
    "    x_train = train.iloc[:, :n_obs]\n",
    "    x_test = test.iloc[:, :n_obs]\n",
    "    \n",
    "    # y_train = train.iloc[:, -n_features]\n",
    "    # y_test = test.iloc[:, -n_features]\n",
    "    \n",
    "    y_train = train.iloc[:, -1]\n",
    "    y_test = test.iloc[:, -1]\n",
    "    \n",
    "    # when using 1 time step\n",
    "    # x_train = train.iloc[:, 0:4] # input for training set\n",
    "    # x_test = test.iloc[:, 0:4] # input for test set\n",
    "\n",
    "    # y_train = train.iloc[:, 4] # output for training set\n",
    "    # y_test = test.iloc[:, 4] # output for test set\n",
    "    \n",
    "    # convert into numpy arrays\n",
    "    x_train = x_train.to_numpy()\n",
    "    x_test = x_test.to_numpy()\n",
    "    y_train = y_train.to_numpy()\n",
    "    y_test = y_test.to_numpy()\n",
    "    \n",
    "    # reshape to make numpy arrays into 2D\n",
    "    x_train = x_train.reshape(-1,1)\n",
    "    x_test = x_test.reshape(-1,1)\n",
    "    y_train = y_train.reshape(-1,1)\n",
    "    y_test = y_test.reshape(-1,1)\n",
    "    \n",
    "    return train, test, x_train, x_test, y_train, y_test\n",
    "\n",
    "train, test, x_train, x_test, y_train, y_test = split_data(supervised)\n",
    "print(train.shape, test.shape, x_train.shape, x_test.shape, y_train.shape, y_test.shape)\n"
   ]
  },
  {
   "cell_type": "code",
   "execution_count": 22,
   "metadata": {},
   "outputs": [
    {
     "name": "stdout",
     "output_type": "stream",
     "text": [
      "(8177, 1, 1) (2045, 1, 1) (8177, 1) (2045, 1)\n"
     ]
    }
   ],
   "source": [
    "def scale(x_train, x_test, y_train, y_test):\n",
    "    # fit scaler\n",
    "    scaler = MinMaxScaler(feature_range=(-1,1))\n",
    "    scaler = scaler.fit(x_train)\n",
    "    \n",
    "    x_train_scaled = scaler.transform(x_train)\n",
    "    x_test_scaled = scaler.transform(x_test)\n",
    "    y_train_scaled = scaler.transform(y_train)\n",
    "    y_test_scaled = scaler.transform(y_test)\n",
    "    \n",
    "    x_train_scaled = np.reshape(x_train_scaled, (x_train_scaled.shape[0], n_hours, n_features))\n",
    "    x_test_scaled = np.reshape(x_test_scaled, (x_test_scaled.shape[0], n_hours, n_features))\n",
    "    \n",
    "    return scaler, x_train_scaled, x_test_scaled, y_train_scaled, y_test_scaled\n",
    "\n",
    "scaler, x_train_scaled, x_test_scaled, y_train_scaled, y_test_scaled = scale(x_train, x_test, y_train, y_test)\n",
    "print(x_train_scaled.shape, x_test_scaled.shape, y_train_scaled.shape, y_test_scaled.shape)"
   ]
  },
  {
   "cell_type": "code",
   "execution_count": 23,
   "metadata": {},
   "outputs": [],
   "source": [
    "def fit_lstm(x_train_scaled, y_train_scaled, batch, ep, neurons_lstm, neuron_dense):\n",
    "    model = Sequential()\n",
    "    model.add(LSTM(units=neurons_lstm, input_shape=(x_train_scaled.shape[1], x_train_scaled.shape[2])))\n",
    "    model.add(Dropout(rate=0.2))\n",
    "    model.add(Dense(units=neuron_dense))\n",
    "    model.compile(loss=\"mean_squared_error\", \n",
    "                  optimizer=\"adam\",\n",
    "                 )\n",
    "    \n",
    "    history = model.fit(x_train_scaled, \n",
    "                        y_train_scaled, \n",
    "                        epochs=ep, \n",
    "                        batch_size=batch, \n",
    "                        validation_split=0.1, \n",
    "                        verbose=0, \n",
    "                        shuffle=False)\n",
    "    return model, history"
   ]
  },
  {
   "cell_type": "code",
   "execution_count": 24,
   "metadata": {
    "scrolled": true
   },
   "outputs": [
    {
     "name": "stdout",
     "output_type": "stream",
     "text": [
      "WARNING:tensorflow:From /Applications/anaconda3/lib/python3.7/site-packages/keras/backend/tensorflow_backend.py:422: The name tf.global_variables is deprecated. Please use tf.compat.v1.global_variables instead.\n",
      "\n"
     ]
    }
   ],
   "source": [
    "model, history = fit_lstm(x_train_scaled, \n",
    "                          y_train_scaled, \n",
    "                          batch=100, ep=50, \n",
    "                          neurons_lstm=5, \n",
    "                          neuron_dense=1)"
   ]
  },
  {
   "cell_type": "code",
   "execution_count": 25,
   "metadata": {},
   "outputs": [
    {
     "data": {
      "text/plain": [
       "dict_keys(['val_loss', 'loss'])"
      ]
     },
     "execution_count": 25,
     "metadata": {},
     "output_type": "execute_result"
    }
   ],
   "source": [
    "history.history.keys()"
   ]
  },
  {
   "cell_type": "code",
   "execution_count": 26,
   "metadata": {
    "scrolled": true
   },
   "outputs": [
    {
     "data": {
      "text/plain": [
       "Text(0, 0.5, 'Loss')"
      ]
     },
     "execution_count": 26,
     "metadata": {},
     "output_type": "execute_result"
    },
    {
     "data": {
      "image/png": "[encoded data removed]",
      "text/plain": [
       "<Figure size 432x288 with 1 Axes>"
      ]
     },
     "metadata": {
      "needs_background": "light"
     },
     "output_type": "display_data"
    }
   ],
   "source": [
    "#Evaluate Network\n",
    "plt.plot(history.history[\"loss\"], label=\"train\")\n",
    "plt.plot(history.history[\"val_loss\"], label=\"validation\")\n",
    "plt.legend()\n",
    "plt.xlabel(\"Epochs\")\n",
    "plt.ylabel(\"Loss\")"
   ]
  },
  {
   "cell_type": "code",
   "execution_count": 27,
   "metadata": {},
   "outputs": [],
   "source": [
    "def predictions_lstm(x_test_scaled, y_test):\n",
    "    # get predictions\n",
    "    test_pred = model.predict(x_test_scaled)\n",
    "    \n",
    "    # reverse transform predictions\n",
    "    test_pred_inv = scaler.inverse_transform(test_pred)\n",
    "    \n",
    "    # reverse differencing predictions\n",
    "    inverted_pred = list()\n",
    "    for i in range(len(test_pred_inv)):\n",
    "        value = inverse_difference(df_ohara, test_pred_inv[i], len(test_pred_inv)-i)\n",
    "        inverted_pred.append(value)\n",
    "    inverted_pred = pd.DataFrame(inverted_pred)\n",
    "    \n",
    "    # reverse differencing y_test\n",
    "    inverted_ytest = list()\n",
    "    for i in range(len(y_test)):\n",
    "        value = inverse_difference(df_ohara, y_test[i], len(y_test)+1-i)\n",
    "        inverted_ytest.append(value)\n",
    "    inverted_ytest = pd.DataFrame(inverted_ytest)\n",
    "    \n",
    "    # create single dataframe with predictions (1) and expected values (2)\n",
    "    predictions = np.concatenate((inverted_pred, inverted_ytest), axis=1)\n",
    "    predictions = pd.DataFrame(predictions)\n",
    "    \n",
    "    return test_pred, test_pred_inv, predictions\n",
    "\n"
   ]
  },
  {
   "cell_type": "code",
   "execution_count": 28,
   "metadata": {},
   "outputs": [
    {
     "name": "stdout",
     "output_type": "stream",
     "text": [
      "(2045, 1) (2045, 1) (2045, 2)\n"
     ]
    }
   ],
   "source": [
    "test_pred, test_pred_inv, predictions = predictions_lstm(x_test_scaled, y_test)\n",
    "\n",
    "print(test_pred.shape, test_pred_inv.shape, predictions.shape)"
   ]
  },
  {
   "cell_type": "code",
   "execution_count": 29,
   "metadata": {},
   "outputs": [],
   "source": [
    "def evaluate_lstm(predictions, start_val, end_val):\n",
    "    # print RMSE\n",
    "    rmse = np.sqrt(mean_squared_error(predictions[0], predictions[1]))\n",
    "    mse_error = rmse**2\n",
    "    mean_value = predictions.iloc[:,1].mean()\n",
    "    print(\"Pred MSE:\", mse_error)\n",
    "    print('Pred RMSE: %.3f' % rmse)\n",
    "    print(\"Test mean value:\", mean_value)\n",
    "    \n",
    "    \n",
    "    # print min max values of predictions and actual values.\n",
    "    print(\"Min. value pred:\", predictions[0].min())\n",
    "    print(\"Max. value pred:\", predictions[0].max())\n",
    "\n",
    "    print(\"Min. value test:\", predictions[1].min())\n",
    "    print(\"Max. value test:\", predictions[1].max())\n",
    "    \n",
    "    # plot predictions vs actual values\n",
    "    plt.plot(predictions.iloc[start_val:end_val, 0])\n",
    "    plt.plot(predictions.iloc[start_val:end_val, 1])\n",
    "    \n",
    "    return rmse"
   ]
  },
  {
   "cell_type": "code",
   "execution_count": 30,
   "metadata": {},
   "outputs": [
    {
     "name": "stdout",
     "output_type": "stream",
     "text": [
      "Pred MSE: 10.70053681564376\n",
      "Pred RMSE: 3.271\n",
      "Test mean value: 100.10268948655256\n",
      "Min. value pred: 4.0103607177734375\n",
      "Max. value pred: 308.2343444824219\n",
      "Min. value test: 9.0\n",
      "Max. value test: 306.0\n"
     ]
    },
    {
     "data": {
      "text/plain": [
       "3.2711675003955025"
      ]
     },
     "execution_count": 30,
     "metadata": {},
     "output_type": "execute_result"
    },
    {
     "data": {
      "image/png": "[encoded data removed]",
      "text/plain": [
       "<Figure size 432x288 with 1 Axes>"
      ]
     },
     "metadata": {
      "needs_background": "light"
     },
     "output_type": "display_data"
    }
   ],
   "source": [
    "evaluate_lstm(predictions, start_val=100, end_val=110)"
   ]
  },
  {
   "cell_type": "markdown",
   "metadata": {},
   "source": [
    "# LSTM Multivariate demand prediction with weather data"
   ]
  },
  {
   "cell_type": "markdown",
   "metadata": {},
   "source": [
    "We should add the weather data to the dataset. In other words, we are making a multivariate time series."
   ]
  },
  {
   "cell_type": "code",
   "execution_count": 31,
   "metadata": {},
   "outputs": [],
   "source": [
    "# Import hourly weather data\n",
    "\n",
    "weather = pd.read_csv(\"Chicago Ohare hourly weather relevant data.csv\")\n",
    "weather[\"Date\"] = pd.to_datetime(weather[\"Date\"])\n",
    "weather.drop(\"WeatherType\", axis=1, inplace=True)\n",
    "weather[\"Temperature\"] = weather[\"Temperature\"].astype(\"float32\")\n",
    "weather.set_index(\"Date\", inplace=True)"
   ]
  },
  {
   "cell_type": "code",
   "execution_count": 32,
   "metadata": {},
   "outputs": [
    {
     "data": {
      "text/html": [
       "<div>\n",
       "<style scoped>\n",
       "    .dataframe tbody tr th:only-of-type {\n",
       "        vertical-align: middle;\n",
       "    }\n",
       "\n",
       "    .dataframe tbody tr th {\n",
       "        vertical-align: top;\n",
       "    }\n",
       "\n",
       "    .dataframe thead th {\n",
       "        text-align: right;\n",
       "    }\n",
       "</style>\n",
       "<table border=\"1\" class=\"dataframe\">\n",
       "  <thead>\n",
       "    <tr style=\"text-align: right;\">\n",
       "      <th></th>\n",
       "      <th>Precipitation</th>\n",
       "      <th>WindSpeed</th>\n",
       "      <th>Temperature</th>\n",
       "    </tr>\n",
       "    <tr>\n",
       "      <th>Date</th>\n",
       "      <th></th>\n",
       "      <th></th>\n",
       "      <th></th>\n",
       "    </tr>\n",
       "  </thead>\n",
       "  <tbody>\n",
       "    <tr>\n",
       "      <th>2018-11-01 00:00:00</th>\n",
       "      <td>0.0</td>\n",
       "      <td>9.66</td>\n",
       "      <td>9.0</td>\n",
       "    </tr>\n",
       "    <tr>\n",
       "      <th>2018-11-01 01:00:00</th>\n",
       "      <td>0.0</td>\n",
       "      <td>9.66</td>\n",
       "      <td>9.0</td>\n",
       "    </tr>\n",
       "    <tr>\n",
       "      <th>2018-11-01 02:00:00</th>\n",
       "      <td>0.0</td>\n",
       "      <td>9.66</td>\n",
       "      <td>9.0</td>\n",
       "    </tr>\n",
       "    <tr>\n",
       "      <th>2018-11-01 03:00:00</th>\n",
       "      <td>0.0</td>\n",
       "      <td>12.88</td>\n",
       "      <td>9.0</td>\n",
       "    </tr>\n",
       "    <tr>\n",
       "      <th>2018-11-01 04:00:00</th>\n",
       "      <td>0.0</td>\n",
       "      <td>16.10</td>\n",
       "      <td>9.0</td>\n",
       "    </tr>\n",
       "  </tbody>\n",
       "</table>\n",
       "</div>"
      ],
      "text/plain": [
       "                     Precipitation  WindSpeed  Temperature\n",
       "Date                                                      \n",
       "2018-11-01 00:00:00            0.0       9.66          9.0\n",
       "2018-11-01 01:00:00            0.0       9.66          9.0\n",
       "2018-11-01 02:00:00            0.0       9.66          9.0\n",
       "2018-11-01 03:00:00            0.0      12.88          9.0\n",
       "2018-11-01 04:00:00            0.0      16.10          9.0"
      ]
     },
     "execution_count": 32,
     "metadata": {},
     "output_type": "execute_result"
    }
   ],
   "source": [
    "weather.head()"
   ]
  },
  {
   "cell_type": "code",
   "execution_count": 33,
   "metadata": {},
   "outputs": [
    {
     "data": {
      "text/html": [
       "<div>\n",
       "<style scoped>\n",
       "    .dataframe tbody tr th:only-of-type {\n",
       "        vertical-align: middle;\n",
       "    }\n",
       "\n",
       "    .dataframe tbody tr th {\n",
       "        vertical-align: top;\n",
       "    }\n",
       "\n",
       "    .dataframe thead th {\n",
       "        text-align: right;\n",
       "    }\n",
       "</style>\n",
       "<table border=\"1\" class=\"dataframe\">\n",
       "  <thead>\n",
       "    <tr style=\"text-align: right;\">\n",
       "      <th></th>\n",
       "      <th>NS</th>\n",
       "      <th>is_holiday</th>\n",
       "      <th>is_weekend</th>\n",
       "      <th>season</th>\n",
       "    </tr>\n",
       "    <tr>\n",
       "      <th>StartTime</th>\n",
       "      <th></th>\n",
       "      <th></th>\n",
       "      <th></th>\n",
       "      <th></th>\n",
       "    </tr>\n",
       "  </thead>\n",
       "  <tbody>\n",
       "    <tr>\n",
       "      <th>2018-11-01 00:00:00</th>\n",
       "      <td>174</td>\n",
       "      <td>0</td>\n",
       "      <td>0</td>\n",
       "      <td>2</td>\n",
       "    </tr>\n",
       "    <tr>\n",
       "      <th>2018-11-01 01:00:00</th>\n",
       "      <td>200</td>\n",
       "      <td>0</td>\n",
       "      <td>0</td>\n",
       "      <td>2</td>\n",
       "    </tr>\n",
       "    <tr>\n",
       "      <th>2018-11-01 02:00:00</th>\n",
       "      <td>122</td>\n",
       "      <td>0</td>\n",
       "      <td>0</td>\n",
       "      <td>2</td>\n",
       "    </tr>\n",
       "    <tr>\n",
       "      <th>2018-11-01 03:00:00</th>\n",
       "      <td>73</td>\n",
       "      <td>0</td>\n",
       "      <td>0</td>\n",
       "      <td>2</td>\n",
       "    </tr>\n",
       "    <tr>\n",
       "      <th>2018-11-01 04:00:00</th>\n",
       "      <td>50</td>\n",
       "      <td>0</td>\n",
       "      <td>0</td>\n",
       "      <td>2</td>\n",
       "    </tr>\n",
       "  </tbody>\n",
       "</table>\n",
       "</div>"
      ],
      "text/plain": [
       "                      NS  is_holiday  is_weekend  season\n",
       "StartTime                                               \n",
       "2018-11-01 00:00:00  174           0           0       2\n",
       "2018-11-01 01:00:00  200           0           0       2\n",
       "2018-11-01 02:00:00  122           0           0       2\n",
       "2018-11-01 03:00:00   73           0           0       2\n",
       "2018-11-01 04:00:00   50           0           0       2"
      ]
     },
     "execution_count": 33,
     "metadata": {},
     "output_type": "execute_result"
    }
   ],
   "source": [
    "df_ohara = pd.DataFrame(df_sides[[\"NS\", \"is_holiday\", \"is_weekend\", \"season\"]])\n",
    "df_ohara.head()"
   ]
  },
  {
   "cell_type": "code",
   "execution_count": 34,
   "metadata": {},
   "outputs": [
    {
     "data": {
      "text/html": [
       "<div>\n",
       "<style scoped>\n",
       "    .dataframe tbody tr th:only-of-type {\n",
       "        vertical-align: middle;\n",
       "    }\n",
       "\n",
       "    .dataframe tbody tr th {\n",
       "        vertical-align: top;\n",
       "    }\n",
       "\n",
       "    .dataframe thead th {\n",
       "        text-align: right;\n",
       "    }\n",
       "</style>\n",
       "<table border=\"1\" class=\"dataframe\">\n",
       "  <thead>\n",
       "    <tr style=\"text-align: right;\">\n",
       "      <th></th>\n",
       "      <th>NS</th>\n",
       "      <th>is_holiday</th>\n",
       "      <th>is_weekend</th>\n",
       "      <th>season</th>\n",
       "      <th>Precipitation</th>\n",
       "      <th>WindSpeed</th>\n",
       "      <th>Temperature</th>\n",
       "    </tr>\n",
       "    <tr>\n",
       "      <th>StartTime</th>\n",
       "      <th></th>\n",
       "      <th></th>\n",
       "      <th></th>\n",
       "      <th></th>\n",
       "      <th></th>\n",
       "      <th></th>\n",
       "      <th></th>\n",
       "    </tr>\n",
       "  </thead>\n",
       "  <tbody>\n",
       "    <tr>\n",
       "      <th>2018-11-01 00:00:00</th>\n",
       "      <td>174</td>\n",
       "      <td>0</td>\n",
       "      <td>0</td>\n",
       "      <td>2</td>\n",
       "      <td>0.0</td>\n",
       "      <td>9.66</td>\n",
       "      <td>9.0</td>\n",
       "    </tr>\n",
       "    <tr>\n",
       "      <th>2018-11-01 01:00:00</th>\n",
       "      <td>200</td>\n",
       "      <td>0</td>\n",
       "      <td>0</td>\n",
       "      <td>2</td>\n",
       "      <td>0.0</td>\n",
       "      <td>9.66</td>\n",
       "      <td>9.0</td>\n",
       "    </tr>\n",
       "    <tr>\n",
       "      <th>2018-11-01 02:00:00</th>\n",
       "      <td>122</td>\n",
       "      <td>0</td>\n",
       "      <td>0</td>\n",
       "      <td>2</td>\n",
       "      <td>0.0</td>\n",
       "      <td>9.66</td>\n",
       "      <td>9.0</td>\n",
       "    </tr>\n",
       "    <tr>\n",
       "      <th>2018-11-01 03:00:00</th>\n",
       "      <td>73</td>\n",
       "      <td>0</td>\n",
       "      <td>0</td>\n",
       "      <td>2</td>\n",
       "      <td>0.0</td>\n",
       "      <td>12.88</td>\n",
       "      <td>9.0</td>\n",
       "    </tr>\n",
       "    <tr>\n",
       "      <th>2018-11-01 04:00:00</th>\n",
       "      <td>50</td>\n",
       "      <td>0</td>\n",
       "      <td>0</td>\n",
       "      <td>2</td>\n",
       "      <td>0.0</td>\n",
       "      <td>16.10</td>\n",
       "      <td>9.0</td>\n",
       "    </tr>\n",
       "  </tbody>\n",
       "</table>\n",
       "</div>"
      ],
      "text/plain": [
       "                      NS  is_holiday  is_weekend  season  Precipitation  \\\n",
       "StartTime                                                                 \n",
       "2018-11-01 00:00:00  174           0           0       2            0.0   \n",
       "2018-11-01 01:00:00  200           0           0       2            0.0   \n",
       "2018-11-01 02:00:00  122           0           0       2            0.0   \n",
       "2018-11-01 03:00:00   73           0           0       2            0.0   \n",
       "2018-11-01 04:00:00   50           0           0       2            0.0   \n",
       "\n",
       "                     WindSpeed  Temperature  \n",
       "StartTime                                    \n",
       "2018-11-01 00:00:00       9.66          9.0  \n",
       "2018-11-01 01:00:00       9.66          9.0  \n",
       "2018-11-01 02:00:00       9.66          9.0  \n",
       "2018-11-01 03:00:00      12.88          9.0  \n",
       "2018-11-01 04:00:00      16.10          9.0  "
      ]
     },
     "execution_count": 34,
     "metadata": {},
     "output_type": "execute_result"
    }
   ],
   "source": [
    "df_lstm = df_ohara.merge(weather, how=\"left\", left_index=True, right_index=True)\n",
    "df_lstm.astype(\"float32\")\n",
    "df_lstm.head()"
   ]
  },
  {
   "cell_type": "code",
   "execution_count": 35,
   "metadata": {},
   "outputs": [],
   "source": [
    "df_weather = df_lstm.iloc[:,0]"
   ]
  },
  {
   "cell_type": "code",
   "execution_count": 36,
   "metadata": {},
   "outputs": [
    {
     "data": {
      "text/html": [
       "<div>\n",
       "<style scoped>\n",
       "    .dataframe tbody tr th:only-of-type {\n",
       "        vertical-align: middle;\n",
       "    }\n",
       "\n",
       "    .dataframe tbody tr th {\n",
       "        vertical-align: top;\n",
       "    }\n",
       "\n",
       "    .dataframe thead th {\n",
       "        text-align: right;\n",
       "    }\n",
       "</style>\n",
       "<table border=\"1\" class=\"dataframe\">\n",
       "  <thead>\n",
       "    <tr style=\"text-align: right;\">\n",
       "      <th></th>\n",
       "      <th>NS</th>\n",
       "      <th>Precipitation</th>\n",
       "      <th>WindSpeed</th>\n",
       "      <th>Temperature</th>\n",
       "    </tr>\n",
       "    <tr>\n",
       "      <th>StartTime</th>\n",
       "      <th></th>\n",
       "      <th></th>\n",
       "      <th></th>\n",
       "      <th></th>\n",
       "    </tr>\n",
       "  </thead>\n",
       "  <tbody>\n",
       "    <tr>\n",
       "      <th>2018-11-01 00:00:00</th>\n",
       "      <td>174</td>\n",
       "      <td>0.0</td>\n",
       "      <td>9.66</td>\n",
       "      <td>9.0</td>\n",
       "    </tr>\n",
       "    <tr>\n",
       "      <th>2018-11-01 01:00:00</th>\n",
       "      <td>200</td>\n",
       "      <td>0.0</td>\n",
       "      <td>9.66</td>\n",
       "      <td>9.0</td>\n",
       "    </tr>\n",
       "    <tr>\n",
       "      <th>2018-11-01 02:00:00</th>\n",
       "      <td>122</td>\n",
       "      <td>0.0</td>\n",
       "      <td>9.66</td>\n",
       "      <td>9.0</td>\n",
       "    </tr>\n",
       "    <tr>\n",
       "      <th>2018-11-01 03:00:00</th>\n",
       "      <td>73</td>\n",
       "      <td>0.0</td>\n",
       "      <td>12.88</td>\n",
       "      <td>9.0</td>\n",
       "    </tr>\n",
       "    <tr>\n",
       "      <th>2018-11-01 04:00:00</th>\n",
       "      <td>50</td>\n",
       "      <td>0.0</td>\n",
       "      <td>16.10</td>\n",
       "      <td>9.0</td>\n",
       "    </tr>\n",
       "    <tr>\n",
       "      <th>...</th>\n",
       "      <td>...</td>\n",
       "      <td>...</td>\n",
       "      <td>...</td>\n",
       "      <td>...</td>\n",
       "    </tr>\n",
       "    <tr>\n",
       "      <th>2019-12-31 19:00:00</th>\n",
       "      <td>600</td>\n",
       "      <td>0.0</td>\n",
       "      <td>24.15</td>\n",
       "      <td>-2.0</td>\n",
       "    </tr>\n",
       "    <tr>\n",
       "      <th>2019-12-31 20:00:00</th>\n",
       "      <td>695</td>\n",
       "      <td>0.0</td>\n",
       "      <td>24.15</td>\n",
       "      <td>-2.0</td>\n",
       "    </tr>\n",
       "    <tr>\n",
       "      <th>2019-12-31 21:00:00</th>\n",
       "      <td>610</td>\n",
       "      <td>0.0</td>\n",
       "      <td>17.71</td>\n",
       "      <td>-3.0</td>\n",
       "    </tr>\n",
       "    <tr>\n",
       "      <th>2019-12-31 22:00:00</th>\n",
       "      <td>500</td>\n",
       "      <td>0.0</td>\n",
       "      <td>12.88</td>\n",
       "      <td>-3.0</td>\n",
       "    </tr>\n",
       "    <tr>\n",
       "      <th>2019-12-31 23:00:00</th>\n",
       "      <td>310</td>\n",
       "      <td>0.0</td>\n",
       "      <td>16.10</td>\n",
       "      <td>-3.0</td>\n",
       "    </tr>\n",
       "  </tbody>\n",
       "</table>\n",
       "<p>10224 rows × 4 columns</p>\n",
       "</div>"
      ],
      "text/plain": [
       "                      NS  Precipitation  WindSpeed  Temperature\n",
       "StartTime                                                      \n",
       "2018-11-01 00:00:00  174            0.0       9.66          9.0\n",
       "2018-11-01 01:00:00  200            0.0       9.66          9.0\n",
       "2018-11-01 02:00:00  122            0.0       9.66          9.0\n",
       "2018-11-01 03:00:00   73            0.0      12.88          9.0\n",
       "2018-11-01 04:00:00   50            0.0      16.10          9.0\n",
       "...                  ...            ...        ...          ...\n",
       "2019-12-31 19:00:00  600            0.0      24.15         -2.0\n",
       "2019-12-31 20:00:00  695            0.0      24.15         -2.0\n",
       "2019-12-31 21:00:00  610            0.0      17.71         -3.0\n",
       "2019-12-31 22:00:00  500            0.0      12.88         -3.0\n",
       "2019-12-31 23:00:00  310            0.0      16.10         -3.0\n",
       "\n",
       "[10224 rows x 4 columns]"
      ]
     },
     "execution_count": 36,
     "metadata": {},
     "output_type": "execute_result"
    }
   ],
   "source": [
    "df_lstm.iloc[:, [0,4,5,6]]"
   ]
  },
  {
   "cell_type": "code",
   "execution_count": 37,
   "metadata": {},
   "outputs": [
    {
     "data": {
      "text/plain": [
       "[<matplotlib.lines.Line2D at 0x13e002890>]"
      ]
     },
     "execution_count": 37,
     "metadata": {},
     "output_type": "execute_result"
    },
    {
     "data": {
      "image/png": "[encoded data removed]",
      "text/plain": [
       "<Figure size 720x360 with 4 Axes>"
      ]
     },
     "metadata": {
      "needs_background": "light"
     },
     "output_type": "display_data"
    }
   ],
   "source": [
    "# plot hourly pickups with weather data.\n",
    "fig, ax = plt.subplots(nrows=4, ncols=1, figsize=(10,5))\n",
    "ax[0].plot(df_lstm[\"NS\"])\n",
    "ax[1].plot(df_lstm[\"Precipitation\"])\n",
    "ax[2].plot(df_lstm[\"WindSpeed\"])\n",
    "ax[3].plot(df_lstm[\"Temperature\"])"
   ]
  },
  {
   "cell_type": "markdown",
   "metadata": {},
   "source": [
    "# LSTM data preperation"
   ]
  },
  {
   "cell_type": "markdown",
   "metadata": {},
   "source": [
    "Frame dataset as supervised learning problem and MinMaxScale the data\n",
    "\n",
    "Try to predict ride hailing demand at hour (t) based on demand and weather data in period (t-1). Later try to predict based on past 24 hours (t-1 - t-24)"
   ]
  },
  {
   "cell_type": "code",
   "execution_count": 38,
   "metadata": {},
   "outputs": [
    {
     "data": {
      "text/html": [
       "<div>\n",
       "<style scoped>\n",
       "    .dataframe tbody tr th:only-of-type {\n",
       "        vertical-align: middle;\n",
       "    }\n",
       "\n",
       "    .dataframe tbody tr th {\n",
       "        vertical-align: top;\n",
       "    }\n",
       "\n",
       "    .dataframe thead th {\n",
       "        text-align: right;\n",
       "    }\n",
       "</style>\n",
       "<table border=\"1\" class=\"dataframe\">\n",
       "  <thead>\n",
       "    <tr style=\"text-align: right;\">\n",
       "      <th></th>\n",
       "      <th>NS</th>\n",
       "      <th>is_holiday</th>\n",
       "      <th>is_weekend</th>\n",
       "      <th>season</th>\n",
       "      <th>Precipitation</th>\n",
       "      <th>WindSpeed</th>\n",
       "      <th>Temperature</th>\n",
       "    </tr>\n",
       "    <tr>\n",
       "      <th>StartTime</th>\n",
       "      <th></th>\n",
       "      <th></th>\n",
       "      <th></th>\n",
       "      <th></th>\n",
       "      <th></th>\n",
       "      <th></th>\n",
       "      <th></th>\n",
       "    </tr>\n",
       "  </thead>\n",
       "  <tbody>\n",
       "    <tr>\n",
       "      <th>2018-11-01 00:00:00</th>\n",
       "      <td>174</td>\n",
       "      <td>0</td>\n",
       "      <td>0</td>\n",
       "      <td>2</td>\n",
       "      <td>0.0</td>\n",
       "      <td>9.66</td>\n",
       "      <td>9.0</td>\n",
       "    </tr>\n",
       "    <tr>\n",
       "      <th>2018-11-01 01:00:00</th>\n",
       "      <td>200</td>\n",
       "      <td>0</td>\n",
       "      <td>0</td>\n",
       "      <td>2</td>\n",
       "      <td>0.0</td>\n",
       "      <td>9.66</td>\n",
       "      <td>9.0</td>\n",
       "    </tr>\n",
       "    <tr>\n",
       "      <th>2018-11-01 02:00:00</th>\n",
       "      <td>122</td>\n",
       "      <td>0</td>\n",
       "      <td>0</td>\n",
       "      <td>2</td>\n",
       "      <td>0.0</td>\n",
       "      <td>9.66</td>\n",
       "      <td>9.0</td>\n",
       "    </tr>\n",
       "    <tr>\n",
       "      <th>2018-11-01 03:00:00</th>\n",
       "      <td>73</td>\n",
       "      <td>0</td>\n",
       "      <td>0</td>\n",
       "      <td>2</td>\n",
       "      <td>0.0</td>\n",
       "      <td>12.88</td>\n",
       "      <td>9.0</td>\n",
       "    </tr>\n",
       "    <tr>\n",
       "      <th>2018-11-01 04:00:00</th>\n",
       "      <td>50</td>\n",
       "      <td>0</td>\n",
       "      <td>0</td>\n",
       "      <td>2</td>\n",
       "      <td>0.0</td>\n",
       "      <td>16.10</td>\n",
       "      <td>9.0</td>\n",
       "    </tr>\n",
       "    <tr>\n",
       "      <th>...</th>\n",
       "      <td>...</td>\n",
       "      <td>...</td>\n",
       "      <td>...</td>\n",
       "      <td>...</td>\n",
       "      <td>...</td>\n",
       "      <td>...</td>\n",
       "      <td>...</td>\n",
       "    </tr>\n",
       "    <tr>\n",
       "      <th>2019-12-31 19:00:00</th>\n",
       "      <td>600</td>\n",
       "      <td>1</td>\n",
       "      <td>0</td>\n",
       "      <td>3</td>\n",
       "      <td>0.0</td>\n",
       "      <td>24.15</td>\n",
       "      <td>-2.0</td>\n",
       "    </tr>\n",
       "    <tr>\n",
       "      <th>2019-12-31 20:00:00</th>\n",
       "      <td>695</td>\n",
       "      <td>1</td>\n",
       "      <td>0</td>\n",
       "      <td>3</td>\n",
       "      <td>0.0</td>\n",
       "      <td>24.15</td>\n",
       "      <td>-2.0</td>\n",
       "    </tr>\n",
       "    <tr>\n",
       "      <th>2019-12-31 21:00:00</th>\n",
       "      <td>610</td>\n",
       "      <td>1</td>\n",
       "      <td>0</td>\n",
       "      <td>3</td>\n",
       "      <td>0.0</td>\n",
       "      <td>17.71</td>\n",
       "      <td>-3.0</td>\n",
       "    </tr>\n",
       "    <tr>\n",
       "      <th>2019-12-31 22:00:00</th>\n",
       "      <td>500</td>\n",
       "      <td>1</td>\n",
       "      <td>0</td>\n",
       "      <td>3</td>\n",
       "      <td>0.0</td>\n",
       "      <td>12.88</td>\n",
       "      <td>-3.0</td>\n",
       "    </tr>\n",
       "    <tr>\n",
       "      <th>2019-12-31 23:00:00</th>\n",
       "      <td>310</td>\n",
       "      <td>1</td>\n",
       "      <td>0</td>\n",
       "      <td>3</td>\n",
       "      <td>0.0</td>\n",
       "      <td>16.10</td>\n",
       "      <td>-3.0</td>\n",
       "    </tr>\n",
       "  </tbody>\n",
       "</table>\n",
       "<p>10224 rows × 7 columns</p>\n",
       "</div>"
      ],
      "text/plain": [
       "                      NS  is_holiday  is_weekend  season  Precipitation  \\\n",
       "StartTime                                                                 \n",
       "2018-11-01 00:00:00  174           0           0       2            0.0   \n",
       "2018-11-01 01:00:00  200           0           0       2            0.0   \n",
       "2018-11-01 02:00:00  122           0           0       2            0.0   \n",
       "2018-11-01 03:00:00   73           0           0       2            0.0   \n",
       "2018-11-01 04:00:00   50           0           0       2            0.0   \n",
       "...                  ...         ...         ...     ...            ...   \n",
       "2019-12-31 19:00:00  600           1           0       3            0.0   \n",
       "2019-12-31 20:00:00  695           1           0       3            0.0   \n",
       "2019-12-31 21:00:00  610           1           0       3            0.0   \n",
       "2019-12-31 22:00:00  500           1           0       3            0.0   \n",
       "2019-12-31 23:00:00  310           1           0       3            0.0   \n",
       "\n",
       "                     WindSpeed  Temperature  \n",
       "StartTime                                    \n",
       "2018-11-01 00:00:00       9.66          9.0  \n",
       "2018-11-01 01:00:00       9.66          9.0  \n",
       "2018-11-01 02:00:00       9.66          9.0  \n",
       "2018-11-01 03:00:00      12.88          9.0  \n",
       "2018-11-01 04:00:00      16.10          9.0  \n",
       "...                        ...          ...  \n",
       "2019-12-31 19:00:00      24.15         -2.0  \n",
       "2019-12-31 20:00:00      24.15         -2.0  \n",
       "2019-12-31 21:00:00      17.71         -3.0  \n",
       "2019-12-31 22:00:00      12.88         -3.0  \n",
       "2019-12-31 23:00:00      16.10         -3.0  \n",
       "\n",
       "[10224 rows x 7 columns]"
      ]
     },
     "execution_count": 38,
     "metadata": {},
     "output_type": "execute_result"
    }
   ],
   "source": [
    "df_lstm"
   ]
  },
  {
   "cell_type": "code",
   "execution_count": 39,
   "metadata": {},
   "outputs": [
    {
     "data": {
      "text/plain": [
       "(10223, 1)"
      ]
     },
     "execution_count": 39,
     "metadata": {},
     "output_type": "execute_result"
    }
   ],
   "source": [
    "# specify number of lag hours\n",
    "n_hours = 1\n",
    "n_features = 4\n",
    "n_obs = n_hours * n_features\n",
    "\n",
    "# diff1 = df_lstm.iloc[:, [0,4,5,6]].diff(n_hours)\n",
    "diff1 = df_lstm.iloc[:, [0]].diff(n_hours)\n",
    "diff1 = diff1.iloc[n_hours:, :]\n",
    "diff1.shape"
   ]
  },
  {
   "cell_type": "code",
   "execution_count": 40,
   "metadata": {},
   "outputs": [],
   "source": [
    "diff_dic = {}\n",
    "\n",
    "for count, item in enumerate(df_lstm[[\"NS\", \"Temperature\"]]):\n",
    "    diff = difference(df_lstm[:][item], 1)\n",
    "    diff_dic[item] = diff\n",
    "\n",
    "diff_df = pd.DataFrame(diff_dic)\n",
    "\n"
   ]
  },
  {
   "cell_type": "code",
   "execution_count": 41,
   "metadata": {},
   "outputs": [
    {
     "data": {
      "text/html": [
       "<div>\n",
       "<style scoped>\n",
       "    .dataframe tbody tr th:only-of-type {\n",
       "        vertical-align: middle;\n",
       "    }\n",
       "\n",
       "    .dataframe tbody tr th {\n",
       "        vertical-align: top;\n",
       "    }\n",
       "\n",
       "    .dataframe thead th {\n",
       "        text-align: right;\n",
       "    }\n",
       "</style>\n",
       "<table border=\"1\" class=\"dataframe\">\n",
       "  <thead>\n",
       "    <tr style=\"text-align: right;\">\n",
       "      <th></th>\n",
       "      <th>NS</th>\n",
       "    </tr>\n",
       "    <tr>\n",
       "      <th>StartTime</th>\n",
       "      <th></th>\n",
       "    </tr>\n",
       "  </thead>\n",
       "  <tbody>\n",
       "    <tr>\n",
       "      <th>2018-11-01 01:00:00</th>\n",
       "      <td>26.0</td>\n",
       "    </tr>\n",
       "    <tr>\n",
       "      <th>2018-11-01 02:00:00</th>\n",
       "      <td>-78.0</td>\n",
       "    </tr>\n",
       "  </tbody>\n",
       "</table>\n",
       "</div>"
      ],
      "text/plain": [
       "                       NS\n",
       "StartTime                \n",
       "2018-11-01 01:00:00  26.0\n",
       "2018-11-01 02:00:00 -78.0"
      ]
     },
     "execution_count": 41,
     "metadata": {},
     "output_type": "execute_result"
    }
   ],
   "source": [
    "diff1.head(2)"
   ]
  },
  {
   "cell_type": "code",
   "execution_count": 42,
   "metadata": {},
   "outputs": [
    {
     "data": {
      "text/html": [
       "<div>\n",
       "<style scoped>\n",
       "    .dataframe tbody tr th:only-of-type {\n",
       "        vertical-align: middle;\n",
       "    }\n",
       "\n",
       "    .dataframe tbody tr th {\n",
       "        vertical-align: top;\n",
       "    }\n",
       "\n",
       "    .dataframe thead th {\n",
       "        text-align: right;\n",
       "    }\n",
       "</style>\n",
       "<table border=\"1\" class=\"dataframe\">\n",
       "  <thead>\n",
       "    <tr style=\"text-align: right;\">\n",
       "      <th></th>\n",
       "      <th>NS</th>\n",
       "      <th>Temperature</th>\n",
       "    </tr>\n",
       "  </thead>\n",
       "  <tbody>\n",
       "    <tr>\n",
       "      <th>0</th>\n",
       "      <td>26</td>\n",
       "      <td>0.0</td>\n",
       "    </tr>\n",
       "    <tr>\n",
       "      <th>1</th>\n",
       "      <td>-78</td>\n",
       "      <td>0.0</td>\n",
       "    </tr>\n",
       "  </tbody>\n",
       "</table>\n",
       "</div>"
      ],
      "text/plain": [
       "   NS  Temperature\n",
       "0  26          0.0\n",
       "1 -78          0.0"
      ]
     },
     "execution_count": 42,
     "metadata": {},
     "output_type": "execute_result"
    }
   ],
   "source": [
    "diff_df.head(2)"
   ]
  },
  {
   "cell_type": "code",
   "execution_count": 43,
   "metadata": {},
   "outputs": [],
   "source": [
    "def ts_supervised(data, n_in=1, n_out=1, dropnan=True):\n",
    "    n_vars = 1 if type(data) is list else data.shape[1]\n",
    "    df = pd.DataFrame(data)\n",
    "    cols, names = list(), list()\n",
    "    # input sequence (t-n, ... t-1)\n",
    "    for i in range(n_in, 0, -1):\n",
    "        cols.append(df.shift(i))\n",
    "        names += [('var%d(t-%d)' % (j+1, i)) for j in range(n_vars)]\n",
    "    # forecast sequence (t, t+1, ... t+n)\n",
    "    for i in range(0, n_out):\n",
    "        cols.append(df.shift(-i))\n",
    "        if i == 0:\n",
    "            names += [('var%d(t)' % (j+1)) for j in range(n_vars)]\n",
    "        else:\n",
    "            names += [('var%d(t+%d)' % (j+1, i)) for j in range(n_vars)]\n",
    "    # put it all together\n",
    "    agg = pd.concat(cols, axis=1)\n",
    "    agg.columns = names\n",
    "    # drop rows with NaN values\n",
    "    if dropnan:\n",
    "        agg.dropna(inplace=True)\n",
    "    return agg\n",
    "\n",
    "# supervised = ts_supervised(diff1, n_hours)\n",
    "# # supervised = supervised.iloc[:, :-n_features+1]\n",
    "# supervised = df_lstm.iloc[:, [1,2,3,4,5,6]].merge(supervised, how=\"right\", left_index=True, right_index=True) \n",
    "# supervised.shape"
   ]
  },
  {
   "cell_type": "code",
   "execution_count": 45,
   "metadata": {},
   "outputs": [],
   "source": [
    "# making time series supervised\n",
    "supervised_dic = {}\n",
    "\n",
    "for col in diff_df:\n",
    "    supervised = ts_supervised(diff_df[[col]], 1)\n",
    "    supervised_dic[col] = supervised"
   ]
  },
  {
   "cell_type": "code",
   "execution_count": 93,
   "metadata": {},
   "outputs": [],
   "source": [
    "# merge supervised time series with weather data and holidays\n",
    "supervised_remerged_dic = {}\n",
    "\n",
    "for key in supervised_dic:\n",
    "    supervised_remerged = pd.concat([df_lstm.iloc[2:, 1:].set_index(supervised_dic[key].index), supervised_dic[key]], axis=1)\n",
    "    supervised_remerged_dic[key] = supervised_remerged\n",
    "    "
   ]
  },
  {
   "cell_type": "code",
   "execution_count": 95,
   "metadata": {},
   "outputs": [
    {
     "data": {
      "text/html": [
       "<div>\n",
       "<style scoped>\n",
       "    .dataframe tbody tr th:only-of-type {\n",
       "        vertical-align: middle;\n",
       "    }\n",
       "\n",
       "    .dataframe tbody tr th {\n",
       "        vertical-align: top;\n",
       "    }\n",
       "\n",
       "    .dataframe thead th {\n",
       "        text-align: right;\n",
       "    }\n",
       "</style>\n",
       "<table border=\"1\" class=\"dataframe\">\n",
       "  <thead>\n",
       "    <tr style=\"text-align: right;\">\n",
       "      <th></th>\n",
       "      <th>NS</th>\n",
       "      <th>is_holiday</th>\n",
       "      <th>is_weekend</th>\n",
       "      <th>season</th>\n",
       "      <th>Precipitation</th>\n",
       "      <th>WindSpeed</th>\n",
       "      <th>Temperature</th>\n",
       "    </tr>\n",
       "    <tr>\n",
       "      <th>StartTime</th>\n",
       "      <th></th>\n",
       "      <th></th>\n",
       "      <th></th>\n",
       "      <th></th>\n",
       "      <th></th>\n",
       "      <th></th>\n",
       "      <th></th>\n",
       "    </tr>\n",
       "  </thead>\n",
       "  <tbody>\n",
       "    <tr>\n",
       "      <th>2018-11-01 00:00:00</th>\n",
       "      <td>174</td>\n",
       "      <td>0</td>\n",
       "      <td>0</td>\n",
       "      <td>2</td>\n",
       "      <td>0.0</td>\n",
       "      <td>9.66</td>\n",
       "      <td>9.0</td>\n",
       "    </tr>\n",
       "    <tr>\n",
       "      <th>2018-11-01 01:00:00</th>\n",
       "      <td>200</td>\n",
       "      <td>0</td>\n",
       "      <td>0</td>\n",
       "      <td>2</td>\n",
       "      <td>0.0</td>\n",
       "      <td>9.66</td>\n",
       "      <td>9.0</td>\n",
       "    </tr>\n",
       "  </tbody>\n",
       "</table>\n",
       "</div>"
      ],
      "text/plain": [
       "                      NS  is_holiday  is_weekend  season  Precipitation  \\\n",
       "StartTime                                                                 \n",
       "2018-11-01 00:00:00  174           0           0       2            0.0   \n",
       "2018-11-01 01:00:00  200           0           0       2            0.0   \n",
       "\n",
       "                     WindSpeed  Temperature  \n",
       "StartTime                                    \n",
       "2018-11-01 00:00:00       9.66          9.0  \n",
       "2018-11-01 01:00:00       9.66          9.0  "
      ]
     },
     "execution_count": 95,
     "metadata": {},
     "output_type": "execute_result"
    }
   ],
   "source": [
    "df_lstm.head(2)"
   ]
  },
  {
   "cell_type": "code",
   "execution_count": null,
   "metadata": {},
   "outputs": [],
   "source": []
  },
  {
   "cell_type": "code",
   "execution_count": 94,
   "metadata": {},
   "outputs": [
    {
     "name": "stdout",
     "output_type": "stream",
     "text": [
      "(10222, 8)\n"
     ]
    },
    {
     "data": {
      "text/html": [
       "<div>\n",
       "<style scoped>\n",
       "    .dataframe tbody tr th:only-of-type {\n",
       "        vertical-align: middle;\n",
       "    }\n",
       "\n",
       "    .dataframe tbody tr th {\n",
       "        vertical-align: top;\n",
       "    }\n",
       "\n",
       "    .dataframe thead th {\n",
       "        text-align: right;\n",
       "    }\n",
       "</style>\n",
       "<table border=\"1\" class=\"dataframe\">\n",
       "  <thead>\n",
       "    <tr style=\"text-align: right;\">\n",
       "      <th></th>\n",
       "      <th>is_holiday</th>\n",
       "      <th>is_weekend</th>\n",
       "      <th>season</th>\n",
       "      <th>Precipitation</th>\n",
       "      <th>WindSpeed</th>\n",
       "      <th>Temperature</th>\n",
       "      <th>var1(t-1)</th>\n",
       "      <th>var1(t)</th>\n",
       "    </tr>\n",
       "  </thead>\n",
       "  <tbody>\n",
       "    <tr>\n",
       "      <th>1</th>\n",
       "      <td>0</td>\n",
       "      <td>0</td>\n",
       "      <td>2</td>\n",
       "      <td>0.0</td>\n",
       "      <td>9.66</td>\n",
       "      <td>9.0</td>\n",
       "      <td>26.0</td>\n",
       "      <td>-78</td>\n",
       "    </tr>\n",
       "    <tr>\n",
       "      <th>2</th>\n",
       "      <td>0</td>\n",
       "      <td>0</td>\n",
       "      <td>2</td>\n",
       "      <td>0.0</td>\n",
       "      <td>12.88</td>\n",
       "      <td>9.0</td>\n",
       "      <td>-78.0</td>\n",
       "      <td>-49</td>\n",
       "    </tr>\n",
       "    <tr>\n",
       "      <th>3</th>\n",
       "      <td>0</td>\n",
       "      <td>0</td>\n",
       "      <td>2</td>\n",
       "      <td>0.0</td>\n",
       "      <td>16.10</td>\n",
       "      <td>9.0</td>\n",
       "      <td>-49.0</td>\n",
       "      <td>-23</td>\n",
       "    </tr>\n",
       "    <tr>\n",
       "      <th>4</th>\n",
       "      <td>0</td>\n",
       "      <td>0</td>\n",
       "      <td>2</td>\n",
       "      <td>0.0</td>\n",
       "      <td>14.49</td>\n",
       "      <td>10.0</td>\n",
       "      <td>-23.0</td>\n",
       "      <td>30</td>\n",
       "    </tr>\n",
       "    <tr>\n",
       "      <th>5</th>\n",
       "      <td>0</td>\n",
       "      <td>0</td>\n",
       "      <td>2</td>\n",
       "      <td>0.0</td>\n",
       "      <td>16.10</td>\n",
       "      <td>10.0</td>\n",
       "      <td>30.0</td>\n",
       "      <td>61</td>\n",
       "    </tr>\n",
       "    <tr>\n",
       "      <th>...</th>\n",
       "      <td>...</td>\n",
       "      <td>...</td>\n",
       "      <td>...</td>\n",
       "      <td>...</td>\n",
       "      <td>...</td>\n",
       "      <td>...</td>\n",
       "      <td>...</td>\n",
       "      <td>...</td>\n",
       "    </tr>\n",
       "    <tr>\n",
       "      <th>10218</th>\n",
       "      <td>1</td>\n",
       "      <td>0</td>\n",
       "      <td>3</td>\n",
       "      <td>0.0</td>\n",
       "      <td>24.15</td>\n",
       "      <td>-2.0</td>\n",
       "      <td>-33.0</td>\n",
       "      <td>204</td>\n",
       "    </tr>\n",
       "    <tr>\n",
       "      <th>10219</th>\n",
       "      <td>1</td>\n",
       "      <td>0</td>\n",
       "      <td>3</td>\n",
       "      <td>0.0</td>\n",
       "      <td>24.15</td>\n",
       "      <td>-2.0</td>\n",
       "      <td>204.0</td>\n",
       "      <td>95</td>\n",
       "    </tr>\n",
       "    <tr>\n",
       "      <th>10220</th>\n",
       "      <td>1</td>\n",
       "      <td>0</td>\n",
       "      <td>3</td>\n",
       "      <td>0.0</td>\n",
       "      <td>17.71</td>\n",
       "      <td>-3.0</td>\n",
       "      <td>95.0</td>\n",
       "      <td>-85</td>\n",
       "    </tr>\n",
       "    <tr>\n",
       "      <th>10221</th>\n",
       "      <td>1</td>\n",
       "      <td>0</td>\n",
       "      <td>3</td>\n",
       "      <td>0.0</td>\n",
       "      <td>12.88</td>\n",
       "      <td>-3.0</td>\n",
       "      <td>-85.0</td>\n",
       "      <td>-110</td>\n",
       "    </tr>\n",
       "    <tr>\n",
       "      <th>10222</th>\n",
       "      <td>1</td>\n",
       "      <td>0</td>\n",
       "      <td>3</td>\n",
       "      <td>0.0</td>\n",
       "      <td>16.10</td>\n",
       "      <td>-3.0</td>\n",
       "      <td>-110.0</td>\n",
       "      <td>-190</td>\n",
       "    </tr>\n",
       "  </tbody>\n",
       "</table>\n",
       "<p>10222 rows × 8 columns</p>\n",
       "</div>"
      ],
      "text/plain": [
       "       is_holiday  is_weekend  season  Precipitation  WindSpeed  Temperature  \\\n",
       "1               0           0       2            0.0       9.66          9.0   \n",
       "2               0           0       2            0.0      12.88          9.0   \n",
       "3               0           0       2            0.0      16.10          9.0   \n",
       "4               0           0       2            0.0      14.49         10.0   \n",
       "5               0           0       2            0.0      16.10         10.0   \n",
       "...           ...         ...     ...            ...        ...          ...   \n",
       "10218           1           0       3            0.0      24.15         -2.0   \n",
       "10219           1           0       3            0.0      24.15         -2.0   \n",
       "10220           1           0       3            0.0      17.71         -3.0   \n",
       "10221           1           0       3            0.0      12.88         -3.0   \n",
       "10222           1           0       3            0.0      16.10         -3.0   \n",
       "\n",
       "       var1(t-1)  var1(t)  \n",
       "1           26.0      -78  \n",
       "2          -78.0      -49  \n",
       "3          -49.0      -23  \n",
       "4          -23.0       30  \n",
       "5           30.0       61  \n",
       "...          ...      ...  \n",
       "10218      -33.0      204  \n",
       "10219      204.0       95  \n",
       "10220       95.0      -85  \n",
       "10221      -85.0     -110  \n",
       "10222     -110.0     -190  \n",
       "\n",
       "[10222 rows x 8 columns]"
      ]
     },
     "execution_count": 94,
     "metadata": {},
     "output_type": "execute_result"
    }
   ],
   "source": [
    "print(supervised_remerged_dic[\"NS\"].shape)\n",
    "supervised_remerged_dic[\"NS\"]"
   ]
  },
  {
   "cell_type": "code",
   "execution_count": null,
   "metadata": {},
   "outputs": [],
   "source": [
    "n_feat = (len(supervised.columns)-1)\n",
    "\n",
    "def split_data(data):\n",
    "    # set fractions\n",
    "    train_size = int(len(data) * 0.8)\n",
    "    test_size = len(data) - train_size\n",
    "    \n",
    "    # split data into train and test sets\n",
    "    train = data[0:train_size]\n",
    "    test = data[train_size:]\n",
    "    \n",
    "    # split train and test further into x_train, y_train, x_test, y_test\n",
    "    # when using multiple time steps\n",
    "    x_train = train.iloc[:, :n_feat]\n",
    "    x_test = test.iloc[:, :n_feat]\n",
    "    \n",
    "    # y_train = train.iloc[:, -n_features]\n",
    "    # y_test = test.iloc[:, -n_features]\n",
    "    \n",
    "    y_train = train.iloc[:, -1]\n",
    "    y_test = test.iloc[:, -1]\n",
    "    \n",
    "    # when using 1 time step\n",
    "    # x_train = train.iloc[:, 0:4] # input for training set\n",
    "    # x_test = test.iloc[:, 0:4] # input for test set\n",
    "\n",
    "    # y_train = train.iloc[:, 4] # output for training set\n",
    "    # y_test = test.iloc[:, 4] # output for test set\n",
    "    \n",
    "    # convert into numpy arrays\n",
    "    x_train = x_train.to_numpy()\n",
    "    x_test = x_test.to_numpy()\n",
    "    y_train = y_train.to_numpy()\n",
    "    y_test = y_test.to_numpy()\n",
    "    \n",
    "    # reshape to make numpy arrays into 2D\n",
    "    # x_train = x_train.reshape(-1,1)\n",
    "    # x_test = x_test.reshape(-1,1)\n",
    "    y_train = y_train.reshape(-1,1)\n",
    "    y_test = y_test.reshape(-1,1)\n",
    "    \n",
    "    return train, test, x_train, x_test, y_train, y_test\n",
    "\n",
    "train, test, x_train, x_test, y_train, y_test = split_data(supervised)\n",
    "print(train.shape, test.shape, x_train.shape, x_test.shape, y_train.shape, y_test.shape)\n"
   ]
  },
  {
   "cell_type": "code",
   "execution_count": null,
   "metadata": {},
   "outputs": [],
   "source": [
    "n_feat"
   ]
  },
  {
   "cell_type": "code",
   "execution_count": null,
   "metadata": {},
   "outputs": [],
   "source": [
    "def scale(x_train, x_test, y_train, y_test):\n",
    "    # fit scaler\n",
    "    x_scaler = MinMaxScaler(feature_range=(-1,1))\n",
    "    x_scaler = x_scaler.fit(x_train)\n",
    "    y_scaler = MinMaxScaler(feature_range=(-1,1))\n",
    "    y_scaler = y_scaler.fit(y_train)\n",
    "    \n",
    "    x_train_scaled = x_scaler.transform(x_train)\n",
    "    x_test_scaled = x_scaler.transform(x_test)\n",
    "    y_train_scaled = y_scaler.transform(y_train)\n",
    "    y_test_scaled = y_scaler.transform(y_test)\n",
    "    \n",
    "    x_train_scaled = np.reshape(x_train_scaled, (x_train_scaled.shape[0], n_hours, n_feat))\n",
    "    x_test_scaled = np.reshape(x_test_scaled, (x_test_scaled.shape[0], n_hours, n_feat))\n",
    "    \n",
    "    return x_scaler, y_scaler, x_train_scaled, x_test_scaled, y_train_scaled, y_test_scaled\n",
    "\n",
    "x_scaler, y_scaler, x_train_scaled, x_test_scaled, y_train_scaled, y_test_scaled = scale(x_train, x_test, y_train, y_test)\n",
    "print(x_train_scaled.shape, x_test_scaled.shape, y_train_scaled.shape, y_test_scaled.shape)"
   ]
  },
  {
   "cell_type": "code",
   "execution_count": null,
   "metadata": {},
   "outputs": [],
   "source": [
    "def fit_lstm(x_train_scaled, y_train_scaled, batch, ep, neurons_lstm, neuron_dense):\n",
    "    model = Sequential()\n",
    "    model.add(LSTM(units=neurons_lstm, input_shape=(x_train_scaled.shape[1], x_train_scaled.shape[2])))\n",
    "    model.add(Dropout(rate=0.2))\n",
    "    model.add(Dense(units=neuron_dense))\n",
    "    model.compile(loss=\"mean_squared_error\", \n",
    "                  optimizer=\"adam\",\n",
    "                 )\n",
    "    \n",
    "    history = model.fit(x_train_scaled, \n",
    "                        y_train_scaled, \n",
    "                        epochs=ep, \n",
    "                        batch_size=batch, \n",
    "                        validation_split=0.1, \n",
    "                        verbose=2, \n",
    "                        shuffle=False)\n",
    "    return model, history"
   ]
  },
  {
   "cell_type": "code",
   "execution_count": null,
   "metadata": {
    "scrolled": true
   },
   "outputs": [],
   "source": [
    "model, history = fit_lstm(x_train_scaled, \n",
    "                          y_train_scaled, \n",
    "                          batch=100, ep=50, \n",
    "                          neurons_lstm=5, \n",
    "                          neuron_dense=1)"
   ]
  },
  {
   "cell_type": "code",
   "execution_count": null,
   "metadata": {
    "scrolled": true
   },
   "outputs": [],
   "source": [
    "#Evaluate Network\n",
    "plt.plot(history.history[\"loss\"], label=\"train\")\n",
    "plt.plot(history.history[\"val_loss\"], label=\"validation\")\n",
    "plt.legend()\n",
    "plt.xlabel(\"Epochs\")\n",
    "plt.ylabel(\"Loss\")"
   ]
  },
  {
   "cell_type": "code",
   "execution_count": null,
   "metadata": {},
   "outputs": [],
   "source": [
    "def predictions_lstm(x_test_scaled, y_test):\n",
    "    # get predictions\n",
    "    test_pred = model.predict(x_test_scaled)\n",
    "    \n",
    "    # reverse transform predictions\n",
    "    test_pred_inv = y_scaler.inverse_transform(test_pred)\n",
    "    \n",
    "    # reverse differencing predictions\n",
    "    inverted_pred = list()\n",
    "    for i in range(len(test_pred_inv)):\n",
    "        value = inverse_difference(df_lstm.iloc[:,0], test_pred_inv[i], len(test_pred_inv)-i)\n",
    "        inverted_pred.append(value)\n",
    "    inverted_pred = pd.DataFrame(inverted_pred)\n",
    "    \n",
    "    # reverse differencing y_test\n",
    "    inverted_ytest = list()\n",
    "    for i in range(len(y_test)):\n",
    "        value = inverse_difference(df_lstm.iloc[:,0], y_test[i], len(y_test)+1-i)\n",
    "        inverted_ytest.append(value)\n",
    "    inverted_ytest = pd.DataFrame(inverted_ytest)\n",
    "    \n",
    "    # create single dataframe with predictions (1) and expected values (2)\n",
    "    predictions = np.concatenate((inverted_pred, inverted_ytest), axis=1)\n",
    "    predictions = pd.DataFrame(predictions)\n",
    "    \n",
    "    return test_pred, test_pred_inv, predictions\n",
    "\n",
    "test_pred, test_pred_inv, predictions = predictions_lstm(x_test_scaled, y_test)\n",
    "\n",
    "print(test_pred.shape, test_pred_inv.shape, predictions.shape)\n",
    "\n"
   ]
  },
  {
   "cell_type": "code",
   "execution_count": null,
   "metadata": {},
   "outputs": [],
   "source": [
    "evaluate_lstm(predictions, start_val=1000, end_val=1100)"
   ]
  },
  {
   "cell_type": "markdown",
   "metadata": {},
   "source": [
    "# Buidling robust results"
   ]
  },
  {
   "cell_type": "markdown",
   "metadata": {},
   "source": [
    "Here, I repeat the predictions multiple and average RMSE."
   ]
  },
  {
   "cell_type": "code",
   "execution_count": null,
   "metadata": {
    "scrolled": true
   },
   "outputs": [],
   "source": [
    "repeats = 3\n",
    "error_scores = list()\n",
    "\n",
    "for i in range(repeats):\n",
    "    # fit the model\n",
    "    model, history = fit_lstm(x_train_scaled, \n",
    "                              y_train_scaled, \n",
    "                              batch=100, ep=10, \n",
    "                              neurons_lstm=5, \n",
    "                              neuron_dense=1)\n",
    "    # make predictions\n",
    "    predictions = predictions_lstm(x_test_scaled, y_test)\n",
    "    # report performance\n",
    "    rmse = np.sqrt(mean_squared_error(predictions[0], predictions[1]))\n",
    "    print('%d) Test RMSE: %.3f' % (i+1, rmse))\n",
    "    error_scores.append(rmse)\n",
    "\n",
    "    # summarize the results\n",
    "    results = pd.DataFrame()\n",
    "    results[\"rmse\"] = error_scores\n",
    "    print(results.head())\n",
    "    print(results.describe())\n",
    "    results.boxplot()"
   ]
  }
 ],
 "metadata": {
  "kernelspec": {
   "display_name": "Python 3",
   "language": "python",
   "name": "python3"
  },
  "language_info": {
   "codemirror_mode": {
    "name": "ipython",
    "version": 3
   },
   "file_extension": ".py",
   "mimetype": "text/x-python",
   "name": "python",
   "nbconvert_exporter": "python",
   "pygments_lexer": "ipython3",
   "version": "3.7.4"
  }
 },
 "nbformat": 4,
 "nbformat_minor": 2
}
